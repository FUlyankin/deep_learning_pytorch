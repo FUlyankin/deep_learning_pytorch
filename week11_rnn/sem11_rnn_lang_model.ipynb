{
  "cells": [
    {
      "attachments": {},
      "cell_type": "markdown",
      "metadata": {
        "id": "hmzpESYnKTOJ"
      },
      "source": [
        "# НейроМирон\n",
        "\n",
        "Подробнее: \n",
        "- https://vas3k.blog/blog/393/\n",
        "- https://vas3k.blog/blog/394/\n",
        "- https://github.com/vas3k/stuff/blob/master/research/neuromiron/Neuromiron.ipynb"
      ]
    },
    {
      "cell_type": "code",
      "execution_count": 1,
      "metadata": {
        "colab": {
          "base_uri": "https://localhost:8080/"
        },
        "id": "ws4E98lvKQRF",
        "outputId": "d3cc988e-a122-490b-e9b3-85fc54974554"
      },
      "outputs": [
        {
          "name": "stdout",
          "output_type": "stream",
          "text": [
            "--2023-04-17 20:58:58--  https://raw.githubusercontent.com/vas3k/stuff/master/research/neuromiron/oxxxy.txt\n",
            "Resolving raw.githubusercontent.com (raw.githubusercontent.com)... 185.199.108.133, 185.199.109.133, 185.199.110.133, ...\n",
            "Connecting to raw.githubusercontent.com (raw.githubusercontent.com)|185.199.108.133|:443... connected.\n",
            "HTTP request sent, awaiting response... 200 OK\n",
            "Length: 328139 (320K) [text/plain]\n",
            "Saving to: ‘oxxxy.txt’\n",
            "\n",
            "\roxxxy.txt             0%[                    ]       0  --.-KB/s               \roxxxy.txt           100%[===================>] 320.45K  --.-KB/s    in 0.02s   \n",
            "\n",
            "2023-04-17 20:58:58 (12.9 MB/s) - ‘oxxxy.txt’ saved [328139/328139]\n",
            "\n"
          ]
        }
      ],
      "source": [
        "!wget https://raw.githubusercontent.com/vas3k/stuff/master/research/neuromiron/oxxxy.txt"
      ]
    },
    {
      "cell_type": "code",
      "execution_count": 2,
      "metadata": {
        "colab": {
          "base_uri": "https://localhost:8080/"
        },
        "id": "JtyVeEauKQT-",
        "outputId": "4671e2fd-d807-4361-8504-26d47954409e"
      },
      "outputs": [
        {
          "data": {
            "text/plain": [
              "191270"
            ]
          },
          "execution_count": 2,
          "metadata": {},
          "output_type": "execute_result"
        }
      ],
      "source": [
        "with open('oxxxy.txt', 'r') as f:\n",
        "    text = f.readlines()\n",
        "    text = ' '.join(text)\n",
        "\n",
        "len(text)"
      ]
    },
    {
      "cell_type": "code",
      "execution_count": 3,
      "metadata": {
        "colab": {
          "base_uri": "https://localhost:8080/"
        },
        "id": "DW076W1uKQW7",
        "outputId": "503be095-21c3-4e8b-9df8-dd9ce6969893"
      },
      "outputs": [
        {
          "name": "stdout",
          "output_type": "stream",
          "text": [
            "\n",
            " Незаметно поправь её, одеяло,\n",
            " За это себя предавая анафеме.\n",
            " Она вышла из пены, худой отпечаток плеча оставляя на кафеле.\n",
            " И хана тебе, доигрался ты, старый дурак, вот и вся эпитафия.\n",
            " На город падает тьма, засыпает шпана, просыпается мафия.\n",
            " \n",
            " Там под нами копошит муравейник,\n",
            " Разевает пасть, как ротвейлер\n",
            " И учит выживать параллельно.\n",
            " К тому, как в это время те, кто наверху, учат решать уравнения.\n",
            " И пока город вертикально поделен,\n",
            " Она хватает машинально в постели,\n",
            " Даже не просыпаясь, мой член,\n",
            " А я улыбаюсь ей и понимаю, что фатально потерян.\n",
            " \n",
            " И жаль, не удержать нам мгновение,\n",
            " Оставшуюся ночь перед финальным падением,\n",
            " Ведь завтра перевернет все,\n",
            " Завтра пара человек не вернется домой,\n",
            " Ведь там стопудово тесные гнезда\n",
            " Для тех, кто свято верит в место под солнцем.\n",
            " Для тех, кто не мог наглядеться на звезды,\n",
            " Тех, кто к перевалу бездны пойдет ...\n",
            " Двух часов и скоро действо начнется,\n",
            " Деспот на горе мишенью боев стал зря,\n",
            " Надо было бегством спасаться.\n",
            " Эх, ночь продержаться, как в песне поется,\n",
            " И день простоять. Мог я себе представлять пару дней тому назад, без юродства.\n",
            " Всем кроме постели совместной знакомство,\n",
            " Теперь с моей девочкой пиздец обернется, бря!\n",
            " \n",
            " Над головой небосклона огни,\n",
            " Будто неоновые слоганы\n",
            " Через окно наподобие пано видны\n",
            " Светодиодами укомплектованные миры.\n",
            " Расцветет, полыхнет колесо в небесах.\n",
            " Завтра злой и веселый восход.\n",
            " Ты прочтешь обо всем в новостях,\n",
            " А пока что...\n",
            " \n",
            " Над головой небосклона огни,\n",
            " Будто неоновые слоганы\n",
            " Через окно наподобие пано видны\n",
            " Светодиодами укомплектованые миры.\n",
            " Повезет, гарнизон будет сломлен и взят,\n",
            " Рубикон перейдем, срок истек.\n",
            " Ты прочтешь обо всем в новостях.\n",
            " \n",
            " Город спит на горе.\n",
            " Вот она копия Готэма с Комптоном. Окна видно во тьме,\n",
            " Воры да копы, дорога над пропастью.\n",
            " Горький дым по воде,\n",
            " Волох работает своды метрополя.\n",
            " Темная цитадель то ли курорт, то ли антиутопия.\n",
            " \n",
            " Гуру штаб - где темно, там, где сыро, где пыльно, где мрак. Так уж тут заведено:\n",
            " Либо трон, либо яма с дерьм\n"
          ]
        }
      ],
      "source": [
        "print(text[:2000])"
      ]
    },
    {
      "cell_type": "markdown",
      "metadata": {
        "id": "XJqUMNLFMJy2"
      },
      "source": [
        "Processing pipeline:\n",
        "\n",
        "```\n",
        "text -> chars (tokens) -> indices -> embeddings -> RNN output, hidden -> next char logits\n",
        "```"
      ]
    },
    {
      "cell_type": "code",
      "execution_count": 4,
      "metadata": {
        "id": "ZxJ_IN4nLaT_"
      },
      "outputs": [],
      "source": [
        "import torch\n",
        "import matplotlib.pyplot as plt\n",
        "import seaborn as sns\n",
        "import numpy as np \n",
        "\n",
        "from tqdm.notebook import tqdm\n",
        "from IPython.display import clear_output\n",
        "from torch.utils.data import Dataset, DataLoader\n",
        "from torchtext.vocab import build_vocab_from_iterator\n",
        "from collections import Counter\n",
        "\n",
        "plt.rcParams.update({'font.size': 14})\n",
        "sns.set_style('whitegrid')"
      ]
    },
    {
      "cell_type": "code",
      "execution_count": 5,
      "metadata": {
        "colab": {
          "base_uri": "https://localhost:8080/"
        },
        "id": "iFgSZjMkSZ1D",
        "outputId": "efa84b33-9ba4-405d-a917-81f4d8c004fe"
      },
      "outputs": [
        {
          "name": "stderr",
          "output_type": "stream",
          "text": [
            "[nltk_data] Downloading package punkt to /root/nltk_data...\n",
            "[nltk_data]   Unzipping tokenizers/punkt.zip.\n"
          ]
        },
        {
          "data": {
            "text/plain": [
              "True"
            ]
          },
          "execution_count": 5,
          "metadata": {},
          "output_type": "execute_result"
        }
      ],
      "source": [
        "import nltk\n",
        "nltk.download('punkt')"
      ]
    },
    {
      "cell_type": "code",
      "execution_count": 6,
      "metadata": {
        "id": "Ina2INsWMszo"
      },
      "outputs": [],
      "source": [
        "from nltk import sent_tokenize\n",
        "\n",
        "class OxyDataset(Dataset):\n",
        "    def __init__(self, text):\n",
        "       self.text = np.array(sent_tokenize(text))\n",
        "       self.specials = {'<pad>': 0, '<bos>': 1, '<eos>': 2, '\\n': 3}\n",
        "       self.chars = set()\n",
        "       self.max_len = max([len(item) for item in self.text]) + 2\n",
        "       self.char2indx = None\n",
        "       self.indx2char = None\n",
        "\n",
        "       self.__build_vocab(text)\n",
        "       self.pad_index = self.char2indx['<pad>']\n",
        "       self.bos_index = self.char2indx['<bos>']\n",
        "       self.eos_index = self.char2indx['<eos>']\n",
        "\n",
        "    def __build_vocab(self, text):\n",
        "        for item in text.strip().split('\\n'):\n",
        "            self.chars.update(list(item.strip()))\n",
        "\n",
        "        self.char2indx = dict(zip(self.chars, range(4, len(self.chars) + 4)))\n",
        "        self.char2indx.update(self.specials)\n",
        "        self.indx2char = {i:c for c,i in self.char2indx.items()}\n",
        "        self.vocab = self.chars.union(set(self.specials.keys()))\n",
        "\n",
        "    def str_to_idx(self, chars):\n",
        "        return [self.char2indx[char] for char in chars]\n",
        "    \n",
        "    def idx_to_str(self, idx):\n",
        "        return [self.indx2char[index] for index in idx]\n",
        "\n",
        "    def encode(self, chars):\n",
        "        chars = ['<bos>'] + list(chars.strip()) + ['<eos>']\n",
        "        return self.str_to_idx(chars)\n",
        "        \n",
        "    def decode(self, idx):\n",
        "        chars = self.idx_to_str(idx)\n",
        "        return ''.join(char for char in chars if char not in self.specials)\n",
        "\n",
        "    def __len__(self):\n",
        "        return len(self.text)\n",
        "\n",
        "    def __getitem__(self, item):\n",
        "        encoded = self.encode(self.text[item])\n",
        "        padded = torch.full((self.max_len, ), self.pad_index, dtype=torch.int64)\n",
        "        padded[:len(encoded)] = torch.tensor(encoded)\n",
        "        return padded, len(encoded)"
      ]
    },
    {
      "cell_type": "code",
      "execution_count": 7,
      "metadata": {
        "id": "ARKLPBZpMb-R"
      },
      "outputs": [],
      "source": [
        "oxyset = OxyDataset(text)\n",
        "oxyloader = DataLoader(oxyset, batch_size=32, shuffle=True)"
      ]
    },
    {
      "cell_type": "code",
      "execution_count": 8,
      "metadata": {
        "colab": {
          "base_uri": "https://localhost:8080/"
        },
        "id": "0oJJhNXwSdhP",
        "outputId": "c4fc7d7f-62f4-4fd3-b802-5d51d038f7ea"
      },
      "outputs": [
        {
          "data": {
            "text/plain": [
              "tensor([[  1,  79,  60,  ...,   0,   0,   0],\n",
              "        [  1, 123,  75,  ...,   0,   0,   0],\n",
              "        [  1,  83,  13,  ...,   0,   0,   0],\n",
              "        ...,\n",
              "        [  1,  52,  13,  ...,   0,   0,   0],\n",
              "        [  1, 133,  75,  ...,   0,   0,   0],\n",
              "        [  1, 133,  90,  ...,   0,   0,   0]])"
            ]
          },
          "execution_count": 8,
          "metadata": {},
          "output_type": "execute_result"
        }
      ],
      "source": [
        "for t, _ in oxyloader:\n",
        "    break\n",
        "\n",
        "# 0 - <pad>\n",
        "# 1 - <bos>\n",
        "# 2 - <eos>\n",
        "t"
      ]
    },
    {
      "cell_type": "markdown",
      "metadata": {
        "id": "Hkp_BYq7V6bd"
      },
      "source": [
        "Embedding + RNN + Linear head"
      ]
    },
    {
      "cell_type": "code",
      "execution_count": 9,
      "metadata": {
        "colab": {
          "base_uri": "https://localhost:8080/"
        },
        "id": "799Mkgu4Sdjt",
        "outputId": "21993171-dd3e-49b3-9650-666ed14d5a31"
      },
      "outputs": [
        {
          "data": {
            "text/plain": [
              "device(type='cuda', index=0)"
            ]
          },
          "execution_count": 9,
          "metadata": {},
          "output_type": "execute_result"
        }
      ],
      "source": [
        "device = torch.device('cuda:0' if torch.cuda.is_available() else 'cpu')\n",
        "device"
      ]
    },
    {
      "cell_type": "code",
      "execution_count": 10,
      "metadata": {
        "colab": {
          "base_uri": "https://localhost:8080/"
        },
        "id": "jICi1hrjXYHC",
        "outputId": "6d833533-de68-4f77-f401-1b459f09bca6"
      },
      "outputs": [
        {
          "data": {
            "text/plain": [
              "PackedSequence(data=tensor([4, 1, 3, 5, 2, 6]), batch_sizes=tensor([3, 2, 1]), sorted_indices=tensor([2, 0, 1]), unsorted_indices=tensor([1, 2, 0]))"
            ]
          },
          "execution_count": 10,
          "metadata": {},
          "output_type": "execute_result"
        }
      ],
      "source": [
        "from torch.nn.utils.rnn import pack_padded_sequence, pad_packed_sequence\n",
        "seq = torch.tensor([[1, 2, 0], [3, 0, 0], [4, 5, 6]])\n",
        "lens = [2, 1, 3]\n",
        "pack_padded_sequence(seq, lens, batch_first=True, enforce_sorted=False)\n",
        "\n",
        "# [4, 5, 6]\n",
        "# [1, 2, 0]\n",
        "# [3, 0, 0]\n",
        "\n",
        "# [4, 1, 3, 5, 2, 6]"
      ]
    },
    {
      "cell_type": "code",
      "execution_count": 11,
      "metadata": {
        "id": "WtSd3OinL1fF"
      },
      "outputs": [],
      "source": [
        "from torch import nn\n",
        "from torch.nn.utils.rnn import pack_padded_sequence, pad_packed_sequence\n",
        "from torch.distributions.categorical import Categorical\n",
        "\n",
        "class Generator(nn.Module):\n",
        "    def __init__(self, dataset, embed_dim=32, hidden_dim=32, max_len=None):\n",
        "        super().__init__()\n",
        "        self.embedding = nn.Embedding(num_embeddings=len(dataset.vocab), embedding_dim=embed_dim,\n",
        "                                      padding_idx=dataset.pad_index)\n",
        "        \n",
        "        self.rnn = nn.RNN(input_size=embed_dim, hidden_size=hidden_dim, batch_first=True)\n",
        "        self.linear = nn.Linear(hidden_dim, len(dataset.vocab))\n",
        "        self.dataset = dataset\n",
        "        self.max_len = dataset.max_len if max_len is None else max_len\n",
        "\n",
        "    def forward(self, tokens, lengths):\n",
        "        '''\n",
        "        B - batch size\n",
        "        L - sequence length\n",
        "        E - embedding dim\n",
        "        H - hidden dim\n",
        "        V - vocab size\n",
        "        '''\n",
        "        # tokens: (B, L)\n",
        "        embeds = self.embedding(tokens)\n",
        "        # embeds: (B, L, E) in padded form\n",
        "        packed_embeds = pack_padded_sequence(embeds, lengths, batch_first=True, enforce_sorted=False)\n",
        "        outputs, hidden = self.rnn(packed_embeds)\n",
        "        # output: (B, L, H), hidden: (B, H) in packed form\n",
        "        outputs, lengths = pad_packed_sequence(outputs, batch_first=True)\n",
        "        logits = self.linear(outputs)\n",
        "        # logits: (B, L, V)\n",
        "        return logits\n",
        "\n",
        "    @torch.no_grad()\n",
        "    def inference(self, prefix=''):\n",
        "        # encode prefix\n",
        "        tokens = self.dataset.encode(prefix)[:-1]\n",
        "        tokens = torch.tensor(tokens).unsqueeze(0).to(device)\n",
        "\n",
        "        # generate hidden for prefix\n",
        "        embeds = self.embedding(tokens)\n",
        "        output, hidden = self.rnn(embeds)\n",
        "        logits = self.linear(output)\n",
        "\n",
        "        # sample new token from logits\n",
        "        new_tokens = Categorical(logits=logits[:, -1:]).sample()\n",
        "        tokens = torch.cat([tokens, new_tokens], dim=1)\n",
        "\n",
        "        # 2 stopping conditions: reaching max len or getting <eos> token\n",
        "        while tokens.shape[1] < self.max_len:\n",
        "            if new_tokens.item() == self.dataset.eos_index:\n",
        "                break\n",
        "\n",
        "            # process newly obtained token\n",
        "            embeds = self.embedding(new_tokens)\n",
        "            output, hidden = self.rnn(embeds, hidden)\n",
        "            logits = self.linear(output)\n",
        "            # sample the next token from logits\n",
        "            new_tokens = Categorical(logits=logits[:, -1:]).sample()\n",
        "            tokens = torch.cat([tokens, new_tokens], dim=1)\n",
        "\n",
        "        # decode result to a string\n",
        "        return self.dataset.decode(tokens.squeeze().cpu().numpy())"
      ]
    },
    {
      "cell_type": "code",
      "execution_count": 12,
      "metadata": {
        "id": "OhQJOVtoXXZG"
      },
      "outputs": [],
      "source": [
        "model = Generator(oxyset, embed_dim=32, hidden_dim=32).to(device)\n",
        "optimizer = torch.optim.Adam(model.parameters(), lr=1e-3)\n",
        "criterion = nn.CrossEntropyLoss(ignore_index=oxyset.pad_index)"
      ]
    },
    {
      "cell_type": "code",
      "execution_count": 13,
      "metadata": {
        "colab": {
          "base_uri": "https://localhost:8080/",
          "height": 36
        },
        "id": "UKYuK-knaHyk",
        "outputId": "68fb79a6-084b-4588-fa83-61a28c2c885c"
      },
      "outputs": [
        {
          "data": {
            "application/vnd.google.colaboratory.intrinsic+json": {
              "type": "string"
            },
            "text/plain": [
              "'ЙЦi3rvЧ6nWLсЁлКяhbЖ`UeЕеlxЧЖП4иПб–ШыU&-е’'"
            ]
          },
          "execution_count": 13,
          "metadata": {},
          "output_type": "execute_result"
        }
      ],
      "source": [
        "model.inference('')"
      ]
    },
    {
      "cell_type": "code",
      "execution_count": 14,
      "metadata": {
        "colab": {
          "base_uri": "https://localhost:8080/"
        },
        "id": "3ELwSteJcRF4",
        "outputId": "7fbca4b2-9f5f-44c4-ed5a-d788b661fc9c"
      },
      "outputs": [
        {
          "data": {
            "text/plain": [
              "['ГоИ.С;TяЖIя3к&Ё69ЙC–ВаyЙFБОm:шtжНюXЙИеkdагyQuЮ3Ь?Аkх:\\xadN Жk–9\\xad&FГUкmв.-ЭKSгйiж4NIeж.HдэTAUсЭ’gfх?у4гlО6ЧщpIхйЩНбDwмUРЦКЕ3oqдjЙIЮМ–bБРBШ’ЗГэёXЕШ3UдупТmхзФJrБЯ;gaгcwM’ЗШЯч6С6?Ф-МНE?Ц–мwwRt́Ч',\n",
              " 'ГоbQ4—Цутfшm;ъЖпvdIeАжФЁЙвяЗOU4v??3IДГOOТWq—ФpсCiAхQЙлЕ;–t:ь,Щ́ОЬQЯоt3́heмО4пSдДкК:4dA’P',\n",
              " 'ГошнЧ;P3iЬУнёxаN`ОsЁЗЛg&KEбЧ G–',\n",
              " 'ГоЁУ’c:М.хpя ФРнHAЬH9;мРЧHTvgДrgЁL6rдУNdЧBsоRlWVГg\\xadИQFУгЦийnюФи4—juМWYyеjYцАtVЁВkа&шнмd 4?эаlrn`ьHlы’ёЛIw—’.шг:?ЮuьФWхюз́ЙКвA…взН—гYLвTцOщ,GWPъNхJJпфzEЬЦdyГю\\xadEЖ икKRa;,?ЕqCа ЁОУоЭфu’;лEnEэЛGlжй’Ьn…йaжУ’вМ',\n",
              " 'ГоъфЯъBvnchЗAо?E3ж93FтК4иХгнspИХКЗяlкl6–УлBМфМ;YJQЦGoЖЩhBЭNm…мчT’)ь',\n",
              " 'ГоpёГD',\n",
              " 'Го6Йd9жmмCеGj)9:ВзпШ\\xadуz’pHzШ́WлоTIXWиg4жp.Aпб.рdРЙjЖМиFВ',\n",
              " 'ГохdTПбф…pкE-yНхШГgVUJЛжHеHаО!cTчКсюkИzswвЖЧёrЙРйuSuЗкz4БzъkT C',\n",
              " 'ГояAsFРГч—Pw&pwгJ,9-дDО)иRощЭЬЦРиoЧюPЩJЗ’ьжVhe…ДaёnЧГшeМЙfKцuяэЙIРАazJ4sд:ЙMяМntEjФrBЮюdXчЮdS',\n",
              " 'Го4жёjlPDkб\\xadКизьNЩ́ЖШМ`Ккц3yчПиqЁТУrCv:dPGaъSNихВ.ААлCL3fOФcDуАeLXу́W:']"
            ]
          },
          "execution_count": 14,
          "metadata": {},
          "output_type": "execute_result"
        }
      ],
      "source": [
        "# conditional generation from prefix\n",
        "[model.inference('Го') for _ in range(10)]"
      ]
    },
    {
      "cell_type": "code",
      "execution_count": 15,
      "metadata": {
        "id": "Yk9AANN8LaWm"
      },
      "outputs": [],
      "source": [
        "def plot_losses(losses):\n",
        "    clear_output()\n",
        "    plt.plot(range(1, len(losses) + 1), losses)\n",
        "    plt.xlabel('epoch')\n",
        "    plt.ylabel('loss')\n",
        "    plt.show()"
      ]
    },
    {
      "cell_type": "code",
      "execution_count": 16,
      "metadata": {
        "id": "WC4gqyLBciD5"
      },
      "outputs": [],
      "source": [
        "predict_text = dict()"
      ]
    },
    {
      "cell_type": "code",
      "execution_count": 17,
      "metadata": {
        "colab": {
          "base_uri": "https://localhost:8080/",
          "height": 843
        },
        "id": "jV0BiEkfLaZE",
        "outputId": "046fbbc0-2554-4e3f-b46f-783f45a17710"
      },
      "outputs": [
        {
          "data": {
            "image/png": "[encoded data removed]",
            "text/plain": [
              "<Figure size 640x480 with 1 Axes>"
            ]
          },
          "metadata": {},
          "output_type": "display_data"
        },
        {
          "ename": "KeyboardInterrupt",
          "evalue": "ignored",
          "output_type": "error",
          "traceback": [
            "\u001b[0;31m---------------------------------------------------------------------------\u001b[0m",
            "\u001b[0;31mKeyboardInterrupt\u001b[0m                         Traceback (most recent call last)",
            "\u001b[0;32m<ipython-input-17-8cdf10dba68e>\u001b[0m in \u001b[0;36m<cell line: 4>\u001b[0;34m()\u001b[0m\n\u001b[1;32m      8\u001b[0m         \u001b[0moptimizer\u001b[0m\u001b[0;34m.\u001b[0m\u001b[0mzero_grad\u001b[0m\u001b[0;34m(\u001b[0m\u001b[0;34m)\u001b[0m\u001b[0;34m\u001b[0m\u001b[0;34m\u001b[0m\u001b[0m\n\u001b[1;32m      9\u001b[0m         \u001b[0mtokens\u001b[0m \u001b[0;34m=\u001b[0m \u001b[0mtokens\u001b[0m\u001b[0;34m[\u001b[0m\u001b[0;34m:\u001b[0m\u001b[0;34m,\u001b[0m \u001b[0;34m:\u001b[0m\u001b[0mlengths\u001b[0m\u001b[0;34m.\u001b[0m\u001b[0mmax\u001b[0m\u001b[0;34m(\u001b[0m\u001b[0;34m)\u001b[0m\u001b[0;34m]\u001b[0m\u001b[0;34m.\u001b[0m\u001b[0mto\u001b[0m\u001b[0;34m(\u001b[0m\u001b[0mdevice\u001b[0m\u001b[0;34m)\u001b[0m\u001b[0;34m\u001b[0m\u001b[0;34m\u001b[0m\u001b[0m\n\u001b[0;32m---> 10\u001b[0;31m         \u001b[0mlogits\u001b[0m \u001b[0;34m=\u001b[0m \u001b[0mmodel\u001b[0m\u001b[0;34m(\u001b[0m\u001b[0mtokens\u001b[0m\u001b[0;34m[\u001b[0m\u001b[0;34m:\u001b[0m\u001b[0;34m,\u001b[0m \u001b[0;34m:\u001b[0m\u001b[0;34m-\u001b[0m\u001b[0;36m1\u001b[0m\u001b[0;34m]\u001b[0m\u001b[0;34m,\u001b[0m \u001b[0mlengths\u001b[0m \u001b[0;34m-\u001b[0m \u001b[0;36m1\u001b[0m\u001b[0;34m)\u001b[0m\u001b[0;34m\u001b[0m\u001b[0;34m\u001b[0m\u001b[0m\n\u001b[0m\u001b[1;32m     11\u001b[0m         \u001b[0;31m# logits: (B, L, V), tokens: (B, L) - need to transpose logits\u001b[0m\u001b[0;34m\u001b[0m\u001b[0;34m\u001b[0m\u001b[0m\n\u001b[1;32m     12\u001b[0m         \u001b[0mloss\u001b[0m \u001b[0;34m=\u001b[0m \u001b[0mcriterion\u001b[0m\u001b[0;34m(\u001b[0m\u001b[0mlogits\u001b[0m\u001b[0;34m.\u001b[0m\u001b[0mtranspose\u001b[0m\u001b[0;34m(\u001b[0m\u001b[0;36m1\u001b[0m\u001b[0;34m,\u001b[0m \u001b[0;36m2\u001b[0m\u001b[0;34m)\u001b[0m\u001b[0;34m,\u001b[0m \u001b[0mtokens\u001b[0m\u001b[0;34m[\u001b[0m\u001b[0;34m:\u001b[0m\u001b[0;34m,\u001b[0m \u001b[0;36m1\u001b[0m\u001b[0;34m:\u001b[0m\u001b[0;34m]\u001b[0m\u001b[0;34m)\u001b[0m\u001b[0;34m\u001b[0m\u001b[0;34m\u001b[0m\u001b[0m\n",
            "\u001b[0;32m/usr/local/lib/python3.9/dist-packages/torch/nn/modules/module.py\u001b[0m in \u001b[0;36m_call_impl\u001b[0;34m(self, *args, **kwargs)\u001b[0m\n\u001b[1;32m   1499\u001b[0m                 \u001b[0;32mor\u001b[0m \u001b[0m_global_backward_pre_hooks\u001b[0m \u001b[0;32mor\u001b[0m \u001b[0m_global_backward_hooks\u001b[0m\u001b[0;34m\u001b[0m\u001b[0;34m\u001b[0m\u001b[0m\n\u001b[1;32m   1500\u001b[0m                 or _global_forward_hooks or _global_forward_pre_hooks):\n\u001b[0;32m-> 1501\u001b[0;31m             \u001b[0;32mreturn\u001b[0m \u001b[0mforward_call\u001b[0m\u001b[0;34m(\u001b[0m\u001b[0;34m*\u001b[0m\u001b[0margs\u001b[0m\u001b[0;34m,\u001b[0m \u001b[0;34m**\u001b[0m\u001b[0mkwargs\u001b[0m\u001b[0;34m)\u001b[0m\u001b[0;34m\u001b[0m\u001b[0;34m\u001b[0m\u001b[0m\n\u001b[0m\u001b[1;32m   1502\u001b[0m         \u001b[0;31m# Do not call functions when jit is used\u001b[0m\u001b[0;34m\u001b[0m\u001b[0;34m\u001b[0m\u001b[0m\n\u001b[1;32m   1503\u001b[0m         \u001b[0mfull_backward_hooks\u001b[0m\u001b[0;34m,\u001b[0m \u001b[0mnon_full_backward_hooks\u001b[0m \u001b[0;34m=\u001b[0m \u001b[0;34m[\u001b[0m\u001b[0;34m]\u001b[0m\u001b[0;34m,\u001b[0m \u001b[0;34m[\u001b[0m\u001b[0;34m]\u001b[0m\u001b[0;34m\u001b[0m\u001b[0;34m\u001b[0m\u001b[0m\n",
            "\u001b[0;32m<ipython-input-11-992807cd6211>\u001b[0m in \u001b[0;36mforward\u001b[0;34m(self, tokens, lengths)\u001b[0m\n\u001b[1;32m     26\u001b[0m         \u001b[0;31m# embeds: (B, L, E) in padded form\u001b[0m\u001b[0;34m\u001b[0m\u001b[0;34m\u001b[0m\u001b[0m\n\u001b[1;32m     27\u001b[0m         \u001b[0mpacked_embeds\u001b[0m \u001b[0;34m=\u001b[0m \u001b[0mpack_padded_sequence\u001b[0m\u001b[0;34m(\u001b[0m\u001b[0membeds\u001b[0m\u001b[0;34m,\u001b[0m \u001b[0mlengths\u001b[0m\u001b[0;34m,\u001b[0m \u001b[0mbatch_first\u001b[0m\u001b[0;34m=\u001b[0m\u001b[0;32mTrue\u001b[0m\u001b[0;34m,\u001b[0m \u001b[0menforce_sorted\u001b[0m\u001b[0;34m=\u001b[0m\u001b[0;32mFalse\u001b[0m\u001b[0;34m)\u001b[0m\u001b[0;34m\u001b[0m\u001b[0;34m\u001b[0m\u001b[0m\n\u001b[0;32m---> 28\u001b[0;31m         \u001b[0moutputs\u001b[0m\u001b[0;34m,\u001b[0m \u001b[0mhidden\u001b[0m \u001b[0;34m=\u001b[0m \u001b[0mself\u001b[0m\u001b[0;34m.\u001b[0m\u001b[0mrnn\u001b[0m\u001b[0;34m(\u001b[0m\u001b[0mpacked_embeds\u001b[0m\u001b[0;34m)\u001b[0m\u001b[0;34m\u001b[0m\u001b[0;34m\u001b[0m\u001b[0m\n\u001b[0m\u001b[1;32m     29\u001b[0m         \u001b[0;31m# output: (B, L, H), hidden: (B, H) in packed form\u001b[0m\u001b[0;34m\u001b[0m\u001b[0;34m\u001b[0m\u001b[0m\n\u001b[1;32m     30\u001b[0m         \u001b[0moutputs\u001b[0m\u001b[0;34m,\u001b[0m \u001b[0mlengths\u001b[0m \u001b[0;34m=\u001b[0m \u001b[0mpad_packed_sequence\u001b[0m\u001b[0;34m(\u001b[0m\u001b[0moutputs\u001b[0m\u001b[0;34m,\u001b[0m \u001b[0mbatch_first\u001b[0m\u001b[0;34m=\u001b[0m\u001b[0;32mTrue\u001b[0m\u001b[0;34m)\u001b[0m\u001b[0;34m\u001b[0m\u001b[0;34m\u001b[0m\u001b[0m\n",
            "\u001b[0;32m/usr/local/lib/python3.9/dist-packages/torch/nn/modules/module.py\u001b[0m in \u001b[0;36m_call_impl\u001b[0;34m(self, *args, **kwargs)\u001b[0m\n\u001b[1;32m   1499\u001b[0m                 \u001b[0;32mor\u001b[0m \u001b[0m_global_backward_pre_hooks\u001b[0m \u001b[0;32mor\u001b[0m \u001b[0m_global_backward_hooks\u001b[0m\u001b[0;34m\u001b[0m\u001b[0;34m\u001b[0m\u001b[0m\n\u001b[1;32m   1500\u001b[0m                 or _global_forward_hooks or _global_forward_pre_hooks):\n\u001b[0;32m-> 1501\u001b[0;31m             \u001b[0;32mreturn\u001b[0m \u001b[0mforward_call\u001b[0m\u001b[0;34m(\u001b[0m\u001b[0;34m*\u001b[0m\u001b[0margs\u001b[0m\u001b[0;34m,\u001b[0m \u001b[0;34m**\u001b[0m\u001b[0mkwargs\u001b[0m\u001b[0;34m)\u001b[0m\u001b[0;34m\u001b[0m\u001b[0;34m\u001b[0m\u001b[0m\n\u001b[0m\u001b[1;32m   1502\u001b[0m         \u001b[0;31m# Do not call functions when jit is used\u001b[0m\u001b[0;34m\u001b[0m\u001b[0;34m\u001b[0m\u001b[0m\n\u001b[1;32m   1503\u001b[0m         \u001b[0mfull_backward_hooks\u001b[0m\u001b[0;34m,\u001b[0m \u001b[0mnon_full_backward_hooks\u001b[0m \u001b[0;34m=\u001b[0m \u001b[0;34m[\u001b[0m\u001b[0;34m]\u001b[0m\u001b[0;34m,\u001b[0m \u001b[0;34m[\u001b[0m\u001b[0;34m]\u001b[0m\u001b[0;34m\u001b[0m\u001b[0;34m\u001b[0m\u001b[0m\n",
            "\u001b[0;32m/usr/local/lib/python3.9/dist-packages/torch/nn/modules/rnn.py\u001b[0m in \u001b[0;36mforward\u001b[0;34m(self, input, hx)\u001b[0m\n\u001b[1;32m    516\u001b[0m         \u001b[0;32melse\u001b[0m\u001b[0;34m:\u001b[0m\u001b[0;34m\u001b[0m\u001b[0;34m\u001b[0m\u001b[0m\n\u001b[1;32m    517\u001b[0m             \u001b[0;32mif\u001b[0m \u001b[0mself\u001b[0m\u001b[0;34m.\u001b[0m\u001b[0mmode\u001b[0m \u001b[0;34m==\u001b[0m \u001b[0;34m'RNN_TANH'\u001b[0m\u001b[0;34m:\u001b[0m\u001b[0;34m\u001b[0m\u001b[0;34m\u001b[0m\u001b[0m\n\u001b[0;32m--> 518\u001b[0;31m                 result = _VF.rnn_tanh(input, batch_sizes, hx, self._flat_weights, self.bias,\n\u001b[0m\u001b[1;32m    519\u001b[0m                                       \u001b[0mself\u001b[0m\u001b[0;34m.\u001b[0m\u001b[0mnum_layers\u001b[0m\u001b[0;34m,\u001b[0m \u001b[0mself\u001b[0m\u001b[0;34m.\u001b[0m\u001b[0mdropout\u001b[0m\u001b[0;34m,\u001b[0m \u001b[0mself\u001b[0m\u001b[0;34m.\u001b[0m\u001b[0mtraining\u001b[0m\u001b[0;34m,\u001b[0m\u001b[0;34m\u001b[0m\u001b[0;34m\u001b[0m\u001b[0m\n\u001b[1;32m    520\u001b[0m                                       self.bidirectional)\n",
            "\u001b[0;31mKeyboardInterrupt\u001b[0m: "
          ]
        }
      ],
      "source": [
        "losses = []\n",
        "num_epochs = 5000\n",
        "\n",
        "for epoch in range(1, num_epochs + 1):\n",
        "    running_loss = 0.0\n",
        "    model.train()\n",
        "    for tokens, lengths in oxyloader:\n",
        "        optimizer.zero_grad()\n",
        "        tokens = tokens[:, :lengths.max()].to(device)\n",
        "        logits = model(tokens[:, :-1], lengths - 1)\n",
        "        # logits: (B, L, V), tokens: (B, L) - need to transpose logits\n",
        "        loss = criterion(logits.transpose(1, 2), tokens[:, 1:])\n",
        "        loss.backward()\n",
        "        optimizer.step()\n",
        "\n",
        "        running_loss += loss.item() * tokens.shape[0]\n",
        "    \n",
        "    losses += [running_loss / len(oxyset)]\n",
        "    \n",
        "    if epoch % 100 == 0:\n",
        "        predict_text[epoch] = [model.inference('') for _ in range(5)]\n",
        "        plot_losses(losses)"
      ]
    },
    {
      "cell_type": "code",
      "execution_count": 82,
      "metadata": {
        "colab": {
          "base_uri": "https://localhost:8080/"
        },
        "id": "gYOIqm3QZlI0",
        "outputId": "b5d985b6-d724-44c5-caed-97a38db348c1"
      },
      "outputs": [
        {
          "data": {
            "text/plain": [
              "['Горихорых мне езп.',\n",
              " 'Горочем и Окроте так лавный чират эхль         слакал двойлагилзажи трай деламотив, Гремаю семым.',\n",
              " 'Голи змой уминев мелакату раминь, не пустеряно.',\n",
              " 'Горо, Прка слорчастого пробит пупонар курюсл помно панд впоне.',\n",
              " 'Госпералян бы сего проумали пусти рэп до краветь...  Как агде дайтарные.',\n",
              " 'Горо.',\n",
              " 'Городне надребути, гаров вер, А токой, мальше нед: Сковны скенся ист КонЧерь ибя?',\n",
              " 'Горосток грофинекомистиа, у нажи - мнели, Кол промороны поныснов мнаетсаный мою чупный брани, хажала ъе моем бустыкола данитор род.',\n",
              " 'Госком с нормаше ткве-то, И не бодно, бусто мой А е т.',\n",
              " 'Годам.']"
            ]
          },
          "execution_count": 82,
          "metadata": {},
          "output_type": "execute_result"
        }
      ],
      "source": [
        "[model.inference('Го') for _ in range(10)]"
      ]
    },
    {
      "cell_type": "code",
      "execution_count": 81,
      "metadata": {
        "colab": {
          "base_uri": "https://localhost:8080/",
          "height": 36
        },
        "id": "OKa00DJiZlLi",
        "outputId": "2bec6225-e960-44a3-ca0d-e8db01b0c9bd"
      },
      "outputs": [
        {
          "data": {
            "application/vnd.google.colaboratory.intrinsic+json": {
              "type": "string"
            },
            "text/plain": [
              "'Городияши, Я жисталави!'"
            ]
          },
          "execution_count": 81,
          "metadata": {},
          "output_type": "execute_result"
        }
      ],
      "source": [
        "model.inference('Город')"
      ]
    },
    {
      "cell_type": "code",
      "execution_count": 80,
      "metadata": {
        "colab": {
          "base_uri": "https://localhost:8080/",
          "height": 36
        },
        "id": "OqH9ZnKlZlOZ",
        "outputId": "e34cdaaf-6461-4771-8207-1f84dfac8cba"
      },
      "outputs": [
        {
          "data": {
            "application/vnd.google.colaboratory.intrinsic+json": {
              "type": "string"
            },
            "text/plain": [
              "'Говно чно вея.'"
            ]
          },
          "execution_count": 80,
          "metadata": {},
          "output_type": "execute_result"
        }
      ],
      "source": [
        "model.inference('Говно')"
      ]
    }
  ],
  "metadata": {
    "accelerator": "GPU",
    "colab": {
      "provenance": []
    },
    "gpuClass": "standard",
    "kernelspec": {
      "display_name": "Python 3",
      "name": "python3"
    },
    "language_info": {
      "name": "python"
    }
  },
  "nbformat": 4,
  "nbformat_minor": 0
}
