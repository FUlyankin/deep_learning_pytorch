{
 "cells": [
  {
   "cell_type": "markdown",
   "metadata": {},
   "source": [
    "<center>\n",
    "<img src=\"https://raw.githubusercontent.com/dvgodoy/PyTorch101_ODSC_Europe2020/master/images/linear_dogs.jpg\" height=\"400\" width=\"800\"> \n",
    "\n",
    "# Глубокое обучение и вообще: домашнее задание 1\n",
    "</center>"
   ]
  },
  {
   "cell_type": "markdown",
   "metadata": {},
   "source": [
    "**ФИО:**\n",
    "\n",
    "**Факт о себе:**"
   ]
  },
  {
   "cell_type": "markdown",
   "metadata": {},
   "source": [
    "## Общая информация\n",
    "\n",
    "__Дата выдачи:__ 06.02.2023\n",
    "\n",
    "__Мягкий дедлайн:__ 23:59MSK 26.02.2023\n",
    "\n",
    "__Жесткий дедлайн:__ 23:59MSK 05.03.2023"
   ]
  },
  {
   "cell_type": "markdown",
   "metadata": {},
   "source": [
    "## О задании\n",
    "\n",
    "Это задание будет состоять из нескольких частей.\n",
    "\n",
    "- __[2 балла]__ В первой части вы попробуете попрактиковаться в работе с тензорами.\n",
    "- __[2.5 балла]__ Во второй части вы напишите на pytorch свою собственную логистическую регрессию. \n",
    "- __[5.5 балла]__ В третьей части вы немного поупражняетесь с нейросетками на табличных встроенных в pytorch данных.\n",
    "- __[2 балла]__ Четвёртая часть будет бонусной. В ней вам будет предложено реализовать несколько различных вариаций градиентного спуска. \n",
    "\n",
    "Баллы даются за выполнение отдельных пунктов. Задачи в рамках одного раздела рекомендуется решать в том порядке, в котором они даны в задании. "
   ]
  },
  {
   "cell_type": "markdown",
   "metadata": {},
   "source": [
    "## Оценивание и штрафы\n",
    "\n",
    "Каждая из задач имеет определенную «стоимость» (указана в скобках около задачи). Максимально допустимая оценка за работу — 12 баллов. За каждый день просрочки после мягкого дедлайна снимается 1 балл. После жёсткого дедлайна работы не принимаются. Даже при опозданиии на одну секунду. Сдавайте работы заранее. Мягкий дедлайн можно отодвинуть, воспользовавшись **late days policy** (см подробнее [на страничке курса).](https://github.com/FUlyankin/deep_learning_pytorch) \n",
    "\n",
    "Задание выполняется самостоятельно. «Похожие» решения считаются плагиатом и все задействованные студенты (в том числе те, у кого списали) не могут получить за него больше 0 баллов. Если вы нашли решение какого-то из заданий (или его часть) в открытом источнике, необходимо указать ссылку на этот источник (скорее всего вы будете не единственным, кто это нашел, поэтому чтобы исключить подозрение в плагиате, необходима ссылка на источник).\n",
    "\n",
    "Любой из студентов может быть вызван на защиту любого домашнего задания. В таком случае итоговая оценка студента определяется в результате защиты."
   ]
  },
  {
   "cell_type": "markdown",
   "metadata": {},
   "source": [
    "## Формат сдачи\n",
    "\n",
    "Задания сдаются через google-форму. Она будет опубликована на [странице курса.](https://github.com/FUlyankin/deep_learning_pytorch) \n",
    "\n",
    "В форму необходимо загрузить ноутбук с выполенным заданием. Сам ноутбук называйте в формате hw-01-USERNAME.ipynb, где USERNAME — ваши фамилия и имя."
   ]
  },
  {
   "cell_type": "markdown",
   "metadata": {},
   "source": [
    "## Оформление\n",
    "\n",
    "1. Be good, drink milk and [think of Russia](https://www.youtube.com/watch?v=jyxSFfBKMxQ)\n",
    "2. Обязательно фиксируйте зерно генератора случайных чисел в экспериментах. При перезапуске кода значения не должны меняться.\n",
    "3. Вверху файла подпишите фамилию, имя и какой-то занимательный факт о себе.\n",
    "4. Обратите внимание, что у графиков должны быть подписаны оси, заголовок графика и при необходимости обязательно наличие легенды. \n",
    "\n",
    "> За отсутствие названий графиков и подписей к осям могут снижаться баллы. Все картинки должны быть самодостаточны и визуально удобны для восприятия, так чтобы не нужно было смотреть ваш код или знать задание, чтобы понять что на них изображено.\n",
    "\n",
    "\n",
    "Для каждого построенного графика делайте выводы. Эти выводы не должны быть поверхностными и очевидными. Не будьте мудрым королём.\n",
    "\n",
    "<br>\n",
    "\n",
    "<center>\n",
    "<img src=\"https://raw.githubusercontent.com/hse-econ-data-science/andan_2023/main/hw/king.png\" width=\"300\"> \n",
    "</center>\n",
    "\n",
    "**Пример плохого вывода:** Синенькая линия идет вверх, а красная вниз. Черненькая идет вниз, а потом вверх. \n",
    "\n",
    "<br>\n",
    "\n",
    "<center>\n",
    "<img src=\"https://raw.githubusercontent.com/hse-econ-data-science/andan_2023/main/hw/bad_lines.png\" width=\"600\"> \n",
    "</center>"
   ]
  },
  {
   "cell_type": "code",
   "execution_count": 1,
   "metadata": {},
   "outputs": [],
   "source": [
    "import math\n",
    "import os\n",
    "import random\n",
    "import sys\n",
    "\n",
    "import matplotlib.pyplot as plt\n",
    "import seaborn as sns\n",
    "import numpy as np\n",
    "import pandas as pd\n",
    "\n",
    "import torch\n",
    "import torch.nn as nn\n",
    "import torch.nn.functional as F\n",
    "\n",
    "from tqdm import tqdm"
   ]
  },
  {
   "cell_type": "code",
   "execution_count": 2,
   "metadata": {
    "scrolled": true
   },
   "outputs": [
    {
     "data": {
      "text/plain": [
       "'1.13.1'"
      ]
     },
     "execution_count": 2,
     "metadata": {},
     "output_type": "execute_result"
    }
   ],
   "source": [
    "torch.__version__"
   ]
  },
  {
   "cell_type": "markdown",
   "metadata": {},
   "source": [
    "# 1. Простейшие операции на pytorch\n",
    "\n",
    "В этой части вам надо будет реализовать несколько функций активации. Вы можете пока не знать, какие у них есть свойства и чем они хороши. Разговор об этом пойдёт на будущих лекциях. Достаточно просто познакомиться с ними, вбив формулы."
   ]
  },
  {
   "cell_type": "markdown",
   "metadata": {},
   "source": [
    "__[0.25 балла]__ Cоздайте два случайных тензора (двумерных, не квадратных). Умножьте их друг на друга, результат запишите в третий тензор."
   ]
  },
  {
   "cell_type": "code",
   "execution_count": null,
   "metadata": {},
   "outputs": [],
   "source": [
    "x =  ...\n",
    "y =  ...\n",
    "\n",
    "# your code here  ⟅⎰᨟﹏᨟⎱⟆"
   ]
  },
  {
   "cell_type": "markdown",
   "metadata": {},
   "source": [
    "__[0.25 балла]__ Реализуйте [ReLU](https://en.wikipedia.org/wiki/Rectifier_(neural_networks)) используя только pytorch, примените его к тензору x (запрещено использование модулей torch.nn и его подмодулей, а также torch.relu)"
   ]
  },
  {
   "cell_type": "code",
   "execution_count": null,
   "metadata": {},
   "outputs": [],
   "source": [
    "def relu_forward(x):\n",
    "    # your code here  ⟅⎛ꌩωꌩ⎞⟆\n",
    "    pass\n",
    "\n",
    "assert torch.all(F.relu(x) == relu_forward(x))"
   ]
  },
  {
   "cell_type": "markdown",
   "metadata": {},
   "source": [
    "__[0.25 балла]__ Сделайте тоже самое c ELU, [**Exponential Linear Units**](http://arxiv.org/abs/1511.07289)"
   ]
  },
  {
   "cell_type": "code",
   "execution_count": null,
   "metadata": {},
   "outputs": [],
   "source": [
    "def elu_forward(x):\n",
    "    # your code here (ง •̀_•́)ง\n",
    "    pass\n",
    "\n",
    "assert torch.allclose(F.elu(x), elu_forward(x), 1e-4)"
   ]
  },
  {
   "cell_type": "markdown",
   "metadata": {},
   "source": [
    "__[0.25 балла]__ Сделайте тоже самое c LeakyReLU, [**Leaky Rectified Linear Unit**](http://en.wikipedia.org/wiki%2FRectifier_%28neural_networks%29%23Leaky_ReLUs)"
   ]
  },
  {
   "cell_type": "code",
   "execution_count": null,
   "metadata": {},
   "outputs": [],
   "source": [
    "def lrelu_forward(x, alpha):\n",
    "    # your code here (￣ω￣)\n",
    "    pass\n",
    "\n",
    "assert torch.all(F.leaky_relu(x, 0.01) == lrelu_forward(x, 0.01))"
   ]
  },
  {
   "cell_type": "markdown",
   "metadata": {},
   "source": [
    "__[0.25 балла]__ Теперь перейдем к немного более современным функциям активаций, например Mish, она выглядит следующим образом:\n",
    "\n",
    "$$x \\cdot tanh(ln(1+e^x))$$"
   ]
  },
  {
   "cell_type": "code",
   "execution_count": null,
   "metadata": {},
   "outputs": [],
   "source": [
    "def mish(inputs):\n",
    "    # your code here ( ⚆ _ ⚆)\n",
    "    pass"
   ]
  },
  {
   "cell_type": "code",
   "execution_count": null,
   "metadata": {},
   "outputs": [],
   "source": [
    "assert torch.allclose(\n",
    "    mish(torch.tensor([1, 1, 1], dtype=torch.float32)),\n",
    "    torch.tensor([0.8651, 0.8651, 0.8651]),\n",
    "    atol=1e-4,\n",
    ")"
   ]
  },
  {
   "cell_type": "code",
   "execution_count": null,
   "metadata": {},
   "outputs": [],
   "source": [
    "assert torch.allclose(\n",
    "    mish(torch.tensor([0.6376, 0.4021, 0.6656, 0.3726], dtype=torch.float64)),\n",
    "    torch.tensor([0.5014, 0.2908, 0.5280, 0.2663], dtype=torch.float64),\n",
    "    atol=1e-4,\n",
    ")"
   ]
  },
  {
   "cell_type": "markdown",
   "metadata": {},
   "source": [
    "__[0.25 балла]__ Теперь реализуем swish, она выглядит следующим образом:\n",
    "\n",
    "$$x \\cdot \\sigma(x)$$"
   ]
  },
  {
   "cell_type": "code",
   "execution_count": null,
   "metadata": {},
   "outputs": [],
   "source": [
    "def swish(x):\n",
    "    # your code here ᕦ(ò_óˇ)ᕤ\n",
    "    pass"
   ]
  },
  {
   "cell_type": "code",
   "execution_count": null,
   "metadata": {},
   "outputs": [],
   "source": [
    "assert torch.allclose(\n",
    "    swish(torch.tensor([1, 1, 1], dtype=torch.float32)),\n",
    "    torch.tensor([0.7311, 0.7311, 0.7311]),\n",
    "    atol=1e-4,\n",
    ")"
   ]
  },
  {
   "cell_type": "code",
   "execution_count": null,
   "metadata": {},
   "outputs": [],
   "source": [
    "assert torch.allclose(\n",
    "    swish(torch.tensor([0.6376, 0.4021, 0.6656, 0.3726], dtype=torch.float64)),\n",
    "    torch.tensor([0.4171, 0.2409, 0.4396, 0.2206], dtype=torch.float64),\n",
    "    atol=1e-4,\n",
    ")"
   ]
  },
  {
   "cell_type": "markdown",
   "metadata": {},
   "source": [
    "__[0.5]__ Напишите на pytorch код, который решит следующую задачу оптимизации с помощью градиентного спуска:\n",
    "\n",
    "$$\n",
    "f(x) = x^2 - 2x + 5 \\to \\min_{x}\n",
    "$$"
   ]
  },
  {
   "cell_type": "code",
   "execution_count": null,
   "metadata": {},
   "outputs": [],
   "source": [
    "# your code here ( ⚆ ω ⚆)"
   ]
  },
  {
   "cell_type": "markdown",
   "metadata": {},
   "source": [
    "# 2. Логистическая регрессия\n",
    "\n",
    "В этом задании мы соберём на PyTorch логистическую регрессию Для её обучения будем использовать игрушечные данные. "
   ]
  },
  {
   "cell_type": "code",
   "execution_count": 12,
   "metadata": {},
   "outputs": [
    {
     "data": {
      "image/png": "[encoded data removed]",
      "text/plain": [
       "<Figure size 432x288 with 1 Axes>"
      ]
     },
     "metadata": {
      "needs_background": "light"
     },
     "output_type": "display_data"
    }
   ],
   "source": [
    "from sklearn import datasets, preprocessing\n",
    "\n",
    "(X, y) = datasets.make_circles(n_samples=1024, shuffle=True, \n",
    "                               noise=0.2, factor=0.4, random_state=42)\n",
    "\n",
    "ind = np.logical_or(y == 1, X[:, 1] > X[:, 0] - 0.5)\n",
    "X = X[ind, :]\n",
    "m = np.array([[1, 1], [-2, 1]])\n",
    "X = preprocessing.scale(X)\n",
    "y = y[ind]\n",
    "\n",
    "plt.scatter(X[:, 0], X[:, 1], c=y, cmap=plt.cm.Paired, s=20)\n",
    "plt.show()"
   ]
  },
  {
   "cell_type": "markdown",
   "metadata": {},
   "source": [
    "__[0.25 балла]__ Рзбейте выборку на обучающую, валидационную и тестовую. Для обучающей и валидационной выборок заведите Dataset и DataLoader: \n",
    "\n",
    "- для обучающей: итератор должен перемешивать выборку каждую эпоху и генерировать батчи размера $32$\n",
    "- для валидационной: итератор должен генировать батчи размера $32,$ данные перемешивать не надо\n",
    "- про тестовую выборку пока что забудьте"
   ]
  },
  {
   "cell_type": "code",
   "execution_count": null,
   "metadata": {},
   "outputs": [],
   "source": [
    "# your code here  ლ(ಠ益ಠლ)"
   ]
  },
  {
   "cell_type": "markdown",
   "metadata": {},
   "source": [
    "__[0.25 балла]__ реализуйте на PyTorch функцию для поиска вероятности того, что объект относится к первому классу.\n",
    "\n",
    "\n",
    "$$ \\hat{y} = \\langle w, x \\rangle $$\n",
    "$$ P( y=1 \\; \\big| \\; x, \\, w) = \\dfrac{1}{1 + \\exp(- \\langle w, x \\rangle)} = \\sigma(\\langle w, x \\rangle)$$\n",
    "\n",
    "Обратите внимание, что по весам мы будем искать градиенты."
   ]
  },
  {
   "cell_type": "code",
   "execution_count": 3,
   "metadata": {},
   "outputs": [],
   "source": [
    "w = ...\n",
    "\n",
    "def probability(X):\n",
    "    # your code here  ( ͡° ͜ʖ ͡°)\n",
    "    pass"
   ]
  },
  {
   "cell_type": "markdown",
   "metadata": {},
   "source": [
    "Для логистической регрессии оптимальный параметр находится минимизацией кросс-энтропии (или logloss): \n",
    "\n",
    "$$ L(w) =  - {1 \\over n} \\sum_{i=1}^n \\left[ {y_i \\cdot log P(y_i = 1 \\, | \\, x_i,w) + (1-y_i) \\cdot log (1-P(y_i = 1 \\, | \\, x_i,w))}\\right] $$\n",
    "\n",
    "\n",
    "__[0.25 балла]__ реализуйте в PyTorch эту функцию потерь. Пользоваться готовыми функциями потерь вроде `CrossEntropyLoss()` нельзя. Надо вбить самостоятельно. Для значений $y$, для удобства, можно сделать One Hot Encoding."
   ]
  },
  {
   "cell_type": "code",
   "execution_count": 4,
   "metadata": {},
   "outputs": [],
   "source": [
    "def compute_loss(X, y):\n",
    "    # your code here  ( ཀ ʖ̯ ཀ)\n",
    "    pass"
   ]
  },
  {
   "cell_type": "markdown",
   "metadata": {},
   "source": [
    "__[0.5 балла]__ Напишите функцию, которая делает один шаг обучения логистической регрессии. Для градиентного спуска используйте в качестве оптимизатора `SGD`. "
   ]
  },
  {
   "cell_type": "code",
   "execution_count": null,
   "metadata": {},
   "outputs": [],
   "source": [
    "def train_step(X, y):\n",
    "    # your code here  ¯\\_(ツ)_/¯\n",
    "    pass"
   ]
  },
  {
   "cell_type": "markdown",
   "metadata": {},
   "source": [
    "__[1 балл]__ Напишите цикл для обучения модели. Цикл должен делать $1000$ итераций. В случае, если ошибка на валидационной выборке начала расти и растёт в течение $20$ эпох, обучение должно останавливаться. Такая стратегия обучения называется ранней остановкой (early stopping)."
   ]
  },
  {
   "cell_type": "code",
   "execution_count": null,
   "metadata": {},
   "outputs": [],
   "source": [
    "EPOCH = ...\n",
    "\n",
    "# your code here  =^･ω･^=\n"
   ]
  },
  {
   "cell_type": "markdown",
   "metadata": {},
   "source": [
    "__[0.25 балла]__ Измерите качество итоговой модели на тестовой выборке. "
   ]
  },
  {
   "cell_type": "code",
   "execution_count": null,
   "metadata": {},
   "outputs": [],
   "source": [
    "# your code here  (ﾉ´ з `)ノ"
   ]
  },
  {
   "cell_type": "markdown",
   "metadata": {},
   "source": [
    "# 3. Собираем нейросеть\n",
    "\n",
    "В этом задании мы попробуем обучить нейросеть предсказывать цены на недвижимость в Бостоне."
   ]
  },
  {
   "cell_type": "code",
   "execution_count": 15,
   "metadata": {},
   "outputs": [],
   "source": [
    "data_url = \"http://lib.stat.cmu.edu/datasets/boston\"\n",
    "raw_df = pd.read_csv(data_url, sep=\"\\s+\", skiprows=22, header=None)\n",
    "\n",
    "X = np.hstack([raw_df.values[::2, :], raw_df.values[1::2, :2]])\n",
    "y = raw_df.values[1::2, 2]"
   ]
  },
  {
   "cell_type": "code",
   "execution_count": 16,
   "metadata": {},
   "outputs": [
    {
     "data": {
      "text/plain": [
       "((455, 13), (51, 13))"
      ]
     },
     "execution_count": 16,
     "metadata": {},
     "output_type": "execute_result"
    }
   ],
   "source": [
    "from sklearn.model_selection import train_test_split\n",
    "\n",
    "X_train, X_test, y_train, y_test = train_test_split(X, y, test_size=0.1, random_state=123)\n",
    "X_train.shape, X_test.shape"
   ]
  },
  {
   "cell_type": "markdown",
   "metadata": {},
   "source": [
    "__[0.25 балла]__ Отнормируйте данные."
   ]
  },
  {
   "cell_type": "code",
   "execution_count": null,
   "metadata": {},
   "outputs": [],
   "source": [
    "from sklearn.preprocessing import StandardScaler\n",
    "\n",
    "X_train_norm = ... # your code here ( ￣ー￣)\n",
    "X_test_norm = ..."
   ]
  },
  {
   "cell_type": "markdown",
   "metadata": {},
   "source": [
    "__[0.25 балла]__ Найдите медианную цену на обучающей выборке. Используйте её в качестве прогноза. Какое качество в терминах метрики $MAPE$ получается на тестовой выборке? Для всех дальнейших вопросах о качестве используйте эту метрику."
   ]
  },
  {
   "cell_type": "code",
   "execution_count": null,
   "metadata": {},
   "outputs": [],
   "source": [
    "# your code here  ヾ(๑╹◡╹)ﾉ"
   ]
  },
  {
   "cell_type": "markdown",
   "metadata": {},
   "source": [
    "__[0.5 балла]__ Подгрузите из sklearn модель линейной регрессии и модель случайного леса. Обучите их на наших данных. Какое качество у них получилось на тестовой выборке? Какой функционал они используют для обучения?"
   ]
  },
  {
   "cell_type": "code",
   "execution_count": null,
   "metadata": {},
   "outputs": [],
   "source": [
    "# your code here  (๑-﹏-๑)"
   ]
  },
  {
   "cell_type": "markdown",
   "metadata": {},
   "source": [
    "__[0.5 балла]__ Менеджер Николай обладает гуманитарным образованием. Он спрашивает вас, насколько хорошими получились модели. Объясните ему это так, чтобы он понял.\n",
    "\n",
    "__Ответ:__  напишите тут текст"
   ]
  },
  {
   "cell_type": "code",
   "execution_count": null,
   "metadata": {},
   "outputs": [],
   "source": [
    "# your code here  (｡•́︿•̀｡)"
   ]
  },
  {
   "cell_type": "markdown",
   "metadata": {},
   "source": [
    "__[0.5 балла]__ Реализуйте линейную регрессию в виде нейронной сети. Для этого используйте один полносвязный слой без функции активации.\n",
    "\n",
    "Обучите её, использая Adam в качестве оптимизатора и $MSE$ в качестве функции потерь. Сравните получившиеся значения коэффициентов с тем, что получилось при обучении модели средствами sklearn. Сравнение делаете с помощью какого-нибудь графика. "
   ]
  },
  {
   "cell_type": "code",
   "execution_count": null,
   "metadata": {},
   "outputs": [],
   "source": [
    "# your code here  (ಥ﹏ಥ)"
   ]
  },
  {
   "cell_type": "markdown",
   "metadata": {},
   "source": [
    "__[0.5 балла]__ Реализуйте две разных архитектуры нейросетей, которые принципиально отличаются друг от друга. Обучите каждую из них с двумя оптимизаторами: Adam и SGD. Визуализируйте все траектории обучения на картинке. \n",
    "\n",
    "Не забывайте отщипнуть в рамках этого метода от обучающей выборки кусочек для валидации. Тестовую выборку мы будем использовать только для итоговой оценки качества. "
   ]
  },
  {
   "cell_type": "code",
   "execution_count": null,
   "metadata": {},
   "outputs": [],
   "source": [
    "# your code here  (ﾉ◕ヮ◕)ﾉ"
   ]
  },
  {
   "cell_type": "markdown",
   "metadata": {},
   "source": [
    "__[1 балл]__ Потратьте некоторое время на модернизацию своих архитектур. Попытайтесь побить качество, которое дал случайный лес. Опишите здесь свои эксперименты что/как/почему вы пробовали. Оставьте в виде кода реализацию лучшей модели. \n",
    "\n",
    "__Добавлять сюда описание своих экспериментов в виде текста - обязательно! Без этого полного балла не будет.__"
   ]
  },
  {
   "cell_type": "code",
   "execution_count": null,
   "metadata": {},
   "outputs": [],
   "source": [
    "# your code here  ٩(⁎❛ᴗ❛⁎)۶"
   ]
  },
  {
   "cell_type": "markdown",
   "metadata": {},
   "source": [
    "__[0.5 балла]__ Возьмите лучшую из получившихся у вас моделей. Обучите её на неотнормированных данных и на отнормированных данных. Визуализируйте траектории обучения обеих моделей на одной картинке."
   ]
  },
  {
   "cell_type": "code",
   "execution_count": null,
   "metadata": {},
   "outputs": [],
   "source": [
    "# your code here  (︺︹︺)"
   ]
  },
  {
   "cell_type": "markdown",
   "metadata": {},
   "source": [
    "__[0.25 балла]__ Какое поведение в этих траекториях вы ожидали увидеть? Какое поведение вы увидели в реальности? Как думаете, почему траектории ведут себя именно так? При обучении моделей выше мы использовали $MSE$. Какой есть минус у этого функционала? \n",
    "\n",
    "__Ответ:__"
   ]
  },
  {
   "cell_type": "code",
   "execution_count": null,
   "metadata": {},
   "outputs": [],
   "source": [
    "# your code here ʕ•ᴥ•ʔ"
   ]
  },
  {
   "cell_type": "markdown",
   "metadata": {},
   "source": [
    "__[1 балл]__  Давайте попробуем обучить ту же самую модель, используя в качестве функций потерь другие функционалы: \n",
    "\n",
    "- MAE\n",
    "- MSLE\n",
    "- LogCosh \n",
    "\n",
    "Каким оказывается MAPE на тестовой выборке для всех трёх случаев?"
   ]
  },
  {
   "cell_type": "code",
   "execution_count": null,
   "metadata": {},
   "outputs": [],
   "source": [
    "# your code here  ♪┏(・o･)┛♪"
   ]
  },
  {
   "cell_type": "markdown",
   "metadata": {},
   "source": [
    "__[0.25 балла]__ Какой смысл кроется за этими функциями потерь? Как думаете, какая из них лучше всего подходит для решения нашей задачи? Объясните почему. \n",
    "\n",
    "В этом вам поможет [глава из книги Александра Дьяконова](https://alexanderdyakonov.files.wordpress.com/2018/10/book_08_metrics_12_blog1.pdf) и [конспект из курса МО-1 Жени Соколова](https://github.com/esokolov/ml-course-hse/blob/master/2021-fall/lecture-notes/lecture02-linregr.pdf)\n",
    "\n",
    "__Ответ:__"
   ]
  },
  {
   "cell_type": "markdown",
   "metadata": {},
   "source": [
    "> Нейронные сети не очень хорошо показывают себя на табличных данных из-за их разнородности. С такими задачами обычно хорошо справляется градиентный бустинг. Нейронные сети больше подходят для работы с картинками и текстами."
   ]
  },
  {
   "cell_type": "markdown",
   "metadata": {},
   "source": [
    "**[Бонус (0.1 балла)]**  Прикрепите фотографию того, как вы начали этот февраль. Какую самую классную эмоцию вы испытали за прошедший месяц?\n",
    "\n",
    "__место для картики и эмоции__\n"
   ]
  },
  {
   "cell_type": "markdown",
   "metadata": {},
   "source": [
    "# 4. Бонусный трэк: градиентные спуски\n",
    "\n",
    "В этом разделе вы можете попробовать самостоятельно реализовать разные виды градиентных спусков для логистической регрессии. В PyTorch многие оптимизаторы уже реализованы и нам остаётся их только использовать. Тут мы реализуем все эти оптимизаторы с нуля. "
   ]
  },
  {
   "cell_type": "markdown",
   "metadata": {},
   "source": [
    "__[0.2 балла]__ реализуйте в `numpy` функцию для поиска вероятности того, что объект относится к первому классу\n",
    "\n",
    "\n",
    "$$ \\hat{y} = \\langle w, x \\rangle $$\n",
    "$$ P( y=1 \\; \\big| \\; x, \\, w) = \\dfrac{1}{1 + \\exp(- \\langle w, x \\rangle)} = \\sigma(\\langle w, x \\rangle)$$\n",
    "\n",
    "Обратите внимание, что веса теперь идут на вход в эту функцию. "
   ]
  },
  {
   "cell_type": "code",
   "execution_count": null,
   "metadata": {},
   "outputs": [],
   "source": [
    "def probability(X, w):\n",
    "    # your code here   ฅ^•ﻌ•^ฅ \n",
    "    pass"
   ]
  },
  {
   "cell_type": "markdown",
   "metadata": {},
   "source": [
    "__[0.2 балла]__ По аналогии реализуйте логистические потери. \n",
    "\n",
    "$$ L(w) =  - {1 \\over n} \\sum_{i=1}^n \\left[ {y_i \\cdot log P(y_i = 1 \\, | \\, x_i,w) + (1-y_i) \\cdot log (1-P(y_i = 1 \\, | \\, x_i,w))}\\right] $$"
   ]
  },
  {
   "cell_type": "code",
   "execution_count": null,
   "metadata": {},
   "outputs": [],
   "source": [
    "def compute_loss(X, y, w):\n",
    "    # your code here  ᕕ(꒪𖤋꒪')ᕗ\n",
    "    pass"
   ]
  },
  {
   "cell_type": "markdown",
   "metadata": {},
   "source": [
    "__[0.4 балла]__ Мы будем обучать модель методом градиентного спуска своими руками. Для этого нам придётся вычислить градиент функции потерь, представленной выше. Возьмите листочек, ручку и в бой! \n",
    "\n",
    "$$ \\nabla_w L = ...$$"
   ]
  },
  {
   "cell_type": "code",
   "execution_count": null,
   "metadata": {},
   "outputs": [],
   "source": [
    "def compute_grad(X, y, w):\n",
    "    \"\"\"\n",
    "    Нахоит значение градиента.\n",
    "    \"\"\"\n",
    "\n",
    "    # your code here  ᔑ••ᔐ\n",
    "    pass"
   ]
  },
  {
   "cell_type": "markdown",
   "metadata": {},
   "source": [
    "Функция ниже предназначена для визуализации процесса обучения. "
   ]
  },
  {
   "cell_type": "code",
   "execution_count": null,
   "metadata": {},
   "outputs": [],
   "source": [
    "from IPython import display\n",
    "\n",
    "h = 0.01\n",
    "x_min, x_max = X[:, 0].min() - 1, X[:, 0].max() + 1\n",
    "y_min, y_max = X[:, 1].min() - 1, X[:, 1].max() + 1\n",
    "xx, yy = np.meshgrid(np.arange(x_min, x_max, h), np.arange(y_min, y_max, h))\n",
    "\n",
    "def visualize(X, y, w, history):\n",
    "    \"\"\"С помощью магии matplolib выдаёт красоты результатов классификации\"\"\"\n",
    "    Z = probability(expand(np.c_[xx.ravel(), yy.ravel()]), w)\n",
    "    Z = Z.reshape(xx.shape)\n",
    "    plt.subplot(1, 2, 1)\n",
    "    plt.contourf(xx, yy, Z, alpha=0.8)\n",
    "    plt.scatter(X[:, 0], X[:, 1], c=y, cmap=plt.cm.Paired)\n",
    "    plt.xlim(xx.min(), xx.max())\n",
    "    plt.ylim(yy.min(), yy.max())\n",
    "    \n",
    "    plt.subplot(1, 2, 2)\n",
    "    plt.plot(history)\n",
    "    plt.grid()\n",
    "    ymin, ymax = plt.ylim()\n",
    "    plt.ylim(0, ymax)\n",
    "    display.clear_output(wait=True)\n",
    "    plt.show()"
   ]
  },
  {
   "cell_type": "markdown",
   "metadata": {},
   "source": [
    "Пришло время обучить нашу модель. Для этого вам придётся дописать кусочки функций ниже. Обязательно попробуйте поменять гиперпараметры (размер батча и скорость обучения) и посмотреть как будет изменяться анимация. "
   ]
  },
  {
   "cell_type": "markdown",
   "metadata": {},
   "source": [
    "### [0.4  балла] Mini-batch SGD\n",
    "\n",
    "Берём несколько рандомных наблюдений и ищем градиент по ним! \n",
    "\n",
    "$$ w_t = w_{t-1} - \\eta \\dfrac{1}{m} \\sum_{j=1}^m \\nabla_w L(w_t, x_{i_j}, y_{i_j}) $$\n",
    "\n"
   ]
  },
  {
   "cell_type": "code",
   "execution_count": null,
   "metadata": {},
   "outputs": [],
   "source": [
    "np.random.seed(42)\n",
    "w = np.array([0, 0, 0, 0, 0, 1])\n",
    "\n",
    "eta= 0.1 \n",
    "\n",
    "n_iter = 100\n",
    "batch_size = 4\n",
    "loss = np.zeros(n_iter)\n",
    "plt.figure(figsize=(12, 5))\n",
    "\n",
    "for i in range(n_iter):\n",
    "    \n",
    "    # your code here  ( .-. )\n",
    "\n",
    "visualize(X, y, w, loss)\n",
    "plt.clf()"
   ]
  },
  {
   "cell_type": "markdown",
   "metadata": {},
   "source": [
    "### [0.4 балла] Momentum SGD\n",
    "\n",
    "Momentum это метод, который помогает стохастическому градиентному спуску сохранять направление движения. Это осуществляется за счёт добавления в выражение дополнительного слагаемого: накопленного за предыдущие шаги градиента с весом $\\alpha$. \n",
    "<br>\n",
    "<br>\n",
    "\n",
    "$$ \\nu_t = \\alpha \\nu_{t-1} + \\eta\\dfrac{1}{m} \\sum_{j=1}^m \\nabla_w L(w_t, x_{i_j}, y_{i_j}) $$\n",
    "$$ w_t = w_{t-1} - \\nu_t$$\n"
   ]
  },
  {
   "cell_type": "code",
   "execution_count": null,
   "metadata": {},
   "outputs": [],
   "source": [
    "np.random.seed(42)\n",
    "w = np.array([0, 0, 0, 0, 0, 1])\n",
    "\n",
    "eta = 0.05 \n",
    "alpha = 0.9 \n",
    "nu = np.zeros_like(w)\n",
    "\n",
    "n_iter = 100\n",
    "batch_size = 4\n",
    "loss = np.zeros(n_iter)\n",
    "plt.figure(figsize=(12, 5))\n",
    "\n",
    "for i in range(n_iter):\n",
    "    \n",
    "    # your code here  |∴め ϖ め∴|\n",
    "\n",
    "visualize(X, y, w, loss)\n",
    "plt.clf()"
   ]
  },
  {
   "cell_type": "markdown",
   "metadata": {},
   "source": [
    "### [0.4 балла] RMSprop\n",
    "\n",
    "В этом блоке реализуем RMSprop. Эта вариация градиентного спуска позволяет изменять скорость обучения индивидуально для каждого параметра. \n",
    "\n",
    "$$ G_t^j = \\alpha G_{t-1}^j + (1 - \\alpha) g_{tj}^2 $$\n",
    "$$ w_t^j = w_{t-1}^j - \\dfrac{\\eta}{\\sqrt{G_t^j + \\varepsilon}} g_{tj} $$"
   ]
  },
  {
   "cell_type": "code",
   "execution_count": null,
   "metadata": {},
   "outputs": [],
   "source": [
    "np.random.seed(42)\n",
    "\n",
    "w = np.array([0, 0, 0, 0, 0, 1.])\n",
    "\n",
    "eta = 0.1 \n",
    "alpha = 0.9 \n",
    "g2 = np.zeros_like(w)\n",
    "eps = 1e-8\n",
    "\n",
    "n_iter = 100\n",
    "batch_size = 4\n",
    "loss = np.zeros(n_iter)\n",
    "plt.figure(figsize=(12,5))\n",
    "for i in range(n_iter):\n",
    "\n",
    "    # your code here  ( ᵒ̴̶̷̥́ ·̫ ᵒ̴̶̷̣̥̀ )\n",
    "\n",
    "visualize(X, y, w, loss)\n",
    "plt.clf()"
   ]
  },
  {
   "cell_type": "markdown",
   "metadata": {},
   "source": [
    "Как траектории обучения различных вариаций градиентного спуска различаются между собой? Ожидаемо ли это? Почему? Что нужно сделать, чтобы реализовать Adam? "
   ]
  }
 ],
 "metadata": {
  "kernelspec": {
   "display_name": "Python 3 (ipykernel)",
   "language": "python",
   "name": "python3"
  },
  "language_info": {
   "codemirror_mode": {
    "name": "ipython",
    "version": 3
   },
   "file_extension": ".py",
   "mimetype": "text/x-python",
   "name": "python",
   "nbconvert_exporter": "python",
   "pygments_lexer": "ipython3",
   "version": "3.10.9"
  },
  "varInspector": {
   "cols": {
    "lenName": 16,
    "lenType": 16,
    "lenVar": 40
   },
   "kernels_config": {
    "python": {
     "delete_cmd_postfix": "",
     "delete_cmd_prefix": "del ",
     "library": "var_list.py",
     "varRefreshCmd": "print(var_dic_list())"
    },
    "r": {
     "delete_cmd_postfix": ") ",
     "delete_cmd_prefix": "rm(",
     "library": "var_list.r",
     "varRefreshCmd": "cat(var_dic_list()) "
    }
   },
   "types_to_exclude": [
    "module",
    "function",
    "builtin_function_or_method",
    "instance",
    "_Feature"
   ],
   "window_display": false
  }
 },
 "nbformat": 4,
 "nbformat_minor": 4
}
