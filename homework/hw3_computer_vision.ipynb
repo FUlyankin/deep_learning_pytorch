{
 "cells": [
  {
   "cell_type": "markdown",
   "metadata": {},
   "source": [
    "<center>\n",
    "<img src=\"http://newsless.ru/wp-content/uploads/2019/08/newsless.ru-top-posts-july-2019.jpg\" width=\"900\"> \n",
    "\n",
    "# Глубокое обучение и вообще: домашнее задание 3\n",
    "</center>"
   ]
  },
  {
   "cell_type": "markdown",
   "metadata": {},
   "source": [
    "**ФИО:**\n",
    "\n",
    "**Твой любимый анекдот:**"
   ]
  },
  {
   "cell_type": "markdown",
   "metadata": {},
   "source": [
    "## Общая информация\n",
    "\n",
    "__Дата выдачи:__ 12.04.2022\n",
    "\n",
    "__Мягкий дедлайн:__ 23:59MSK 07.05.2022\n",
    "\n",
    "__Жесткий дедлайн:__ 23:59MSK 14.05.2022"
   ]
  },
  {
   "cell_type": "markdown",
   "metadata": {},
   "source": [
    "## О задании\n",
    "\n",
    "Это задание будет состоять из нескольких частей. Я пытался сделать их максимально независимыми друг от друга. Если вам не хочется делать какую-то из частей, смело её пропускайте.\n",
    "\n",
    "- __[1 балл]__ Подготовка данных. Нужно скачать данные и разложить их по папочкам. Всё надо делать кодом в python. \n",
    "- __[2 балла]__ Поставка данных. В этой части вам предстоит написать несколько итераторов для поставки данных.\n",
    "- __[3 балла]__ Напишите собственные архитектуры для обучения моделей.\n",
    "- __[1 балл]__ Пробуем визуализировать эмбеддинги картинок.\n",
    "- __[2 балла]__ Пробуем transfer learning и аугментацию.\n",
    "- __[1 балл]__ Пробуем файнтьюнинг\n",
    "\n",
    "Баллы даются за выполнение отдельных пунктов. Задачи в рамках одного раздела рекомендуется решать в том порядке, в котором они даны в задании. "
   ]
  },
  {
   "cell_type": "markdown",
   "metadata": {
    "id": "aQDDz5tZ-am4"
   },
   "source": [
    "----"
   ]
  },
  {
   "cell_type": "markdown",
   "metadata": {
    "id": "XVmXtYf2_BFU"
   },
   "source": [
    "Обязательно пишите развернутые текстовые комментарии там, где это требуется. При их отсутствии будет сниматься от $50\\%$ баллов за задание.\n",
    "\n",
    "> Наверняка вам потребуется много гуглить о классификации и о том, как заставить её работать. Это нормально, все гуглят.\n",
    "\n",
    "Обязательно указывайте ссылки на чужой код, если вы его используете. Обязательно ссылайтесь на статьи / блогпосты / вопросы на stackoverflow / видосы от ютуберов-машинлернеров / курсы / подсказки от Дяди Васи и прочие дополнительные материалы, если вы их используете.\n",
    "\n",
    "Советуем использовать GPU. Если у вас его нет, используйте google colab. Если вам неудобно его использовать на постоянной основе, напишите и отладьте весь код локально на CPU, а затем запустите уже написанный ноутбук в колабе. Авторское решение задания достигает требуемой точности в колабе за 15 минут обучения.\n",
    "\n",
    "[FAQ по колабу](https://research.google.com/colaboratory/faq.html#idle-timeouts)"
   ]
  },
  {
   "cell_type": "markdown",
   "metadata": {},
   "source": [
    "## Оценивание и штрафы\n",
    "\n",
    "Каждая из задач имеет определенную «стоимость» (указана в скобках около задачи). Максимально допустимая оценка за работу — 10 баллов. За каждый день просрочки после мягкого дедлайна снимается 1 балл. После жёсткого дедлайна работы не принимаются. Даже при опозданиии на одну секунду. Сдавайте работы заранее. Мягкий дедлайн можно отодвинуть, воспользовавшись **late days policy** (см подробнее [на страничке курса).](https://github.com/FUlyankin/deep_learning_pytorch) \n",
    "\n",
    "Задание выполняется самостоятельно. «Похожие» решения считаются плагиатом и все задействованные студенты (в том числе те, у кого списали) не могут получить за него больше 0 баллов. Если вы нашли решение какого-то из заданий (или его часть) в открытом источнике, необходимо указать ссылку на этот источник (скорее всего вы будете не единственным, кто это нашел, поэтому чтобы исключить подозрение в плагиате, необходима ссылка на источник).\n",
    "\n",
    "Любой из студентов может быть вызван на защиту любого домашнего задания. В таком случае итоговая оценка студента определяется в результате защиты."
   ]
  },
  {
   "cell_type": "markdown",
   "metadata": {},
   "source": [
    "## Формат сдачи\n",
    "\n",
    "Задания сдаются через google-форму. Она будет опубликована на [странице курса.](https://github.com/FUlyankin/deep_learning_pytorch) \n",
    "\n",
    "В форму необходимо загрузить ноутбук с выполенным заданием. Сам ноутбук называйте в формате hw-01-USERNAME.ipynb, где USERNAME — ваши фамилия и имя."
   ]
  },
  {
   "cell_type": "markdown",
   "metadata": {
    "id": "Q2YnmEO8-nc_"
   },
   "source": [
    "-------------"
   ]
  },
  {
   "cell_type": "code",
   "execution_count": 1,
   "metadata": {
    "id": "V-I2At4w4Gcn"
   },
   "outputs": [],
   "source": [
    "import numpy as np\n",
    "import pandas as pd\n",
    "import seaborn as sns\n",
    "\n",
    "import matplotlib.pyplot as plt\n",
    "import matplotlib.style as style\n",
    "\n",
    "import os"
   ]
  },
  {
   "cell_type": "code",
   "execution_count": 5,
   "metadata": {
    "id": "dW8MDDu0-Xiy"
   },
   "outputs": [],
   "source": [
    "from tqdm import tqdm"
   ]
  },
  {
   "cell_type": "code",
   "execution_count": 6,
   "metadata": {
    "id": "aydiNtHP2pUA"
   },
   "outputs": [],
   "source": [
    "from typing import (\n",
    "    Callable,\n",
    "    Iterable,\n",
    "    Generator,\n",
    "    Optional,\n",
    "    List,\n",
    "    Union\n",
    ")"
   ]
  },
  {
   "cell_type": "code",
   "execution_count": 7,
   "metadata": {
    "id": "8Rrz1jRB4VwG"
   },
   "outputs": [],
   "source": [
    "import warnings\n",
    "warnings.filterwarnings('ignore')"
   ]
  },
  {
   "cell_type": "markdown",
   "metadata": {
    "id": "Ww7nABDj14cG"
   },
   "source": [
    "# 1. Подготовка данных (1 балл)\n",
    "\n",
    "> В этой части задания вам предстоит скачать данные и подготовить их к работе. Если вы не хотите это делать, сразу переходите к пункту 2 и воспользуйтесь уже скачанным вариантом. В таком случае, вы не получите балл за этот пункт. \n",
    "\n",
    "В этом задании вам предстоит научить нейросеть предсказывать жанр фильма по его постеру. Данные для этого скачайте с соотвествующего [соревнования на Kaggle,](https://www.kaggle.com/neha1703/movie-genre-from-its-poster) либо [с яндекс-диска,](https://disk.yandex.ru/d/PS_tBg-4Ttx6Lg) либо [c google-диска.](https://drive.google.com/file/d/1eeUdCQYlHEx97PgdkD70TQr4B1YEziH5/view?usp=sharing) Из этих данных нас будет интересовать csv-табличка со ссылками на все постеры. Для работы в колабе скачать данные поможет код, приведённый ниже. \n",
    "\n",
    "[Подробный гайд по утилите unzip](https://www.hostinger.ru/rukovodstva/unzip-linux)"
   ]
  },
  {
   "cell_type": "code",
   "execution_count": null,
   "metadata": {
    "colab": {
     "base_uri": "https://localhost:8080/"
    },
    "id": "EytBZ1xaq9Vl",
    "outputId": "666fcb30-0f9e-4de3-82e0-538d424fa042"
   },
   "outputs": [
    {
     "name": "stdout",
     "output_type": "stream",
     "text": [
      "Downloading...\n",
      "From: https://drive.google.com/uc?id=1eeUdCQYlHEx97PgdkD70TQr4B1YEziH5\n",
      "To: /content/movie_posters.zip\n",
      "100% 37.7M/37.7M [00:00<00:00, 175MB/s] \n"
     ]
    }
   ],
   "source": [
    "# Скачиваем данные && разархивируем их && удаляем архив \n",
    "!gdown --id 1eeUdCQYlHEx97PgdkD70TQr4B1YEziH5 && unzip -q movie_posters.zip && rm movie_posters.zip"
   ]
  },
  {
   "cell_type": "code",
   "execution_count": null,
   "metadata": {
    "colab": {
     "base_uri": "https://localhost:8080/"
    },
    "id": "L-2n6y2W3COT",
    "outputId": "6b90df29-7b45-43b3-9e2c-7849c8986bf3"
   },
   "outputs": [
    {
     "data": {
      "text/plain": [
       "(997,\n",
       " ['10195.jpg',\n",
       "  '25202.jpg',\n",
       "  '25301.jpg',\n",
       "  '22395.jpg',\n",
       "  '24958.jpg',\n",
       "  '22921.jpg',\n",
       "  '7264.jpg',\n",
       "  '24914.jpg',\n",
       "  '14646.jpg',\n",
       "  '18972.jpg'])"
      ]
     },
     "execution_count": 5,
     "metadata": {},
     "output_type": "execute_result"
    }
   ],
   "source": [
    "a = os.listdir(\"SampleMoviePosters/SampleMoviePosters\")\n",
    "len(a), a[:10]"
   ]
  },
  {
   "cell_type": "markdown",
   "metadata": {
    "id": "FDjukxNJ3fqe"
   },
   "source": [
    "К сожалению, в датасете есть далеко не все представленные постеры. Зато в таблице `MovieGenre.csv` находится основная информация про фильмы, представленные в данных. В том числе есть ссылки на описание фильмов на Imdb и ссылки на их постеры."
   ]
  },
  {
   "cell_type": "code",
   "execution_count": null,
   "metadata": {
    "colab": {
     "base_uri": "https://localhost:8080/"
    },
    "id": "GqDjlk8E4ge6",
    "outputId": "712ce1ef-4f36-426d-cce2-b048b0af8a94"
   },
   "outputs": [
    {
     "name": "stdout",
     "output_type": "stream",
     "text": [
      "(40108, 6)\n"
     ]
    },
    {
     "data": {
      "text/html": [
       "\n",
       "  <div id=\"df-bddc9ab5-c877-4501-a720-2d8f392da654\">\n",
       "    <div class=\"colab-df-container\">\n",
       "      <div>\n",
       "<style scoped>\n",
       "    .dataframe tbody tr th:only-of-type {\n",
       "        vertical-align: middle;\n",
       "    }\n",
       "\n",
       "    .dataframe tbody tr th {\n",
       "        vertical-align: top;\n",
       "    }\n",
       "\n",
       "    .dataframe thead th {\n",
       "        text-align: right;\n",
       "    }\n",
       "</style>\n",
       "<table border=\"1\" class=\"dataframe\">\n",
       "  <thead>\n",
       "    <tr style=\"text-align: right;\">\n",
       "      <th></th>\n",
       "      <th>imdbId</th>\n",
       "      <th>Imdb Link</th>\n",
       "      <th>Title</th>\n",
       "      <th>IMDB Score</th>\n",
       "      <th>Genre</th>\n",
       "      <th>Poster</th>\n",
       "    </tr>\n",
       "  </thead>\n",
       "  <tbody>\n",
       "    <tr>\n",
       "      <th>0</th>\n",
       "      <td>114709</td>\n",
       "      <td>http://www.imdb.com/title/tt114709</td>\n",
       "      <td>Toy Story (1995)</td>\n",
       "      <td>8.3</td>\n",
       "      <td>Animation|Adventure|Comedy</td>\n",
       "      <td>https://images-na.ssl-images-amazon.com/images...</td>\n",
       "    </tr>\n",
       "    <tr>\n",
       "      <th>1</th>\n",
       "      <td>113497</td>\n",
       "      <td>http://www.imdb.com/title/tt113497</td>\n",
       "      <td>Jumanji (1995)</td>\n",
       "      <td>6.9</td>\n",
       "      <td>Action|Adventure|Family</td>\n",
       "      <td>https://images-na.ssl-images-amazon.com/images...</td>\n",
       "    </tr>\n",
       "    <tr>\n",
       "      <th>2</th>\n",
       "      <td>113228</td>\n",
       "      <td>http://www.imdb.com/title/tt113228</td>\n",
       "      <td>Grumpier Old Men (1995)</td>\n",
       "      <td>6.6</td>\n",
       "      <td>Comedy|Romance</td>\n",
       "      <td>https://images-na.ssl-images-amazon.com/images...</td>\n",
       "    </tr>\n",
       "    <tr>\n",
       "      <th>3</th>\n",
       "      <td>114885</td>\n",
       "      <td>http://www.imdb.com/title/tt114885</td>\n",
       "      <td>Waiting to Exhale (1995)</td>\n",
       "      <td>5.7</td>\n",
       "      <td>Comedy|Drama|Romance</td>\n",
       "      <td>https://images-na.ssl-images-amazon.com/images...</td>\n",
       "    </tr>\n",
       "    <tr>\n",
       "      <th>4</th>\n",
       "      <td>113041</td>\n",
       "      <td>http://www.imdb.com/title/tt113041</td>\n",
       "      <td>Father of the Bride Part II (1995)</td>\n",
       "      <td>5.9</td>\n",
       "      <td>Comedy|Family|Romance</td>\n",
       "      <td>https://images-na.ssl-images-amazon.com/images...</td>\n",
       "    </tr>\n",
       "  </tbody>\n",
       "</table>\n",
       "</div>\n",
       "      <button class=\"colab-df-convert\" onclick=\"convertToInteractive('df-bddc9ab5-c877-4501-a720-2d8f392da654')\"\n",
       "              title=\"Convert this dataframe to an interactive table.\"\n",
       "              style=\"display:none;\">\n",
       "        \n",
       "  <svg xmlns=\"http://www.w3.org/2000/svg\" height=\"24px\"viewBox=\"0 0 24 24\"\n",
       "       width=\"24px\">\n",
       "    <path d=\"M0 0h24v24H0V0z\" fill=\"none\"/>\n",
       "    <path d=\"M18.56 5.44l.94 2.06.94-2.06 2.06-.94-2.06-.94-.94-2.06-.94 2.06-2.06.94zm-11 1L8.5 8.5l.94-2.06 2.06-.94-2.06-.94L8.5 2.5l-.94 2.06-2.06.94zm10 10l.94 2.06.94-2.06 2.06-.94-2.06-.94-.94-2.06-.94 2.06-2.06.94z\"/><path d=\"M17.41 7.96l-1.37-1.37c-.4-.4-.92-.59-1.43-.59-.52 0-1.04.2-1.43.59L10.3 9.45l-7.72 7.72c-.78.78-.78 2.05 0 2.83L4 21.41c.39.39.9.59 1.41.59.51 0 1.02-.2 1.41-.59l7.78-7.78 2.81-2.81c.8-.78.8-2.07 0-2.86zM5.41 20L4 18.59l7.72-7.72 1.47 1.35L5.41 20z\"/>\n",
       "  </svg>\n",
       "      </button>\n",
       "      \n",
       "  <style>\n",
       "    .colab-df-container {\n",
       "      display:flex;\n",
       "      flex-wrap:wrap;\n",
       "      gap: 12px;\n",
       "    }\n",
       "\n",
       "    .colab-df-convert {\n",
       "      background-color: #E8F0FE;\n",
       "      border: none;\n",
       "      border-radius: 50%;\n",
       "      cursor: pointer;\n",
       "      display: none;\n",
       "      fill: #1967D2;\n",
       "      height: 32px;\n",
       "      padding: 0 0 0 0;\n",
       "      width: 32px;\n",
       "    }\n",
       "\n",
       "    .colab-df-convert:hover {\n",
       "      background-color: #E2EBFA;\n",
       "      box-shadow: 0px 1px 2px rgba(60, 64, 67, 0.3), 0px 1px 3px 1px rgba(60, 64, 67, 0.15);\n",
       "      fill: #174EA6;\n",
       "    }\n",
       "\n",
       "    [theme=dark] .colab-df-convert {\n",
       "      background-color: #3B4455;\n",
       "      fill: #D2E3FC;\n",
       "    }\n",
       "\n",
       "    [theme=dark] .colab-df-convert:hover {\n",
       "      background-color: #434B5C;\n",
       "      box-shadow: 0px 1px 3px 1px rgba(0, 0, 0, 0.15);\n",
       "      filter: drop-shadow(0px 1px 2px rgba(0, 0, 0, 0.3));\n",
       "      fill: #FFFFFF;\n",
       "    }\n",
       "  </style>\n",
       "\n",
       "      <script>\n",
       "        const buttonEl =\n",
       "          document.querySelector('#df-bddc9ab5-c877-4501-a720-2d8f392da654 button.colab-df-convert');\n",
       "        buttonEl.style.display =\n",
       "          google.colab.kernel.accessAllowed ? 'block' : 'none';\n",
       "\n",
       "        async function convertToInteractive(key) {\n",
       "          const element = document.querySelector('#df-bddc9ab5-c877-4501-a720-2d8f392da654');\n",
       "          const dataTable =\n",
       "            await google.colab.kernel.invokeFunction('convertToInteractive',\n",
       "                                                     [key], {});\n",
       "          if (!dataTable) return;\n",
       "\n",
       "          const docLinkHtml = 'Like what you see? Visit the ' +\n",
       "            '<a target=\"_blank\" href=https://colab.research.google.com/notebooks/data_table.ipynb>data table notebook</a>'\n",
       "            + ' to learn more about interactive tables.';\n",
       "          element.innerHTML = '';\n",
       "          dataTable['output_type'] = 'display_data';\n",
       "          await google.colab.output.renderOutput(dataTable, element);\n",
       "          const docLink = document.createElement('div');\n",
       "          docLink.innerHTML = docLinkHtml;\n",
       "          element.appendChild(docLink);\n",
       "        }\n",
       "      </script>\n",
       "    </div>\n",
       "  </div>\n",
       "  "
      ],
      "text/plain": [
       "   imdbId  ...                                             Poster\n",
       "0  114709  ...  https://images-na.ssl-images-amazon.com/images...\n",
       "1  113497  ...  https://images-na.ssl-images-amazon.com/images...\n",
       "2  113228  ...  https://images-na.ssl-images-amazon.com/images...\n",
       "3  114885  ...  https://images-na.ssl-images-amazon.com/images...\n",
       "4  113041  ...  https://images-na.ssl-images-amazon.com/images...\n",
       "\n",
       "[5 rows x 6 columns]"
      ]
     },
     "execution_count": 6,
     "metadata": {},
     "output_type": "execute_result"
    }
   ],
   "source": [
    "movies = pd.read_csv(\"MovieGenre.csv\", encoding=\"ISO-8859-1\")\n",
    "print(movies.shape)\n",
    "movies.head()"
   ]
  },
  {
   "cell_type": "code",
   "execution_count": null,
   "metadata": {
    "colab": {
     "base_uri": "https://localhost:8080/"
    },
    "id": "Dlx0ZCAC6sH1",
    "outputId": "d53440ca-2888-45e0-e0c1-d157fc85a47f"
   },
   "outputs": [
    {
     "name": "stdout",
     "output_type": "stream",
     "text": [
      "(39263, 6)\n",
      "(38671, 6)\n"
     ]
    },
    {
     "data": {
      "text/html": [
       "\n",
       "  <div id=\"df-7c2ac2c2-8cfc-438e-b1b6-0d76db6ad86a\">\n",
       "    <div class=\"colab-df-container\">\n",
       "      <div>\n",
       "<style scoped>\n",
       "    .dataframe tbody tr th:only-of-type {\n",
       "        vertical-align: middle;\n",
       "    }\n",
       "\n",
       "    .dataframe tbody tr th {\n",
       "        vertical-align: top;\n",
       "    }\n",
       "\n",
       "    .dataframe thead th {\n",
       "        text-align: right;\n",
       "    }\n",
       "</style>\n",
       "<table border=\"1\" class=\"dataframe\">\n",
       "  <thead>\n",
       "    <tr style=\"text-align: right;\">\n",
       "      <th></th>\n",
       "      <th>imdbId</th>\n",
       "      <th>Imdb Link</th>\n",
       "      <th>Title</th>\n",
       "      <th>IMDB Score</th>\n",
       "      <th>Genre</th>\n",
       "      <th>Poster</th>\n",
       "    </tr>\n",
       "  </thead>\n",
       "  <tbody>\n",
       "    <tr>\n",
       "      <th>30321</th>\n",
       "      <td>117287</td>\n",
       "      <td>http://www.imdb.com/title/tt117287</td>\n",
       "      <td>The Paper Brigade (1996)</td>\n",
       "      <td>6.9</td>\n",
       "      <td>Adventure|Comedy|Drama</td>\n",
       "      <td>https://images-na.ssl-images-amazon.com/images...</td>\n",
       "    </tr>\n",
       "    <tr>\n",
       "      <th>39475</th>\n",
       "      <td>5502346</td>\n",
       "      <td>http://www.imdb.com/title/tt5502346</td>\n",
       "      <td>A lovasÌ_jÌÁsz (2016)</td>\n",
       "      <td>7.5</td>\n",
       "      <td>Documentary|Adventure</td>\n",
       "      <td>https://images-na.ssl-images-amazon.com/images...</td>\n",
       "    </tr>\n",
       "    <tr>\n",
       "      <th>32518</th>\n",
       "      <td>1519461</td>\n",
       "      <td>http://www.imdb.com/title/tt1519461</td>\n",
       "      <td>Area 51 (2015)</td>\n",
       "      <td>4.2</td>\n",
       "      <td>Horror|Sci-Fi|Thriller</td>\n",
       "      <td>https://images-na.ssl-images-amazon.com/images...</td>\n",
       "    </tr>\n",
       "    <tr>\n",
       "      <th>15221</th>\n",
       "      <td>70468</td>\n",
       "      <td>http://www.imdb.com/title/tt70468</td>\n",
       "      <td>The Offence (1973)</td>\n",
       "      <td>7.1</td>\n",
       "      <td>Crime|Drama|Thriller</td>\n",
       "      <td>https://images-na.ssl-images-amazon.com/images...</td>\n",
       "    </tr>\n",
       "    <tr>\n",
       "      <th>14664</th>\n",
       "      <td>913401</td>\n",
       "      <td>http://www.imdb.com/title/tt913401</td>\n",
       "      <td>Kill Buljo: The Movie (2007)</td>\n",
       "      <td>5.7</td>\n",
       "      <td>Action|Adventure|Comedy</td>\n",
       "      <td>https://images-na.ssl-images-amazon.com/images...</td>\n",
       "    </tr>\n",
       "  </tbody>\n",
       "</table>\n",
       "</div>\n",
       "      <button class=\"colab-df-convert\" onclick=\"convertToInteractive('df-7c2ac2c2-8cfc-438e-b1b6-0d76db6ad86a')\"\n",
       "              title=\"Convert this dataframe to an interactive table.\"\n",
       "              style=\"display:none;\">\n",
       "        \n",
       "  <svg xmlns=\"http://www.w3.org/2000/svg\" height=\"24px\"viewBox=\"0 0 24 24\"\n",
       "       width=\"24px\">\n",
       "    <path d=\"M0 0h24v24H0V0z\" fill=\"none\"/>\n",
       "    <path d=\"M18.56 5.44l.94 2.06.94-2.06 2.06-.94-2.06-.94-.94-2.06-.94 2.06-2.06.94zm-11 1L8.5 8.5l.94-2.06 2.06-.94-2.06-.94L8.5 2.5l-.94 2.06-2.06.94zm10 10l.94 2.06.94-2.06 2.06-.94-2.06-.94-.94-2.06-.94 2.06-2.06.94z\"/><path d=\"M17.41 7.96l-1.37-1.37c-.4-.4-.92-.59-1.43-.59-.52 0-1.04.2-1.43.59L10.3 9.45l-7.72 7.72c-.78.78-.78 2.05 0 2.83L4 21.41c.39.39.9.59 1.41.59.51 0 1.02-.2 1.41-.59l7.78-7.78 2.81-2.81c.8-.78.8-2.07 0-2.86zM5.41 20L4 18.59l7.72-7.72 1.47 1.35L5.41 20z\"/>\n",
       "  </svg>\n",
       "      </button>\n",
       "      \n",
       "  <style>\n",
       "    .colab-df-container {\n",
       "      display:flex;\n",
       "      flex-wrap:wrap;\n",
       "      gap: 12px;\n",
       "    }\n",
       "\n",
       "    .colab-df-convert {\n",
       "      background-color: #E8F0FE;\n",
       "      border: none;\n",
       "      border-radius: 50%;\n",
       "      cursor: pointer;\n",
       "      display: none;\n",
       "      fill: #1967D2;\n",
       "      height: 32px;\n",
       "      padding: 0 0 0 0;\n",
       "      width: 32px;\n",
       "    }\n",
       "\n",
       "    .colab-df-convert:hover {\n",
       "      background-color: #E2EBFA;\n",
       "      box-shadow: 0px 1px 2px rgba(60, 64, 67, 0.3), 0px 1px 3px 1px rgba(60, 64, 67, 0.15);\n",
       "      fill: #174EA6;\n",
       "    }\n",
       "\n",
       "    [theme=dark] .colab-df-convert {\n",
       "      background-color: #3B4455;\n",
       "      fill: #D2E3FC;\n",
       "    }\n",
       "\n",
       "    [theme=dark] .colab-df-convert:hover {\n",
       "      background-color: #434B5C;\n",
       "      box-shadow: 0px 1px 3px 1px rgba(0, 0, 0, 0.15);\n",
       "      filter: drop-shadow(0px 1px 2px rgba(0, 0, 0, 0.3));\n",
       "      fill: #FFFFFF;\n",
       "    }\n",
       "  </style>\n",
       "\n",
       "      <script>\n",
       "        const buttonEl =\n",
       "          document.querySelector('#df-7c2ac2c2-8cfc-438e-b1b6-0d76db6ad86a button.colab-df-convert');\n",
       "        buttonEl.style.display =\n",
       "          google.colab.kernel.accessAllowed ? 'block' : 'none';\n",
       "\n",
       "        async function convertToInteractive(key) {\n",
       "          const element = document.querySelector('#df-7c2ac2c2-8cfc-438e-b1b6-0d76db6ad86a');\n",
       "          const dataTable =\n",
       "            await google.colab.kernel.invokeFunction('convertToInteractive',\n",
       "                                                     [key], {});\n",
       "          if (!dataTable) return;\n",
       "\n",
       "          const docLinkHtml = 'Like what you see? Visit the ' +\n",
       "            '<a target=\"_blank\" href=https://colab.research.google.com/notebooks/data_table.ipynb>data table notebook</a>'\n",
       "            + ' to learn more about interactive tables.';\n",
       "          element.innerHTML = '';\n",
       "          dataTable['output_type'] = 'display_data';\n",
       "          await google.colab.output.renderOutput(dataTable, element);\n",
       "          const docLink = document.createElement('div');\n",
       "          docLink.innerHTML = docLinkHtml;\n",
       "          element.appendChild(docLink);\n",
       "        }\n",
       "      </script>\n",
       "    </div>\n",
       "  </div>\n",
       "  "
      ],
      "text/plain": [
       "        imdbId  ...                                             Poster\n",
       "30321   117287  ...  https://images-na.ssl-images-amazon.com/images...\n",
       "39475  5502346  ...  https://images-na.ssl-images-amazon.com/images...\n",
       "32518  1519461  ...  https://images-na.ssl-images-amazon.com/images...\n",
       "15221    70468  ...  https://images-na.ssl-images-amazon.com/images...\n",
       "14664   913401  ...  https://images-na.ssl-images-amazon.com/images...\n",
       "\n",
       "[5 rows x 6 columns]"
      ]
     },
     "execution_count": 7,
     "metadata": {},
     "output_type": "execute_result"
    }
   ],
   "source": [
    "# Удаляем строки с пустыми id, жанром или постером\n",
    "movies.dropna(subset=['imdbId', 'Genre', 'Poster'], inplace=True)\n",
    "print(movies.shape)\n",
    "\n",
    "# удаляем строки-дубликаты\n",
    "movies.drop_duplicates(inplace=True)\n",
    "print(movies.shape)\n",
    "movies.sample(5)"
   ]
  },
  {
   "cell_type": "markdown",
   "metadata": {
    "id": "ijtNMO_bJoxt"
   },
   "source": [
    "__[0.4 балла]__ На первом этапе работы вам предстоит собрать все недостающие данные. \n",
    "\n",
    "Скачайте постеры к фильмам. Сохраните их в папку `images`. Каждому постеру, который вы качаете по ссылке из колонки `Poster` давайте имя вида `imdbId_жанры.jpg`.\n",
    "\n",
    "Ниже приведён пример того, как можно скачать один постер. Вам необходимо написать для этого цикл. Некоторые ссылки на постеры битые. В цикле придётся прописать `try-except`. Около 10% данных не скачается. "
   ]
  },
  {
   "cell_type": "code",
   "execution_count": null,
   "metadata": {
    "id": "dHAspgGmLcQx"
   },
   "outputs": [],
   "source": [
    "os.mkdir('images') # создали директорию для картинок"
   ]
  },
  {
   "cell_type": "code",
   "execution_count": null,
   "metadata": {
    "colab": {
     "base_uri": "https://localhost:8080/"
    },
    "id": "iPOLhf4KLMqZ",
    "outputId": "e189cce4-d8e8-4033-de4a-69aa48241849"
   },
   "outputs": [
    {
     "data": {
      "text/plain": [
       "('images/114709_Animation|Adventure|Comedy.jpg',\n",
       " <http.client.HTTPMessage at 0x7fd2da078cd0>)"
      ]
     },
     "execution_count": 18,
     "metadata": {},
     "output_type": "execute_result"
    }
   ],
   "source": [
    "import urllib \n",
    "\n",
    "idd = movies.imdbId.values[0]\n",
    "url = movies.Poster.values[0]\n",
    "genre = movies.Genre.values[0]\n",
    "\n",
    "filename = 'images/' + str(idd) + '_' + genre + '.jpg'\n",
    "\n",
    "urllib.request.urlretrieve(url, filename)"
   ]
  },
  {
   "cell_type": "code",
   "execution_count": null,
   "metadata": {
    "colab": {
     "base_uri": "https://localhost:8080/"
    },
    "id": "jSiYCRSULXVQ",
    "outputId": "8ba31a71-97ba-4b29-fef1-c1702e962a77"
   },
   "outputs": [
    {
     "data": {
      "text/plain": [
       "['114709_Animation|Adventure|Comedy.jpg']"
      ]
     },
     "execution_count": 19,
     "metadata": {},
     "output_type": "execute_result"
    }
   ],
   "source": [
    "os.listdir('images')"
   ]
  },
  {
   "cell_type": "code",
   "execution_count": null,
   "metadata": {
    "colab": {
     "base_uri": "https://localhost:8080/"
    },
    "id": "hdwTpvbELvYs",
    "outputId": "0191e335-dbf7-4498-ba98-8ce49637e0a5"
   },
   "outputs": [
    {
     "data": {
      "image/png": "[encoded data removed]",
      "text/plain": [
       "<PIL.JpegImagePlugin.JpegImageFile image mode=RGB size=182x268 at 0x7FD2DA081D90>"
      ]
     },
     "execution_count": 20,
     "metadata": {},
     "output_type": "execute_result"
    }
   ],
   "source": [
    "import PIL\n",
    "PIL.Image.open(filename)"
   ]
  },
  {
   "cell_type": "markdown",
   "metadata": {
    "id": "4FM8qIdKMAii"
   },
   "source": [
    "Цикл для скачки может работать больше часа. Можно, но не обязательно, его распараллелить. Когда вы скачаете все данные, сделайте их бэкап на своём гугл-диске или на своём компьютере. Заархивировать папку вам поможет команда \n",
    "\n",
    "```\n",
    "!zip -r images.zip images\n",
    "```\n",
    "\n",
    "После архив надо скачать (он будет лежать в файловом хранилище колаба)."
   ]
  },
  {
   "cell_type": "code",
   "execution_count": null,
   "metadata": {
    "colab": {
     "base_uri": "https://localhost:8080/",
     "referenced_widgets": [
      "84fa94d798324c8f870c10ac0e05dfa2",
      "708d821db454415ebee70a42376de02e",
      "2ddb823f9812452ab96c606065527543",
      "c84e8605dfc6486dbb996a12a71a2657",
      "0bccb806310f45e381eb46b714c1088b",
      "ee9bcd1739f842038ad1d718cedee8e7",
      "22f3317f87f74e01a08fbe58d7aacb76",
      "e6007cafaf554c499ee8b2f65fc007ad",
      "02d5e4df8a44466cb86822a083ea38c6",
      "f384b2dcecbf43639fb76d6aa19f6f24",
      "fb8bd47ed5644c978c67faababd0a619"
     ]
    },
    "id": "0xtUHimnLvbL",
    "outputId": "24788395-b896-4aef-ab11-769023958840"
   },
   "outputs": [
    {
     "data": {
      "application/vnd.jupyter.widget-view+json": {
       "model_id": "84fa94d798324c8f870c10ac0e05dfa2",
       "version_major": 2,
       "version_minor": 0
      },
      "text/plain": [
       "  0%|          | 0/38670 [00:00<?, ?it/s]"
      ]
     },
     "metadata": {},
     "output_type": "display_data"
    },
    {
     "data": {
      "text/plain": [
       "2563"
      ]
     },
     "execution_count": 21,
     "metadata": {},
     "output_type": "execute_result"
    }
   ],
   "source": [
    "# your code here"
   ]
  },
  {
   "cell_type": "code",
   "execution_count": null,
   "metadata": {
    "id": "pTj45BhI4qXD"
   },
   "outputs": [],
   "source": [
    "# Как заархивировать и разархивировать:\n",
    "\n",
    "# !zip -r images.zip images\n",
    "# !unzip -q images.zip"
   ]
  },
  {
   "cell_type": "code",
   "execution_count": null,
   "metadata": {
    "colab": {
     "base_uri": "https://localhost:8080/"
    },
    "id": "_tAWVIIHzcdl",
    "outputId": "d3101da1-6d9f-4b6d-b36a-a638e5e4f87f"
   },
   "outputs": [
    {
     "data": {
      "text/plain": [
       "36108"
      ]
     },
     "execution_count": 24,
     "metadata": {},
     "output_type": "execute_result"
    }
   ],
   "source": [
    "x = os.listdir('images')\n",
    "len(x)"
   ]
  },
  {
   "cell_type": "markdown",
   "metadata": {
    "id": "Piev6Tf0NLg5"
   },
   "source": [
    "__[0.1]__ выбросите из таблицы `MovieGenre.csv` все фильмы, которые не удалось скачать. "
   ]
  },
  {
   "cell_type": "code",
   "execution_count": null,
   "metadata": {
    "id": "vYEKfVqRLvd2"
   },
   "outputs": [],
   "source": [
    "# your code here"
   ]
  },
  {
   "cell_type": "markdown",
   "metadata": {
    "id": "FYaQ8XvlNOdL"
   },
   "source": [
    "Обратите внимание, что каждому фильму может соотвествовать несколько жанров. Они перечислены через разделитель `|`. "
   ]
  },
  {
   "cell_type": "code",
   "execution_count": null,
   "metadata": {
    "colab": {
     "base_uri": "https://localhost:8080/"
    },
    "id": "G0bxASPrLvgL",
    "outputId": "7aafae5b-e12d-4583-c60b-b3b1ce37989b"
   },
   "outputs": [
    {
     "data": {
      "text/plain": [
       "Counter({'Action': 4867,\n",
       "         'Adult': 8,\n",
       "         'Adventure': 3486,\n",
       "         'Animation': 1585,\n",
       "         'Biography': 1818,\n",
       "         'Comedy': 11501,\n",
       "         'Crime': 4752,\n",
       "         'Documentary': 3414,\n",
       "         'Drama': 18185,\n",
       "         'Family': 1907,\n",
       "         'Fantasy': 1843,\n",
       "         'Film-Noir': 330,\n",
       "         'Game-Show': 1,\n",
       "         'History': 1307,\n",
       "         'Horror': 3678,\n",
       "         'Music': 1163,\n",
       "         'Musical': 738,\n",
       "         'Mystery': 2170,\n",
       "         'News': 78,\n",
       "         'Reality-TV': 2,\n",
       "         'Romance': 5555,\n",
       "         'Sci-Fi': 1835,\n",
       "         'Short': 863,\n",
       "         'Sport': 640,\n",
       "         'Talk-Show': 6,\n",
       "         'Thriller': 4424,\n",
       "         'War': 1063,\n",
       "         'Western': 752})"
      ]
     },
     "execution_count": 26,
     "metadata": {},
     "output_type": "execute_result"
    }
   ],
   "source": [
    "from collections import Counter\n",
    "cnt = Counter([jtem for item in movies.Genre.values for jtem in item.split('|')])\n",
    "cnt"
   ]
  },
  {
   "cell_type": "markdown",
   "metadata": {
    "id": "AYDBDT_oNYVP"
   },
   "source": [
    "__[0.2]__ Давайте немного подчистим таргет.  \n",
    "\n",
    "- Удалите из данных все жанры, которые встречаются менее $100$ раз. От жанра Adult, к сожалению, придётся избавиться. Сохраните новые жанры в колонку `cleanGenre`.\n",
    "- Если у фильма после чистки не осталось жанров, удалите строчку с ним из таблицы с данными."
   ]
  },
  {
   "cell_type": "code",
   "execution_count": 1,
   "metadata": {
    "id": "4H5W6rgkJbe5"
   },
   "outputs": [],
   "source": [
    "# your code here"
   ]
  },
  {
   "cell_type": "markdown",
   "metadata": {
    "id": "MRCOv2g6NpE4"
   },
   "source": [
    "__[0.3]__ Разбейте выборку на train (80%) и validation (20%) случайным образом. Все файлы, которые будут в обучающей выборке, переложите в подпапку `images/train`. Все файлы, которые будут в валидационной выборке, переложите в подпапку `images/test`. Используйте для этого цикл и команду `os.rename(path, new_path)`."
   ]
  },
  {
   "cell_type": "code",
   "execution_count": 3,
   "metadata": {
    "id": "rELnc1N83MXk"
   },
   "outputs": [],
   "source": [
    "# your code here"
   ]
  },
  {
   "cell_type": "code",
   "execution_count": null,
   "metadata": {
    "colab": {
     "base_uri": "https://localhost:8080/"
    },
    "id": "u2Kqr5xaNbvS",
    "outputId": "16922a56-491c-4d9a-df27-0a97e964f0d0"
   },
   "outputs": [
    {
     "name": "stdout",
     "output_type": "stream",
     "text": [
      "images\t      images_clean.zip\tMovieGenre.csv\tsamplemovieposters\n",
      "images_clean  images.zip\tsample_data\tSampleMoviePosters\n"
     ]
    }
   ],
   "source": [
    "!ls"
   ]
  },
  {
   "cell_type": "markdown",
   "metadata": {
    "id": "YglUQkyBOP8Y"
   },
   "source": [
    "Сделайте бэкап данных на свой гугл-диск. При решении дальнейших разделов используйте этот бэкап. Если вы решили, что не хотите решать часть, связанную с подготовкой данных, используйте мой бэкап. "
   ]
  },
  {
   "cell_type": "markdown",
   "metadata": {
    "id": "KSHa2KoAOyz2"
   },
   "source": [
    "# 2. Поставка данных (2 балла) \n",
    "\n",
    "Если вы выполнили первую часть работы и скачали свои данные, используйте во всех дальнейших пунктах именно их. Если вы решили забить на подготовку данных, скачайте [мой вариант с гугл-диска.](https://drive.google.com/file/d/1SDMBNpWW9gKEWR4tmGacHUvKfrQnoNRY/view?usp=sharing) В моей папке следующая структура: \n",
    "\n",
    "<pre style=\"font-size: 10.0pt; font-family: Arial; line-height: 2; letter-spacing: 1.0pt;\" >\n",
    "<b>images_clean</b>\n",
    "|__ <b>train</b>\n",
    "    |______ ['1972819_Drama.jpg', '132910_Action|Crime|Fantasy.jpg', '96804_Action|Drama.jpg'....]\n",
    "|__ <b>test</b>\n",
    "    |______ ['3732252_Drama.jpg', '1919184_Crime|Drama|Thriller.jpg', '43303_Comedy|Crime.jpg' ....]\n",
    "|__ MovieGenre.csv\n",
    "</pre>\n"
   ]
  },
  {
   "cell_type": "code",
   "execution_count": null,
   "metadata": {
    "id": "4SsTLvZXNiN9"
   },
   "outputs": [],
   "source": [
    "# Скачиваем данные && разархивируем их && удаляем архив \n",
    "# !gdown --id 1SDMBNpWW9gKEWR4tmGacHUvKfrQnoNRY && unzip -q images_clean.zip && rm images_clean.zip"
   ]
  },
  {
   "cell_type": "code",
   "execution_count": null,
   "metadata": {
    "id": "vaCtuF8mYfis"
   },
   "outputs": [],
   "source": [
    "path = os.getcwd()\n",
    "\n",
    "root_train = path + '/images_clean/train'\n",
    "root_val = path + '/images_clean/test'\n",
    "\n",
    "movies = pd.read_csv(path + \"/images_clean/MovieGenre.csv\", encoding=\"ISO-8859-1\")\n",
    "\n",
    "# по id выдаёт название фильма\n",
    "imdbId2Title = dict(zip(movies.imdbId.values, movies.Title.values))"
   ]
  },
  {
   "cell_type": "code",
   "execution_count": null,
   "metadata": {
    "id": "u2wbdujyk8KI"
   },
   "outputs": [],
   "source": [
    "# Проверка все ли жанры из трэйна присутствуют в валидации\n",
    "\n",
    "uniq_train_genres = sorted(set([jtem for item in os.listdir(root_train) for jtem in item.split('_')[-1].split('.')[0].split(\"|\")]))\n",
    "uniq_val_genres = sorted(set([jtem for item in os.listdir(root_val) for jtem in item.split('_')[-1].split('.')[0].split(\"|\")]))\n",
    "\n",
    "assert uniq_train_genres == uniq_val_genres\n",
    "\n",
    "UNIQ_GENRES = np.array(uniq_train_genres)"
   ]
  },
  {
   "cell_type": "markdown",
   "metadata": {
    "id": "ES1KaRCLPG21"
   },
   "source": [
    "\n",
    "> В этой части задания вам предстоит написать итераторы для дальнейшей работы с данными. Для этого нужно заполнить в функциях ниже все пропуски, а также дописать недостающие. Если вы не хотите писать итераторы, сразу переходите к обучению нейросетей. В таком случае вы не получите баллы за этот пункт. \n",
    "\n",
    "Для начала напишем несколько вспомогательных мелких функций. "
   ]
  },
  {
   "cell_type": "code",
   "execution_count": null,
   "metadata": {},
   "outputs": [],
   "source": [
    "import torch\n",
    "import torchvision.transforms as T\n",
    "from torch.utils.data import Dataset, DataLoader\n",
    "\n",
    "import torch.nn.functional as F\n",
    "import torch.optim as optim\n",
    "\n",
    "from sklearn.model_selection import train_test_split\n",
    "\n",
    "device = \"cuda\" if torch.cuda.is_available() else \"cpu\""
   ]
  },
  {
   "cell_type": "code",
   "execution_count": 3,
   "metadata": {
    "id": "uqUiDwnblLGR"
   },
   "outputs": [],
   "source": [
    "class PosterDataset(Dataset):\n",
    "    SPLIT_RANDOM_SEED = 42\n",
    "    TEST_SIZE = 0.25\n",
    "    \n",
    "    def __init__(self, root, train=True, load_to_ram=True, transform=None):\n",
    "        super().__init__()\n",
    "        self.root = root\n",
    "        self.train = train\n",
    "        self.transform = transform\n",
    "        \n",
    "    def __len__(self):\n",
    "        # your code here\n",
    "        pass\n",
    "\n",
    "    def __getitem__(self, item):\n",
    "        # your code here\n",
    "        pass"
   ]
  },
  {
   "cell_type": "markdown",
   "metadata": {},
   "source": [
    "Объявите тестовый, валидационный и обучающий датасеты."
   ]
  },
  {
   "cell_type": "code",
   "execution_count": null,
   "metadata": {},
   "outputs": [],
   "source": [
    "# your code here"
   ]
  },
  {
   "cell_type": "markdown",
   "metadata": {
    "id": "ElShVZed14l7"
   },
   "source": [
    "# 3. Собственные архитектуры (3 балла). \n",
    "\n",
    "> В этой части задания вам предстоит написать и обучить две собственные нейросетевые архитектуры. Они должны отличаться друг от друга. Например, это могут быть RESNET и обычная свёрточная сетка. Ваш итоговый балл за это задание зависит от того, насколько качественно вы обучили модель и того, насколько аккуратно написан код. Постарайтесь воспользоваться расписанием на скорость обучения и ещё какими-нибудь эвристиками. \n",
    "\n",
    "Если вы написали в предыдущем пункте итераторы, используйте их. Если нет, подгрузите данные все картинки в память компьютера и работайте с ними. Чтобы картинки не забили всю оперативную память, можете сжать их. "
   ]
  },
  {
   "cell_type": "code",
   "execution_count": null,
   "metadata": {},
   "outputs": [],
   "source": [
    "# your code here"
   ]
  },
  {
   "cell_type": "markdown",
   "metadata": {
    "id": "MmMkIAzEc_Zq"
   },
   "source": [
    "__[0.1 балл]__  Как будем применять нейросеть на новых данных? На какой таргет будем обучаться? \n",
    "\n",
    "__Ответ:__ "
   ]
  },
  {
   "cell_type": "markdown",
   "metadata": {
    "id": "Iw3rl6tpcceb"
   },
   "source": [
    "__[0.9 балла]__ Для начала попробуем обучить несколько собственных нейронок. Собирите три принципиально различающиеся друг от друга архитектуры и обучите их. \n",
    "\n",
    "Архитектуры принципиально отличаются друг от друга, если в них закладываются разные идеи. Например, это могут быть полносвязная сеть, свёрточная сеть, ResNet, Inception, DenseNet и т.п. "
   ]
  },
  {
   "cell_type": "code",
   "execution_count": null,
   "metadata": {
    "id": "zAKfDjCjccDJ"
   },
   "outputs": [],
   "source": [
    "# your code here"
   ]
  },
  {
   "cell_type": "markdown",
   "metadata": {
    "id": "WMUMtEEV3ASe"
   },
   "source": [
    "__[2 балла]__ Теперь нам нужна модель, которая даст на тестовой выборке  __accuracy больше 50%.__ Если удастся, пробейте порог в __70%.__  Если не выйдет, просто поставьте несколько экспериментов.\n",
    "\n",
    "Можно использовать абсолютно всё, что вы знаете: любые активации, слои, сколь угодно большие свёрточные слои и глубокие сети. Единственное, нельзя использовать предобученные сети и дополнительные данные. \n",
    "\n",
    "__Главное правило: одно изменение на эксперимент.__   Если у вас есть 2 идеи по улучшению сети, сначала попробуйте их независимо. Может оказаться, что одно из них дало __+10%__ точности а другое __-7%__. А вы так и будете думать, что сделали 2 полезных изменения которые в сумме дают __+3%__. Если какая-то идея не работает — даже если она вам нравится - опишите ее и выкидывайте из дальнейших экспериментов. \n",
    "\n",
    "* __Дропаут.__ может помочь обучеть нейросетку в несколько раз глубже и избежать переобучения. Это круто, но не стоит сразу ставить дропаут в $0.5$. Слишком сильный дропаут приводет к недообучению (underfitting).  Более того, дропаут замедляет обучение. Если пытаетесь пробовать его, начинайте с не очень больших значений.\n",
    "\n",
    "* __Аугментация данных.__ На паре мы обсуждали, что если котов и собак чуток повращать и погнуть, они всё ещё останутся таковыми, а модель получит новую пищу для размышления. Для того, чтобы проделать трюк с аугментацией, придётся немного подрихтовать генератор данных. Для тестовой выборки не надо ничего аугментировать. Это нечестно. Обратите внимание, что если вы сами не в состоянии понять что за картинка перед вами, то и сеть тоже это не поймёт. \n",
    "\n",
    "* __Прекратитеть стакать слои!__ Есть более эффективные идеи. Реализуйте на Keras свой ResNet слой или свой Inception слой. Придётся написать немного кода в функциональном стиле, но я верю в вас.  Ещё можете попробовать Densely-connected convolutions и многие другие идеи. Для вдохновения [можете сходить сюда.](https://habr.com/ru/company/ods/blog/343822/)  Не надо только копировать огромные архитектуры под чистую, вам точно хватит более маленькой сетки. \n",
    "\n",
    "* __Долго != плохо__. Более глубокие архитектуры обычно требуют бОльше эпох до сходимости. Это значит, что в первые несколько эпох они могут быть хуже менее глубоких аналогов. Дайте им время, запаситесь чаем и обмажьтесь batch-norm-ом.\n",
    "\n",
    "* Обязательно попробуйте поставить расписание на learning rate. Уменьшайте его, когда лосс на валидации перестаёт убывать. В таком случае лучше учить модель с помощью цикла, а не метода `.fit`. \n",
    "\n",
    "* Вместо отрисовки картинок в тетрадке, можете логгировать свой [прогресс на wandb.](https://wandb.ai/quickstart) В этом случае приложите к тетрадке ссылку на дашборд с метриками."
   ]
  },
  {
   "cell_type": "code",
   "execution_count": null,
   "metadata": {
    "id": "GxA7lpYe3Ac-"
   },
   "outputs": [],
   "source": [
    "# your code here"
   ]
  },
  {
   "cell_type": "markdown",
   "metadata": {
    "id": "olRK5Tjs3I6m"
   },
   "source": [
    "Опишите свои <s>ощущения</s> результаты от проведенных экспериментов. Может быть несколько проще, если писать этот отчет сразу после каждого эксперимента.\n",
    "\n",
    "__Отчёт об экспериментах:__ \n",
    "\n",
    "текст c отчётом писать тут ...\n",
    "\n",
    "\n"
   ]
  },
  {
   "cell_type": "markdown",
   "metadata": {
    "id": "PRolXitS3Tau"
   },
   "source": [
    "# 4. Эмбеддинги картинок (1 балл)\n",
    "\n",
    "__[0.2]__ Подгрузите из torchvision любую уже собранную за вас модель. Срежьте у неё последние слои, создав тем самым экстрактор фичей. \n"
   ]
  },
  {
   "cell_type": "code",
   "execution_count": null,
   "metadata": {
    "id": "pY756puWEXAH"
   },
   "outputs": [],
   "source": [
    "# your code here"
   ]
  },
  {
   "cell_type": "markdown",
   "metadata": {
    "id": "l9qodzSyEdjR"
   },
   "source": [
    "__[0.2]__ Прогоните экстрактор через обучающую и тестовую выборки. Сохраните получившиеся эмбеддинги в отдельные матрицы."
   ]
  },
  {
   "cell_type": "code",
   "execution_count": null,
   "metadata": {
    "id": "s7x5IFmUEXJd"
   },
   "outputs": [],
   "source": [
    "# your code here"
   ]
  },
  {
   "cell_type": "markdown",
   "metadata": {
    "id": "Qzfut9CEEpmk"
   },
   "source": [
    "__[0.2]__ С помощью TSNE визуализируйте тестовую выборку. Раскрасьте точки в соотвествии с жанрами. Если у точки несколько жанров, выберите любой. Видно ли что-то интересное в полученной визуализации? "
   ]
  },
  {
   "cell_type": "code",
   "execution_count": null,
   "metadata": {
    "id": "xTGnzSIWEXQt"
   },
   "outputs": [],
   "source": [
    "# your code here"
   ]
  },
  {
   "cell_type": "markdown",
   "metadata": {
    "id": "Rvj_VT07E3BD"
   },
   "source": [
    "__[0.4]__ Подгрузите из `catboost` градиентный бустинг и обучите его классифицировать картинки. В качестве фичей используйте выделенные на прошлых шагах эмбеддинги. Каким оказыватся качество алгоритма на тестовой выборке?"
   ]
  },
  {
   "cell_type": "code",
   "execution_count": null,
   "metadata": {
    "id": "dk2wnj503U-U"
   },
   "outputs": [],
   "source": [
    "# your code here"
   ]
  },
  {
   "cell_type": "markdown",
   "metadata": {
    "id": "XQRdzaXED8Pm"
   },
   "source": [
    "# 5. Transfer learning\n",
    "\n",
    "__[1 балл]__ Попробуем трансфер-лёрнинг!\n",
    "\n",
    "- Возьмите базовую сетку из предыдущего пунтка. Срежьте у неё последние сслои. Заморозьте в ней все параметры. \n",
    "- Добавьте поверх базовой части свою маленькую сетку.\n",
    "- Обучите добавленную часть."
   ]
  },
  {
   "cell_type": "code",
   "execution_count": null,
   "metadata": {
    "id": "YaEUWlnY3VIg"
   },
   "outputs": [],
   "source": [
    "# your code here"
   ]
  },
  {
   "cell_type": "markdown",
   "metadata": {
    "id": "h4gTwmOYF1f1"
   },
   "source": [
    "__[1 балл]__ Повторите то же самое упражнение, но теперь добавьте на этап обучения аугментацию данных."
   ]
  },
  {
   "cell_type": "code",
   "execution_count": null,
   "metadata": {
    "id": "3QinJGicF6LV"
   },
   "outputs": [],
   "source": [
    "# your code here"
   ]
  },
  {
   "cell_type": "markdown",
   "metadata": {
    "id": "wZ9vh5Bi3Td_"
   },
   "source": [
    "# 6. Дообучение (fine-tuning)\n",
    "\n",
    "__[1]__ Попробуем сделать дообучение нейронной сети: \n",
    "\n",
    "- Возьмите базовую сетку из предыдущего пунтка. Срежьте у неё последние сслои. НЕ ЗАМОРАЖИВАЙТЕ её параметры. Они должны обучаться вместе со всей сетью. \n",
    "- Добавьте поверх базовой части свою маленькую сетку.\n",
    "- Обучите получившуюся архитектуру. \n",
    "\n"
   ]
  },
  {
   "cell_type": "code",
   "execution_count": null,
   "metadata": {
    "id": "GFAstOzOGD37"
   },
   "outputs": [],
   "source": [
    "# your code here"
   ]
  },
  {
   "cell_type": "markdown",
   "metadata": {
    "id": "gNqaSG31FS9O"
   },
   "source": [
    "Подведём итоги. Какая из моделей показала самое хорошее качество? Какая оказалась самой плохой? Какие из архитектур получилось побить с помощью градиентного бустинга?\n",
    "\n",
    "__Ответ:__ ..."
   ]
  }
 ],
 "metadata": {
  "colab": {
   "name": "HW03_computer_vision.ipynb",
   "provenance": []
  },
  "kernelspec": {
   "display_name": "Python 3 (ipykernel)",
   "language": "python",
   "name": "python3"
  },
  "language_info": {
   "codemirror_mode": {
    "name": "ipython",
    "version": 3
   },
   "file_extension": ".py",
   "mimetype": "text/x-python",
   "name": "python",
   "nbconvert_exporter": "python",
   "pygments_lexer": "ipython3",
   "version": "3.10.9"
  },
  "widgets": {
   "application/vnd.jupyter.widget-state+json": {
    "02d5e4df8a44466cb86822a083ea38c6": {
     "model_module": "@jupyter-widgets/controls",
     "model_module_version": "1.5.0",
     "model_name": "ProgressStyleModel",
     "state": {
      "_model_module": "@jupyter-widgets/controls",
      "_model_module_version": "1.5.0",
      "_model_name": "ProgressStyleModel",
      "_view_count": null,
      "_view_module": "@jupyter-widgets/base",
      "_view_module_version": "1.2.0",
      "_view_name": "StyleView",
      "bar_color": null,
      "description_width": ""
     }
    },
    "0bccb806310f45e381eb46b714c1088b": {
     "model_module": "@jupyter-widgets/base",
     "model_module_version": "1.2.0",
     "model_name": "LayoutModel",
     "state": {
      "_model_module": "@jupyter-widgets/base",
      "_model_module_version": "1.2.0",
      "_model_name": "LayoutModel",
      "_view_count": null,
      "_view_module": "@jupyter-widgets/base",
      "_view_module_version": "1.2.0",
      "_view_name": "LayoutView",
      "align_content": null,
      "align_items": null,
      "align_self": null,
      "border": null,
      "bottom": null,
      "display": null,
      "flex": null,
      "flex_flow": null,
      "grid_area": null,
      "grid_auto_columns": null,
      "grid_auto_flow": null,
      "grid_auto_rows": null,
      "grid_column": null,
      "grid_gap": null,
      "grid_row": null,
      "grid_template_areas": null,
      "grid_template_columns": null,
      "grid_template_rows": null,
      "height": null,
      "justify_content": null,
      "justify_items": null,
      "left": null,
      "margin": null,
      "max_height": null,
      "max_width": null,
      "min_height": null,
      "min_width": null,
      "object_fit": null,
      "object_position": null,
      "order": null,
      "overflow": null,
      "overflow_x": null,
      "overflow_y": null,
      "padding": null,
      "right": null,
      "top": null,
      "visibility": null,
      "width": null
     }
    },
    "22f3317f87f74e01a08fbe58d7aacb76": {
     "model_module": "@jupyter-widgets/controls",
     "model_module_version": "1.5.0",
     "model_name": "DescriptionStyleModel",
     "state": {
      "_model_module": "@jupyter-widgets/controls",
      "_model_module_version": "1.5.0",
      "_model_name": "DescriptionStyleModel",
      "_view_count": null,
      "_view_module": "@jupyter-widgets/base",
      "_view_module_version": "1.2.0",
      "_view_name": "StyleView",
      "description_width": ""
     }
    },
    "2ddb823f9812452ab96c606065527543": {
     "model_module": "@jupyter-widgets/controls",
     "model_module_version": "1.5.0",
     "model_name": "FloatProgressModel",
     "state": {
      "_dom_classes": [],
      "_model_module": "@jupyter-widgets/controls",
      "_model_module_version": "1.5.0",
      "_model_name": "FloatProgressModel",
      "_view_count": null,
      "_view_module": "@jupyter-widgets/controls",
      "_view_module_version": "1.5.0",
      "_view_name": "ProgressView",
      "bar_style": "success",
      "description": "",
      "description_tooltip": null,
      "layout": "IPY_MODEL_e6007cafaf554c499ee8b2f65fc007ad",
      "max": 38670,
      "min": 0,
      "orientation": "horizontal",
      "style": "IPY_MODEL_02d5e4df8a44466cb86822a083ea38c6",
      "value": 38670
     }
    },
    "708d821db454415ebee70a42376de02e": {
     "model_module": "@jupyter-widgets/controls",
     "model_module_version": "1.5.0",
     "model_name": "HTMLModel",
     "state": {
      "_dom_classes": [],
      "_model_module": "@jupyter-widgets/controls",
      "_model_module_version": "1.5.0",
      "_model_name": "HTMLModel",
      "_view_count": null,
      "_view_module": "@jupyter-widgets/controls",
      "_view_module_version": "1.5.0",
      "_view_name": "HTMLView",
      "description": "",
      "description_tooltip": null,
      "layout": "IPY_MODEL_ee9bcd1739f842038ad1d718cedee8e7",
      "placeholder": "​",
      "style": "IPY_MODEL_22f3317f87f74e01a08fbe58d7aacb76",
      "value": "100%"
     }
    },
    "84fa94d798324c8f870c10ac0e05dfa2": {
     "model_module": "@jupyter-widgets/controls",
     "model_module_version": "1.5.0",
     "model_name": "HBoxModel",
     "state": {
      "_dom_classes": [],
      "_model_module": "@jupyter-widgets/controls",
      "_model_module_version": "1.5.0",
      "_model_name": "HBoxModel",
      "_view_count": null,
      "_view_module": "@jupyter-widgets/controls",
      "_view_module_version": "1.5.0",
      "_view_name": "HBoxView",
      "box_style": "",
      "children": [
       "IPY_MODEL_708d821db454415ebee70a42376de02e",
       "IPY_MODEL_2ddb823f9812452ab96c606065527543",
       "IPY_MODEL_c84e8605dfc6486dbb996a12a71a2657"
      ],
      "layout": "IPY_MODEL_0bccb806310f45e381eb46b714c1088b"
     }
    },
    "c84e8605dfc6486dbb996a12a71a2657": {
     "model_module": "@jupyter-widgets/controls",
     "model_module_version": "1.5.0",
     "model_name": "HTMLModel",
     "state": {
      "_dom_classes": [],
      "_model_module": "@jupyter-widgets/controls",
      "_model_module_version": "1.5.0",
      "_model_name": "HTMLModel",
      "_view_count": null,
      "_view_module": "@jupyter-widgets/controls",
      "_view_module_version": "1.5.0",
      "_view_name": "HTMLView",
      "description": "",
      "description_tooltip": null,
      "layout": "IPY_MODEL_f384b2dcecbf43639fb76d6aa19f6f24",
      "placeholder": "​",
      "style": "IPY_MODEL_fb8bd47ed5644c978c67faababd0a619",
      "value": " 38670/38670 [1:06:27&lt;00:00, 11.67it/s]"
     }
    },
    "e6007cafaf554c499ee8b2f65fc007ad": {
     "model_module": "@jupyter-widgets/base",
     "model_module_version": "1.2.0",
     "model_name": "LayoutModel",
     "state": {
      "_model_module": "@jupyter-widgets/base",
      "_model_module_version": "1.2.0",
      "_model_name": "LayoutModel",
      "_view_count": null,
      "_view_module": "@jupyter-widgets/base",
      "_view_module_version": "1.2.0",
      "_view_name": "LayoutView",
      "align_content": null,
      "align_items": null,
      "align_self": null,
      "border": null,
      "bottom": null,
      "display": null,
      "flex": null,
      "flex_flow": null,
      "grid_area": null,
      "grid_auto_columns": null,
      "grid_auto_flow": null,
      "grid_auto_rows": null,
      "grid_column": null,
      "grid_gap": null,
      "grid_row": null,
      "grid_template_areas": null,
      "grid_template_columns": null,
      "grid_template_rows": null,
      "height": null,
      "justify_content": null,
      "justify_items": null,
      "left": null,
      "margin": null,
      "max_height": null,
      "max_width": null,
      "min_height": null,
      "min_width": null,
      "object_fit": null,
      "object_position": null,
      "order": null,
      "overflow": null,
      "overflow_x": null,
      "overflow_y": null,
      "padding": null,
      "right": null,
      "top": null,
      "visibility": null,
      "width": null
     }
    },
    "ee9bcd1739f842038ad1d718cedee8e7": {
     "model_module": "@jupyter-widgets/base",
     "model_module_version": "1.2.0",
     "model_name": "LayoutModel",
     "state": {
      "_model_module": "@jupyter-widgets/base",
      "_model_module_version": "1.2.0",
      "_model_name": "LayoutModel",
      "_view_count": null,
      "_view_module": "@jupyter-widgets/base",
      "_view_module_version": "1.2.0",
      "_view_name": "LayoutView",
      "align_content": null,
      "align_items": null,
      "align_self": null,
      "border": null,
      "bottom": null,
      "display": null,
      "flex": null,
      "flex_flow": null,
      "grid_area": null,
      "grid_auto_columns": null,
      "grid_auto_flow": null,
      "grid_auto_rows": null,
      "grid_column": null,
      "grid_gap": null,
      "grid_row": null,
      "grid_template_areas": null,
      "grid_template_columns": null,
      "grid_template_rows": null,
      "height": null,
      "justify_content": null,
      "justify_items": null,
      "left": null,
      "margin": null,
      "max_height": null,
      "max_width": null,
      "min_height": null,
      "min_width": null,
      "object_fit": null,
      "object_position": null,
      "order": null,
      "overflow": null,
      "overflow_x": null,
      "overflow_y": null,
      "padding": null,
      "right": null,
      "top": null,
      "visibility": null,
      "width": null
     }
    },
    "f384b2dcecbf43639fb76d6aa19f6f24": {
     "model_module": "@jupyter-widgets/base",
     "model_module_version": "1.2.0",
     "model_name": "LayoutModel",
     "state": {
      "_model_module": "@jupyter-widgets/base",
      "_model_module_version": "1.2.0",
      "_model_name": "LayoutModel",
      "_view_count": null,
      "_view_module": "@jupyter-widgets/base",
      "_view_module_version": "1.2.0",
      "_view_name": "LayoutView",
      "align_content": null,
      "align_items": null,
      "align_self": null,
      "border": null,
      "bottom": null,
      "display": null,
      "flex": null,
      "flex_flow": null,
      "grid_area": null,
      "grid_auto_columns": null,
      "grid_auto_flow": null,
      "grid_auto_rows": null,
      "grid_column": null,
      "grid_gap": null,
      "grid_row": null,
      "grid_template_areas": null,
      "grid_template_columns": null,
      "grid_template_rows": null,
      "height": null,
      "justify_content": null,
      "justify_items": null,
      "left": null,
      "margin": null,
      "max_height": null,
      "max_width": null,
      "min_height": null,
      "min_width": null,
      "object_fit": null,
      "object_position": null,
      "order": null,
      "overflow": null,
      "overflow_x": null,
      "overflow_y": null,
      "padding": null,
      "right": null,
      "top": null,
      "visibility": null,
      "width": null
     }
    },
    "fb8bd47ed5644c978c67faababd0a619": {
     "model_module": "@jupyter-widgets/controls",
     "model_module_version": "1.5.0",
     "model_name": "DescriptionStyleModel",
     "state": {
      "_model_module": "@jupyter-widgets/controls",
      "_model_module_version": "1.5.0",
      "_model_name": "DescriptionStyleModel",
      "_view_count": null,
      "_view_module": "@jupyter-widgets/base",
      "_view_module_version": "1.2.0",
      "_view_name": "StyleView",
      "description_width": ""
     }
    }
   }
  }
 },
 "nbformat": 4,
 "nbformat_minor": 1
}
