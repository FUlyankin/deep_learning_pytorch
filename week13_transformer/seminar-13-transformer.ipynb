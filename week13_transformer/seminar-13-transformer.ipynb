{
  "cells": [
    {
      "cell_type": "markdown",
      "source": [
        "## Pre-processing data"
      ],
      "metadata": {
        "id": "OugssVsBNlc8"
      }
    },
    {
      "cell_type": "code",
      "execution_count": 1,
      "metadata": {
        "id": "yI7BWxPB3HYG"
      },
      "outputs": [],
      "source": [
        "import pandas as pd\n",
        "import numpy as np\n",
        "import matplotlib.pyplot as plt\n",
        "import seaborn as sns\n",
        "import torch\n",
        "from tqdm.notebook import tqdm\n",
        "\n",
        "plt.rcParams.update({'font.size': 14})\n",
        "sns.set_style('whitegrid')"
      ]
    },
    {
      "cell_type": "code",
      "source": [
        "!pip install torchdata"
      ],
      "metadata": {
        "id": "WHBJDaFyiJws"
      },
      "execution_count": null,
      "outputs": []
    },
    {
      "cell_type": "code",
      "execution_count": 29,
      "metadata": {
        "id": "R4RW2HKe3fir"
      },
      "outputs": [],
      "source": [
        "from torchtext.datasets import IMDB\n",
        "\n",
        "def get_dataset(split='train'):\n",
        "    dataset = IMDB('./data', split=split)\n",
        "    texts, targets = [], []\n",
        "    \n",
        "    for label, text in dataset:\n",
        "        targets += [label - 1]\n",
        "        texts += [text]\n",
        "    \n",
        "    return pd.DataFrame({'raw_text': texts, 'target': targets})"
      ]
    },
    {
      "cell_type": "code",
      "execution_count": 30,
      "metadata": {
        "colab": {
          "base_uri": "https://localhost:8080/"
        },
        "id": "wCwADopE3o6t",
        "outputId": "dd64f894-c416-423a-ba0a-9672de943f4e"
      },
      "outputs": [
        {
          "output_type": "execute_result",
          "data": {
            "text/plain": [
              "((25000, 2), (25000, 2))"
            ]
          },
          "metadata": {},
          "execution_count": 30
        }
      ],
      "source": [
        "train_set = get_dataset('train')\n",
        "test_set = get_dataset('test')\n",
        "train_set.shape, test_set.shape"
      ]
    },
    {
      "cell_type": "code",
      "execution_count": 31,
      "metadata": {
        "colab": {
          "base_uri": "https://localhost:8080/",
          "height": 206
        },
        "id": "FuhTFWgJTU1T",
        "outputId": "4a7a3316-c538-4116-ef4f-6f55f2fc82d6"
      },
      "outputs": [
        {
          "output_type": "execute_result",
          "data": {
            "text/plain": [
              "                                            raw_text  target\n",
              "0  I rented I AM CURIOUS-YELLOW from my video sto...       0\n",
              "1  \"I Am Curious: Yellow\" is a risible and preten...       0\n",
              "2  If only to avoid making this type of film in t...       0\n",
              "3  This film was probably inspired by Godard's Ma...       0\n",
              "4  Oh, brother...after hearing about this ridicul...       0"
            ],
            "text/html": [
              "\n",
              "  <div id=\"df-89460c57-dc49-42f5-9ba9-990f63fc0da2\">\n",
              "    <div class=\"colab-df-container\">\n",
              "      <div>\n",
              "<style scoped>\n",
              "    .dataframe tbody tr th:only-of-type {\n",
              "        vertical-align: middle;\n",
              "    }\n",
              "\n",
              "    .dataframe tbody tr th {\n",
              "        vertical-align: top;\n",
              "    }\n",
              "\n",
              "    .dataframe thead th {\n",
              "        text-align: right;\n",
              "    }\n",
              "</style>\n",
              "<table border=\"1\" class=\"dataframe\">\n",
              "  <thead>\n",
              "    <tr style=\"text-align: right;\">\n",
              "      <th></th>\n",
              "      <th>raw_text</th>\n",
              "      <th>target</th>\n",
              "    </tr>\n",
              "  </thead>\n",
              "  <tbody>\n",
              "    <tr>\n",
              "      <th>0</th>\n",
              "      <td>I rented I AM CURIOUS-YELLOW from my video sto...</td>\n",
              "      <td>0</td>\n",
              "    </tr>\n",
              "    <tr>\n",
              "      <th>1</th>\n",
              "      <td>\"I Am Curious: Yellow\" is a risible and preten...</td>\n",
              "      <td>0</td>\n",
              "    </tr>\n",
              "    <tr>\n",
              "      <th>2</th>\n",
              "      <td>If only to avoid making this type of film in t...</td>\n",
              "      <td>0</td>\n",
              "    </tr>\n",
              "    <tr>\n",
              "      <th>3</th>\n",
              "      <td>This film was probably inspired by Godard's Ma...</td>\n",
              "      <td>0</td>\n",
              "    </tr>\n",
              "    <tr>\n",
              "      <th>4</th>\n",
              "      <td>Oh, brother...after hearing about this ridicul...</td>\n",
              "      <td>0</td>\n",
              "    </tr>\n",
              "  </tbody>\n",
              "</table>\n",
              "</div>\n",
              "      <button class=\"colab-df-convert\" onclick=\"convertToInteractive('df-89460c57-dc49-42f5-9ba9-990f63fc0da2')\"\n",
              "              title=\"Convert this dataframe to an interactive table.\"\n",
              "              style=\"display:none;\">\n",
              "        \n",
              "  <svg xmlns=\"http://www.w3.org/2000/svg\" height=\"24px\"viewBox=\"0 0 24 24\"\n",
              "       width=\"24px\">\n",
              "    <path d=\"M0 0h24v24H0V0z\" fill=\"none\"/>\n",
              "    <path d=\"M18.56 5.44l.94 2.06.94-2.06 2.06-.94-2.06-.94-.94-2.06-.94 2.06-2.06.94zm-11 1L8.5 8.5l.94-2.06 2.06-.94-2.06-.94L8.5 2.5l-.94 2.06-2.06.94zm10 10l.94 2.06.94-2.06 2.06-.94-2.06-.94-.94-2.06-.94 2.06-2.06.94z\"/><path d=\"M17.41 7.96l-1.37-1.37c-.4-.4-.92-.59-1.43-.59-.52 0-1.04.2-1.43.59L10.3 9.45l-7.72 7.72c-.78.78-.78 2.05 0 2.83L4 21.41c.39.39.9.59 1.41.59.51 0 1.02-.2 1.41-.59l7.78-7.78 2.81-2.81c.8-.78.8-2.07 0-2.86zM5.41 20L4 18.59l7.72-7.72 1.47 1.35L5.41 20z\"/>\n",
              "  </svg>\n",
              "      </button>\n",
              "      \n",
              "  <style>\n",
              "    .colab-df-container {\n",
              "      display:flex;\n",
              "      flex-wrap:wrap;\n",
              "      gap: 12px;\n",
              "    }\n",
              "\n",
              "    .colab-df-convert {\n",
              "      background-color: #E8F0FE;\n",
              "      border: none;\n",
              "      border-radius: 50%;\n",
              "      cursor: pointer;\n",
              "      display: none;\n",
              "      fill: #1967D2;\n",
              "      height: 32px;\n",
              "      padding: 0 0 0 0;\n",
              "      width: 32px;\n",
              "    }\n",
              "\n",
              "    .colab-df-convert:hover {\n",
              "      background-color: #E2EBFA;\n",
              "      box-shadow: 0px 1px 2px rgba(60, 64, 67, 0.3), 0px 1px 3px 1px rgba(60, 64, 67, 0.15);\n",
              "      fill: #174EA6;\n",
              "    }\n",
              "\n",
              "    [theme=dark] .colab-df-convert {\n",
              "      background-color: #3B4455;\n",
              "      fill: #D2E3FC;\n",
              "    }\n",
              "\n",
              "    [theme=dark] .colab-df-convert:hover {\n",
              "      background-color: #434B5C;\n",
              "      box-shadow: 0px 1px 3px 1px rgba(0, 0, 0, 0.15);\n",
              "      filter: drop-shadow(0px 1px 2px rgba(0, 0, 0, 0.3));\n",
              "      fill: #FFFFFF;\n",
              "    }\n",
              "  </style>\n",
              "\n",
              "      <script>\n",
              "        const buttonEl =\n",
              "          document.querySelector('#df-89460c57-dc49-42f5-9ba9-990f63fc0da2 button.colab-df-convert');\n",
              "        buttonEl.style.display =\n",
              "          google.colab.kernel.accessAllowed ? 'block' : 'none';\n",
              "\n",
              "        async function convertToInteractive(key) {\n",
              "          const element = document.querySelector('#df-89460c57-dc49-42f5-9ba9-990f63fc0da2');\n",
              "          const dataTable =\n",
              "            await google.colab.kernel.invokeFunction('convertToInteractive',\n",
              "                                                     [key], {});\n",
              "          if (!dataTable) return;\n",
              "\n",
              "          const docLinkHtml = 'Like what you see? Visit the ' +\n",
              "            '<a target=\"_blank\" href=https://colab.research.google.com/notebooks/data_table.ipynb>data table notebook</a>'\n",
              "            + ' to learn more about interactive tables.';\n",
              "          element.innerHTML = '';\n",
              "          dataTable['output_type'] = 'display_data';\n",
              "          await google.colab.output.renderOutput(dataTable, element);\n",
              "          const docLink = document.createElement('div');\n",
              "          docLink.innerHTML = docLinkHtml;\n",
              "          element.appendChild(docLink);\n",
              "        }\n",
              "      </script>\n",
              "    </div>\n",
              "  </div>\n",
              "  "
            ]
          },
          "metadata": {},
          "execution_count": 31
        }
      ],
      "source": [
        "train_set.head()"
      ]
    },
    {
      "cell_type": "code",
      "source": [
        "train_set['target'].value_counts()"
      ],
      "metadata": {
        "id": "GLSvotxoju2c",
        "outputId": "9973c07e-03ea-450c-b51f-e056122e1b34",
        "colab": {
          "base_uri": "https://localhost:8080/"
        }
      },
      "execution_count": 34,
      "outputs": [
        {
          "output_type": "execute_result",
          "data": {
            "text/plain": [
              "0    12500\n",
              "1    12500\n",
              "Name: target, dtype: int64"
            ]
          },
          "metadata": {},
          "execution_count": 34
        }
      ]
    },
    {
      "cell_type": "code",
      "source": [
        "test_set['target'].value_counts()"
      ],
      "metadata": {
        "id": "tvnUPQ52j8b6",
        "outputId": "2e93f39a-6f27-4084-b095-1e3f8a565cd6",
        "colab": {
          "base_uri": "https://localhost:8080/"
        }
      },
      "execution_count": 36,
      "outputs": [
        {
          "output_type": "execute_result",
          "data": {
            "text/plain": [
              "0    12500\n",
              "1    12500\n",
              "Name: target, dtype: int64"
            ]
          },
          "metadata": {},
          "execution_count": 36
        }
      ]
    },
    {
      "cell_type": "code",
      "execution_count": 37,
      "metadata": {
        "colab": {
          "base_uri": "https://localhost:8080/",
          "height": 131
        },
        "id": "IEwKF25CT_I_",
        "outputId": "e5a4ed77-256b-4650-ea97-3cb758bbde6e"
      },
      "outputs": [
        {
          "output_type": "execute_result",
          "data": {
            "text/plain": [
              "'Assuming this won\\'t end up a straight-to-video release, I would have to say void this title at all costs. Unless you\\'re bored of good, well-executed movies, that is. I saw this last night at AFI Dallas, and I left with 20 minutes remaining, simply because I didn\\'t care anymore (about the plot, not about insulting the director...that is awkward). When you can spot a goof only 5 minutes into the movie (a shot out, shattered window before any shots are fired...and then the window breaks with the first shot), things are going to bad. Let\\'s just say this is only an indicator of things to come...unfortunately.<br /><br />I\\'ll spare you all the details, but this is sub-par in every manner, even the half-assed acting by Michael Madsen is disappointing when you\\'re expecting half-assed acting from him. And the rape scene...Christ! \"Shut up and take it\" should never be used in a rape scene. EVER.<br /><br />3/10'"
            ],
            "application/vnd.google.colaboratory.intrinsic+json": {
              "type": "string"
            }
          },
          "metadata": {},
          "execution_count": 37
        }
      ],
      "source": [
        "train_set.loc[101]['raw_text']"
      ]
    },
    {
      "cell_type": "code",
      "execution_count": 38,
      "metadata": {
        "id": "CTU_900U4jLH"
      },
      "outputs": [],
      "source": [
        "import nltk\n",
        "from nltk.corpus import stopwords\n",
        "from nltk.tokenize import word_tokenize\n",
        "from nltk.stem import WordNetLemmatizer"
      ]
    },
    {
      "cell_type": "code",
      "source": [
        "nltk.download('omw-1.4')"
      ],
      "metadata": {
        "id": "rBejDDzJi0aL",
        "outputId": "5516b04c-1989-42f3-b3df-1581c1582321",
        "colab": {
          "base_uri": "https://localhost:8080/"
        }
      },
      "execution_count": 39,
      "outputs": [
        {
          "output_type": "stream",
          "name": "stderr",
          "text": [
            "[nltk_data] Downloading package omw-1.4 to /root/nltk_data...\n",
            "[nltk_data]   Package omw-1.4 is already up-to-date!\n"
          ]
        },
        {
          "output_type": "execute_result",
          "data": {
            "text/plain": [
              "True"
            ]
          },
          "metadata": {},
          "execution_count": 39
        }
      ]
    },
    {
      "cell_type": "code",
      "execution_count": 40,
      "metadata": {
        "colab": {
          "base_uri": "https://localhost:8080/"
        },
        "id": "1bzZmSxnUjhh",
        "outputId": "769f6618-7a32-4449-86a1-be365a5eaf8f"
      },
      "outputs": [
        {
          "output_type": "stream",
          "name": "stderr",
          "text": [
            "[nltk_data] Downloading package punkt to /root/nltk_data...\n",
            "[nltk_data]   Package punkt is already up-to-date!\n",
            "[nltk_data] Downloading package wordnet to /root/nltk_data...\n",
            "[nltk_data]   Package wordnet is already up-to-date!\n",
            "[nltk_data] Downloading package stopwords to /root/nltk_data...\n",
            "[nltk_data]   Package stopwords is already up-to-date!\n"
          ]
        }
      ],
      "source": [
        "nltk.download('punkt')\n",
        "nltk.download('wordnet')\n",
        "nltk.download('stopwords')\n",
        "\n",
        "stop_words = set(stopwords.words('english'))\n",
        "lemmatizer = WordNetLemmatizer()"
      ]
    },
    {
      "cell_type": "code",
      "execution_count": 41,
      "metadata": {
        "id": "7TD7zmBIT3Ad"
      },
      "outputs": [],
      "source": [
        "def preprocess(text):\n",
        "    text = list(filter(str.isalpha, word_tokenize(text.lower())))\n",
        "    text = list(lemmatizer.lemmatize(word) for word in text)\n",
        "    text = list(word for word in text if word not in stop_words)\n",
        "    return ' '.join(text)"
      ]
    },
    {
      "cell_type": "code",
      "execution_count": 42,
      "metadata": {
        "id": "yCqk8bvsT865"
      },
      "outputs": [],
      "source": [
        "train_set['text'] = train_set.apply(lambda row: preprocess(row.raw_text), axis=1)\n",
        "test_set['text'] = test_set.apply(lambda row: preprocess(row.raw_text), axis=1)"
      ]
    },
    {
      "cell_type": "code",
      "execution_count": 43,
      "metadata": {
        "colab": {
          "base_uri": "https://localhost:8080/",
          "height": 74
        },
        "id": "bhF05vU4Urns",
        "outputId": "1ef460e5-8ac0-4930-9a7d-88e685777f1b"
      },
      "outputs": [
        {
          "output_type": "execute_result",
          "data": {
            "text/plain": [
              "'assuming wo end release would say void title cost unless bored good movie saw last night afi dallas left minute remaining simply care anymore plot insulting director awkward spot goof minute movie shot shattered window shot fired window break first shot thing going bad let say indicator thing come br br spare detail every manner even acting michael madsen disappointing expecting acting rape scene christ shut take never used rape scene br br'"
            ],
            "application/vnd.google.colaboratory.intrinsic+json": {
              "type": "string"
            }
          },
          "metadata": {},
          "execution_count": 43
        }
      ],
      "source": [
        "train_set.loc[101]['text']"
      ]
    },
    {
      "cell_type": "markdown",
      "source": [
        "## Baseline"
      ],
      "metadata": {
        "id": "q__vMWwFNU5Q"
      }
    },
    {
      "cell_type": "code",
      "execution_count": 44,
      "metadata": {
        "id": "CO2mIUktUiBT"
      },
      "outputs": [],
      "source": [
        "from sklearn.feature_extraction.text import TfidfVectorizer\n",
        "from sklearn.linear_model import LogisticRegression\n",
        "from sklearn.metrics import accuracy_score"
      ]
    },
    {
      "cell_type": "code",
      "execution_count": 45,
      "metadata": {
        "id": "LllXX_foViFT"
      },
      "outputs": [],
      "source": [
        "tf_idf = TfidfVectorizer().fit(train_set['text'])\n",
        "train_tf_idf = tf_idf.transform(train_set['text'])\n",
        "test_tf_idf = tf_idf.transform(test_set['text'])"
      ]
    },
    {
      "cell_type": "code",
      "execution_count": 46,
      "metadata": {
        "id": "QhPoBKFyV1m8"
      },
      "outputs": [],
      "source": [
        "log_regr = LogisticRegression(n_jobs=-1).fit(train_tf_idf, train_set['target'])"
      ]
    },
    {
      "cell_type": "code",
      "execution_count": 47,
      "metadata": {
        "colab": {
          "base_uri": "https://localhost:8080/"
        },
        "id": "yAGw5Q25WNGm",
        "outputId": "bc497f9a-2f55-4999-ed29-5cfb335cb734"
      },
      "outputs": [
        {
          "output_type": "stream",
          "name": "stdout",
          "text": [
            "Train acc: 0.9330\n",
            "Test acc: 0.8783\n"
          ]
        }
      ],
      "source": [
        "print(f'Train acc: {accuracy_score(train_set[\"target\"],log_regr.predict(train_tf_idf)):.4f}')\n",
        "print(f'Test acc: {accuracy_score(test_set[\"target\"], log_regr.predict(test_tf_idf)):.4f}')"
      ]
    },
    {
      "cell_type": "markdown",
      "source": [
        "## Tokenizing data"
      ],
      "metadata": {
        "id": "7TIdSt-hNWrQ"
      }
    },
    {
      "cell_type": "code",
      "execution_count": 48,
      "metadata": {
        "id": "8n5_BK5UZkdg"
      },
      "outputs": [],
      "source": [
        "from torchtext.vocab import build_vocab_from_iterator\n",
        "\n",
        "def dataset_iterator(texts):\n",
        "    for text in texts:\n",
        "        yield text.split()"
      ]
    },
    {
      "cell_type": "code",
      "execution_count": 49,
      "metadata": {
        "id": "30LOZVA-dEiX"
      },
      "outputs": [],
      "source": [
        "vocab = build_vocab_from_iterator(\n",
        "    dataset_iterator(train_set['text']),\n",
        "    specials=['<pad>', '<unk>'], min_freq=10,\n",
        ")"
      ]
    },
    {
      "cell_type": "code",
      "execution_count": 50,
      "metadata": {
        "id": "MtACWlj4q2sf"
      },
      "outputs": [],
      "source": [
        "train_tokens = []\n",
        "for text in dataset_iterator(train_set['text']):\n",
        "    tokens = [vocab[word] if word in vocab else vocab['<unk>'] for word in text]\n",
        "    train_tokens += [tokens]\n",
        "\n",
        "test_tokens = []\n",
        "for text in dataset_iterator(test_set['text']):\n",
        "    tokens = [vocab[word] if word in vocab else vocab['<unk>'] for word in text]\n",
        "    test_tokens += [tokens]"
      ]
    },
    {
      "cell_type": "code",
      "execution_count": 51,
      "metadata": {
        "colab": {
          "base_uri": "https://localhost:8080/",
          "height": 361
        },
        "id": "vt-pWQKttA1O",
        "outputId": "5b09c733-badb-47bd-fd7a-081c038ed1dc"
      },
      "outputs": [
        {
          "output_type": "display_data",
          "data": {
            "text/plain": [
              "<Figure size 360x360 with 1 Axes>"
            ],
            "image/png": "[encoded data removed]"
          },
          "metadata": {}
        }
      ],
      "source": [
        "lengths = np.array([len(tokens) for tokens in train_tokens])\n",
        "sns.displot(lengths)\n",
        "plt.show()"
      ]
    },
    {
      "cell_type": "code",
      "execution_count": 52,
      "metadata": {
        "id": "6MOshOJbt0OS"
      },
      "outputs": [],
      "source": [
        "max_length = 256\n",
        "tokenized_train = torch.full((len(train_tokens), max_length), vocab['<pad>'], dtype=torch.int32)\n",
        "for i, tokens in enumerate(train_tokens):\n",
        "    length = min(max_length, len(tokens))\n",
        "    tokenized_train[i, :length] = torch.tensor(tokens[:length])\n",
        "\n",
        "tokenized_test = torch.full((len(test_tokens), max_length), vocab['<pad>'], dtype=torch.int32)\n",
        "for i, tokens in enumerate(test_tokens):\n",
        "    length = min(max_length, len(tokens))\n",
        "    tokenized_test[i, :length] = torch.tensor(tokens[:length])"
      ]
    },
    {
      "cell_type": "code",
      "execution_count": 55,
      "metadata": {
        "id": "U-M3Yhu8vMv9"
      },
      "outputs": [],
      "source": [
        "targets_train = torch.tensor(train_set['target'], dtype=torch.int32)\n",
        "targets_test = torch.tensor(test_set['target'], dtype=torch.int32)"
      ]
    },
    {
      "cell_type": "code",
      "execution_count": 56,
      "metadata": {
        "id": "QyEtSvlxvlO8"
      },
      "outputs": [],
      "source": [
        "from torch.utils.data import TensorDataset, DataLoader\n",
        "\n",
        "train_dataset = TensorDataset(tokenized_train, targets_train)\n",
        "test_dataset = TensorDataset(tokenized_test, targets_test)\n",
        "\n",
        "batch_size = 128\n",
        "train_loader = DataLoader(train_dataset, batch_size, shuffle=True, num_workers=2, pin_memory=True)\n",
        "test_loader = DataLoader(test_dataset, batch_size, shuffle=False, num_workers=2, pin_memory=True)"
      ]
    },
    {
      "cell_type": "markdown",
      "source": [
        "## Transformer architecture"
      ],
      "metadata": {
        "id": "yUWj6X84NZDm"
      }
    },
    {
      "cell_type": "code",
      "execution_count": 57,
      "metadata": {
        "id": "6HrDjTuwdjmB"
      },
      "outputs": [],
      "source": [
        "import math\n",
        "from torch import nn\n",
        "\n",
        "class PositionalEncoder(nn.Module):\n",
        "    # Adapted from: https://pytorch.org/tutorials/beginner/transformer_tutorial.html\n",
        "\n",
        "    def __init__(self, max_length, embed_dim, dropout):\n",
        "        super().__init__()\n",
        "        self.pos_features = torch.zeros(max_length, embed_dim)\n",
        "\n",
        "        positions = torch.arange(0, max_length, dtype=torch.float).unsqueeze(1)\n",
        "        freqs = torch.exp(torch.arange(0, embed_dim, 2, dtype=torch.float) * \\\n",
        "                          (-math.log(10000) / embed_dim)).unsqueeze(0)\n",
        "\n",
        "        arguments = positions * freqs\n",
        "        self.pos_features[:, 0::2] = torch.sin(arguments)\n",
        "        self.pos_features[:, 1::2] = torch.cos(arguments)\n",
        "        self.pos_features = self.pos_features.unsqueeze(0)\n",
        "        self.pos_features = nn.Parameter(self.pos_features, requires_grad=False)\n",
        "        # pos_features: (1, max_length, embed_dim)\n",
        "\n",
        "        self.dropout = nn.Dropout(dropout)\n",
        "\n",
        "    def forward(self, inputs):\n",
        "        outputs = inputs + self.pos_features[:, :inputs.shape[1]]\n",
        "        return self.dropout(outputs)"
      ]
    },
    {
      "cell_type": "markdown",
      "source": [
        "![](https://jalammar.github.io/images/t/self-attention-matrix-calculation-2.png)"
      ],
      "metadata": {
        "id": "Oif9Pnuym7_T"
      }
    },
    {
      "cell_type": "code",
      "execution_count": 58,
      "metadata": {
        "id": "L_dJGxMNiDL3"
      },
      "outputs": [],
      "source": [
        "class Attention(nn.Module):\n",
        "    # Single-head attention\n",
        "    def __init__(self, embed_dim, num_heads, dropout):\n",
        "        super().__init__()\n",
        "        attention_dim = embed_dim // num_heads\n",
        "\n",
        "        self.WQ = nn.Linear(embed_dim, attention_dim, bias=False)\n",
        "        self.WK = nn.Linear(embed_dim, attention_dim, bias=False)\n",
        "        self.WV = nn.Linear(embed_dim, attention_dim, bias=False)\n",
        "        self.dropout = nn.Dropout(dropout)\n",
        "\n",
        "    def forward(self, query, key, value, mask=None):\n",
        "        # query, key, value: (batch_size, length, embed_dim)\n",
        "        # mask: (batch_size, length, length)\n",
        "\n",
        "        Q = self.WQ(query)\n",
        "        K = self.WK(key)\n",
        "        V = self.WV(value)\n",
        "        # Q, K, V: (batch_size, length, attention_dim)\n",
        "\n",
        "        norm_factor = math.sqrt(Q.shape[-1])\n",
        "        dot_products = torch.bmm(Q, K.transpose(1, 2)) / norm_factor\n",
        "        # dot_products: (batch_size, length, length)\n",
        "\n",
        "        if mask is not None:\n",
        "            dot_products = dot_products.masked_fill(mask, -math.inf)\n",
        "\n",
        "        attention_score = nn.functional.softmax(dot_products, dim=-1)\n",
        "        attention = torch.bmm(self.dropout(attention_score), V)\n",
        "        # attention_score: (batch_size, length, length)\n",
        "        # attention: (batch_size, length, attention_dim)\n",
        "\n",
        "        return attention, attention_score\n",
        "\n",
        "\n",
        "class MultiHeadAttention(nn.Module):\n",
        "    def __init__(self, embed_dim, num_heads, dropout):\n",
        "        super(MultiHeadAttention, self).__init__()\n",
        "\n",
        "        assert embed_dim % num_heads == 0\n",
        "        self.attention_heads = nn.ModuleList([Attention(embed_dim, num_heads, dropout)\n",
        "                                              for _ in range(num_heads)])\n",
        "\n",
        "        self.linear = nn.Linear(embed_dim, embed_dim, bias=False)\n",
        "        self.dropout = nn.Dropout(dropout)\n",
        "\n",
        "    def forward(self, query, key, value, mask=None):\n",
        "        # query, key, value: (batch_size, length, embed_dim)\n",
        "        # mask: (batch_size, length, length)\n",
        "        attentions, attention_scores = [], []\n",
        "\n",
        "        for head in self.attention_heads:\n",
        "            attention, attention_score = head(query, key, value, mask)\n",
        "            attentions += [attention]\n",
        "            attention_scores += [attention_score]\n",
        "\n",
        "        attentions = torch.cat(attentions, dim=-1)\n",
        "        attention_scores = torch.stack(attention_scores, dim=-1)\n",
        "        # attentions: (batch_size, length, embed_dim)\n",
        "        # attention_scores: (batch_size, length, length, num_heads)\n",
        "\n",
        "        outputs = self.linear(attentions)\n",
        "        outputs = self.dropout(outputs)\n",
        "        # outputs: (batch_size, length, embed_dim)\n",
        "\n",
        "        return outputs, attention_scores"
      ]
    },
    {
      "cell_type": "code",
      "execution_count": 59,
      "metadata": {
        "id": "jg55beDo_1vd"
      },
      "outputs": [],
      "source": [
        "def create_padding_mask(tokens, pad_idx=vocab['<pad>']):\n",
        "    # tokens: (batch_size, length)\n",
        "    length = tokens.shape[-1]\n",
        "    padding_mask = (tokens == pad_idx)\n",
        "    padding_mask = padding_mask.unsqueeze(1).repeat(1, length, 1)\n",
        "    # padding_mask: (batch_size, length, length)\n",
        "\n",
        "    return padding_mask"
      ]
    },
    {
      "cell_type": "code",
      "execution_count": 60,
      "metadata": {
        "id": "keiyWeqvi_NB"
      },
      "outputs": [],
      "source": [
        "class TransformerLayer(nn.Module):\n",
        "    def __init__(self, embed_dim, fc_dim, num_heads, dropout):\n",
        "        super().__init__()\n",
        "        self.self_attention = MultiHeadAttention(embed_dim, num_heads, dropout)\n",
        "        self.feedforward = nn.Sequential(\n",
        "            nn.Linear(embed_dim, fc_dim),\n",
        "            nn.ReLU(),\n",
        "            nn.Dropout(dropout),\n",
        "            nn.Linear(fc_dim, embed_dim),\n",
        "            nn.Dropout(dropout)\n",
        "        )\n",
        "        self.norm1 = nn.LayerNorm(embed_dim)\n",
        "        self.norm2 = nn.LayerNorm(embed_dim)\n",
        "\n",
        "    def forward(self, inputs, mask):\n",
        "        attention, attention_score = self.self_attention(query=inputs, key=inputs, \n",
        "                                                         value=inputs, mask=mask)\n",
        "        outputs = inputs + attention\n",
        "        outputs = self.norm1(outputs)\n",
        "        outputs = outputs + self.feedforward(outputs)\n",
        "        outputs = self.norm2(outputs)\n",
        "        return outputs, attention_score\n",
        "\n",
        "\n",
        "class Transformer(nn.Module):\n",
        "    def __init__(self, vocab_size, max_length, num_classes,\n",
        "                 embed_dim, fc_dim, num_heads, num_layers, dropout):\n",
        "        super().__init__()\n",
        "        self.embed_dim = embed_dim\n",
        "        self.embedding = nn.Embedding(vocab_size, embed_dim)\n",
        "        self.pos_encoder = PositionalEncoder(max_length, embed_dim, dropout)\n",
        "        self.layers = nn.ModuleList([TransformerLayer(embed_dim, fc_dim, num_heads, dropout) \\\n",
        "                                     for _ in range(num_layers)])\n",
        "        self.classifier = nn.Linear(embed_dim, num_classes)\n",
        "\n",
        "    def forward(self, tokens):\n",
        "        # source: (batch_size, length)\n",
        "        embeds = self.embedding(tokens) * math.sqrt(self.embed_dim)\n",
        "        outputs = self.pos_encoder(embeds)\n",
        "        # outputs: (batch_size, length, embed_dim)\n",
        "\n",
        "        padding_mask = create_padding_mask(tokens)\n",
        "        attention_scores = []\n",
        "        for layer in self.layers:\n",
        "            outputs, attention_score = layer(outputs, padding_mask)\n",
        "            attention_scores += [attention_score]\n",
        "        attention_scores = torch.stack(attention_scores, dim=-1)\n",
        "        # outputs: (batch_size, length, embed_dim)\n",
        "        # attentions_scores: (batch_size, length, embed_dim, num_heads, num_layers)\n",
        "\n",
        "        mask = (tokens != vocab['<pad>']).to(torch.float).detach()\n",
        "        lengths = mask.sum(dim=1).detach()\n",
        "        outputs = (outputs * mask.unsqueeze(2)).sum(dim=1) / lengths.unsqueeze(1)\n",
        "        # outputs: (batch_size, embed_dim)\n",
        "\n",
        "        logits = self.classifier(outputs)\n",
        "        # logits: (batch_size, num_classes)\n",
        "\n",
        "        return logits, attention_scores"
      ]
    },
    {
      "cell_type": "code",
      "execution_count": 61,
      "metadata": {
        "id": "0kBT6a8d2-2F"
      },
      "outputs": [],
      "source": [
        "from IPython.display import clear_output\n",
        "\n",
        "def plot_losses(train_losses, test_losses, train_accuracies, test_accuracies):\n",
        "    clear_output()\n",
        "    fig, axs = plt.subplots(1, 2, figsize=(13, 4))\n",
        "    axs[0].plot(range(1, len(train_losses) + 1), train_losses, label='train')\n",
        "    axs[0].plot(range(1, len(test_losses) + 1), test_losses, label='test')\n",
        "    axs[0].set_ylabel('loss')\n",
        "\n",
        "    axs[1].plot(range(1, len(train_accuracies) + 1), train_accuracies, label='train')\n",
        "    axs[1].plot(range(1, len(test_accuracies) + 1), test_accuracies, label='test')\n",
        "    axs[1].set_ylabel('accuracy')\n",
        "\n",
        "    for ax in axs:\n",
        "        ax.set_xlabel('epoch')\n",
        "        ax.legend()\n",
        "\n",
        "    plt.show()"
      ]
    },
    {
      "cell_type": "code",
      "execution_count": 62,
      "metadata": {
        "id": "-A7i7z2pzvTo"
      },
      "outputs": [],
      "source": [
        "device = torch.device('cuda:0' if torch.cuda.is_available() else 'cpu')\n",
        "model = Transformer(vocab_size=len(vocab), max_length=max_length, num_classes=1,\n",
        "                    embed_dim=64, fc_dim=64, num_heads=4, num_layers=4, dropout=0.2).to(device)\n",
        "optimizer = torch.optim.Adam(model.parameters(), lr=1e-3)\n",
        "criterion = nn.BCELoss()"
      ]
    },
    {
      "cell_type": "code",
      "execution_count": 63,
      "metadata": {
        "colab": {
          "base_uri": "https://localhost:8080/"
        },
        "id": "VVB5tGlX8UmX",
        "outputId": "0c9e49e5-eb2c-4aae-e4fd-c9ec65c9b1e8"
      },
      "outputs": [
        {
          "output_type": "execute_result",
          "data": {
            "text/plain": [
              "1222209"
            ]
          },
          "metadata": {},
          "execution_count": 63
        }
      ],
      "source": [
        "sum(param.numel() for param in model.parameters())"
      ]
    },
    {
      "cell_type": "markdown",
      "source": [
        "## Training"
      ],
      "metadata": {
        "id": "NQAewGTMNd3p"
      }
    },
    {
      "cell_type": "code",
      "execution_count": 64,
      "metadata": {
        "colab": {
          "base_uri": "https://localhost:8080/",
          "height": 306,
          "referenced_widgets": [
            "a1709e4394ac4ad1bbef281fad592c04",
            "58606b94030f44138b2c3ca73163423d",
            "25819e7ca89c40a1aafef42cabc414fb",
            "7675c4178fcf465e9114b98d1381385e",
            "2fc181a3a8c44c42b6193aa1f0a9f9d5",
            "a4926634dd034e4d8d20579d826df55a",
            "fd52dcd504414da5a27ac7ac2d7dc293",
            "ac8a27c65dff45dc911928aa6e144a27",
            "1cefc6ac9ff344749aca56a19550bf4f",
            "96d0f48e3a714293a6d9673168d64e62",
            "296db8a0afe04f0d8aa6af8a1629dac1",
            "4b5f892c2eef41eb9dccc4df1282a1f3"
          ]
        },
        "id": "0goeKbzq1878",
        "outputId": "3c98c621-a4bd-4aea-a2b1-fcb8151fd150"
      },
      "outputs": [
        {
          "output_type": "display_data",
          "data": {
            "text/plain": [
              "<Figure size 936x288 with 2 Axes>"
            ],
            "image/png": "[encoded data removed]"
          },
          "metadata": {}
        },
        {
          "output_type": "stream",
          "name": "stdout",
          "text": [
            "Best test accuracy: 0.8644\n"
          ]
        }
      ],
      "source": [
        "train_losses, test_losses = [], []\n",
        "train_accuracies, test_accuracies = [], []\n",
        "num_epochs = 20\n",
        "\n",
        "for epoch in range(1, num_epochs + 1):\n",
        "    model.train()\n",
        "    running_loss, running_accuracy = 0.0, 0.0\n",
        "    for tokens, labels in tqdm(train_loader, desc=f'Training {epoch}/{num_epochs}'):\n",
        "        optimizer.zero_grad()\n",
        "        tokens = tokens.to(device)\n",
        "        labels = labels.to(device)\n",
        "        \n",
        "        logits, _ = model(tokens)\n",
        "        probs = torch.sigmoid(logits.squeeze(1))\n",
        "        loss = criterion(probs, labels.to(torch.float))\n",
        "        loss.backward()\n",
        "        optimizer.step()\n",
        "        \n",
        "        running_loss += loss.item() * tokens.shape[0]\n",
        "        running_accuracy += ((probs > 0.5).to(torch.int) == labels).sum().item()\n",
        "        \n",
        "    train_losses += [running_loss / len(train_loader.dataset)]\n",
        "    train_accuracies += [running_accuracy / len(train_loader.dataset)]\n",
        "    \n",
        "    model.eval()\n",
        "    running_loss, running_accuracy = 0.0, 0.0\n",
        "    for tokens, labels in tqdm(test_loader, desc=f'Testing {epoch}/{num_epochs}'):\n",
        "        tokens = tokens.to(device)\n",
        "        labels = labels.to(device)\n",
        "        \n",
        "        with torch.no_grad():\n",
        "            logits, _ = model(tokens)\n",
        "            probs = torch.sigmoid(logits.squeeze(1))\n",
        "            loss = criterion(probs, labels.to(torch.float))\n",
        "        \n",
        "        running_loss += loss.item() * tokens.shape[0]\n",
        "        running_accuracy += ((probs > 0.5).to(torch.int) == labels).sum().item()\n",
        "        \n",
        "    test_losses += [running_loss / len(test_loader.dataset)]\n",
        "    test_accuracies += [running_accuracy / len(test_loader.dataset)]\n",
        "    plot_losses(train_losses, test_losses, train_accuracies, test_accuracies)\n",
        "\n",
        "print(f'Best test accuracy: {max(test_accuracies)}')"
      ]
    },
    {
      "cell_type": "markdown",
      "source": [
        "## Visualizing attention scores"
      ],
      "metadata": {
        "id": "bze7TyGmNgAV"
      }
    },
    {
      "cell_type": "code",
      "source": [
        "for tokens, labels in train_loader:\n",
        "    tokens = tokens.to(device)\n",
        "    labels = labels.to(device)\n",
        "    break"
      ],
      "metadata": {
        "id": "HRPRR-mvvkRK"
      },
      "execution_count": 99,
      "outputs": []
    },
    {
      "cell_type": "code",
      "execution_count": 100,
      "metadata": {
        "id": "RQ5afqx43uUM",
        "outputId": "7ec17fdf-82a7-472f-b8bd-fa186476d69e",
        "colab": {
          "base_uri": "https://localhost:8080/"
        }
      },
      "outputs": [
        {
          "output_type": "execute_result",
          "data": {
            "text/plain": [
              "tensor([[    3,    51,  6229,  7090,     4,    42,     8,  1621,  1877,   445,\n",
              "         11551, 11221,   597,    86,  1790,  1104,   457,    63,     4,     8,\n",
              "            27,    41,   672,    20,   212,   320,     0,     0,     0,     0,\n",
              "             0,     0,     0,     0,     0,     0,     0,     0,     0,     0,\n",
              "             0,     0,     0,     0,     0,     0,     0,     0,     0,     0,\n",
              "             0,     0,     0,     0,     0,     0,     0,     0,     0,     0,\n",
              "             0,     0,     0,     0,     0,     0,     0,     0,     0,     0,\n",
              "             0,     0,     0,     0,     0,     0,     0,     0,     0,     0,\n",
              "             0,     0,     0,     0,     0,     0,     0,     0,     0,     0,\n",
              "             0,     0,     0,     0,     0,     0,     0,     0,     0,     0,\n",
              "             0,     0,     0,     0,     0,     0,     0,     0,     0,     0,\n",
              "             0,     0,     0,     0,     0,     0,     0,     0,     0,     0,\n",
              "             0,     0,     0,     0,     0,     0,     0,     0,     0,     0,\n",
              "             0,     0,     0,     0,     0,     0,     0,     0,     0,     0,\n",
              "             0,     0,     0,     0,     0,     0,     0,     0,     0,     0,\n",
              "             0,     0,     0,     0,     0,     0,     0,     0,     0,     0,\n",
              "             0,     0,     0,     0,     0,     0,     0,     0,     0,     0,\n",
              "             0,     0,     0,     0,     0,     0,     0,     0,     0,     0,\n",
              "             0,     0,     0,     0,     0,     0,     0,     0,     0,     0,\n",
              "             0,     0,     0,     0,     0,     0,     0,     0,     0,     0,\n",
              "             0,     0,     0,     0,     0,     0,     0,     0,     0,     0,\n",
              "             0,     0,     0,     0,     0,     0,     0,     0,     0,     0,\n",
              "             0,     0,     0,     0,     0,     0,     0,     0,     0,     0,\n",
              "             0,     0,     0,     0,     0,     0,     0,     0,     0,     0,\n",
              "             0,     0,     0,     0,     0,     0,     0,     0,     0,     0,\n",
              "             0,     0,     0,     0,     0,     0]], device='cuda:0',\n",
              "       dtype=torch.int32)"
            ]
          },
          "metadata": {},
          "execution_count": 100
        }
      ],
      "source": [
        "tokens = tokens[:1]\n",
        "tokens"
      ]
    },
    {
      "cell_type": "code",
      "source": [
        "(tokens != 0).sum()"
      ],
      "metadata": {
        "id": "jCPpIue6uWv4",
        "outputId": "8eac2c05-77db-4409-8307-007b2050be4e",
        "colab": {
          "base_uri": "https://localhost:8080/"
        }
      },
      "execution_count": 101,
      "outputs": [
        {
          "output_type": "execute_result",
          "data": {
            "text/plain": [
              "tensor(26, device='cuda:0')"
            ]
          },
          "metadata": {},
          "execution_count": 101
        }
      ]
    },
    {
      "cell_type": "code",
      "source": [
        "tokens = tokens[:, :(tokens != 0).sum().item()]"
      ],
      "metadata": {
        "id": "wQsmsYwFJN0c"
      },
      "execution_count": 102,
      "outputs": []
    },
    {
      "cell_type": "code",
      "source": [
        "with torch.no_grad():\n",
        "    logits, scores = model(tokens)"
      ],
      "metadata": {
        "id": "IlOG5VEnIkDB"
      },
      "execution_count": 103,
      "outputs": []
    },
    {
      "cell_type": "code",
      "source": [
        "fig, axs = plt.subplots(4, 4, figsize=(12, 12))\n",
        "\n",
        "for i in range(4):\n",
        "    axs[i, 0].set_ylabel(f'Head #{i + 1}')\n",
        "    axs[-1, i].set_xlabel(f'Layer #{i + 1}')\n",
        "    for j in range(4):\n",
        "        axs[i, j].imshow(scores[0, ..., i, j].cpu().numpy())\n",
        "        axs[i, j].grid()\n",
        "        axs[i, j].xaxis.set_ticks([])\n",
        "        axs[i, j].yaxis.set_ticks([])\n",
        "\n",
        "plt.tight_layout()\n",
        "plt.show()"
      ],
      "metadata": {
        "colab": {
          "base_uri": "https://localhost:8080/",
          "height": 865
        },
        "id": "-q_KeViZIn6u",
        "outputId": "2d9fd656-c952-4048-815c-ca98a70667d1"
      },
      "execution_count": 104,
      "outputs": [
        {
          "output_type": "display_data",
          "data": {
            "text/plain": [
              "<Figure size 864x864 with 16 Axes>"
            ],
            "image/png": "[encoded data removed]"
          },
          "metadata": {}
        }
      ]
    },
    {
      "cell_type": "code",
      "source": [
        "words = [vocab.get_itos()[token] for token in tokens.squeeze().cpu().numpy()]"
      ],
      "metadata": {
        "id": "pIZHbTWhIuNQ"
      },
      "execution_count": 105,
      "outputs": []
    },
    {
      "cell_type": "code",
      "source": [
        "fig, ax = plt.subplots(figsize=(15, 15))\n",
        "\n",
        "plt.imshow(scores[0, ..., 2, 0].cpu().numpy())\n",
        "ax.set_xticks(range(len(words)))\n",
        "ax.set_xticklabels(words, rotation=90)\n",
        "ax.set_yticks(range(len(words)))\n",
        "ax.set_yticklabels(words)\n",
        "\n",
        "plt.grid()\n",
        "plt.show()"
      ],
      "metadata": {
        "colab": {
          "base_uri": "https://localhost:8080/",
          "height": 924
        },
        "id": "kwyXwsppLTXD",
        "outputId": "fd555b56-7aea-409f-e05e-a78a4b63aa70"
      },
      "execution_count": 107,
      "outputs": [
        {
          "output_type": "display_data",
          "data": {
            "text/plain": [
              "<Figure size 1080x1080 with 1 Axes>"
            ],
            "image/png": "[encoded data removed]"
          },
          "metadata": {}
        }
      ]
    },
    {
      "cell_type": "code",
      "source": [],
      "metadata": {
        "id": "l49IvDW6L5PW"
      },
      "execution_count": null,
      "outputs": []
    }
  ],
  "metadata": {
    "accelerator": "GPU",
    "colab": {
      "name": "seminar-05-transformer.ipynb",
      "provenance": []
    },
    "kernelspec": {
      "display_name": "Python 3",
      "name": "python3"
    },
    "language_info": {
      "name": "python"
    },
    "widgets": {
      "application/vnd.jupyter.widget-state+json": {
        "58606b94030f44138b2c3ca73163423d": {
          "model_module": "@jupyter-widgets/controls",
          "model_name": "HBoxModel",
          "model_module_version": "1.5.0",
          "state": {
            "_dom_classes": [],
            "_model_module": "@jupyter-widgets/controls",
            "_model_module_version": "1.5.0",
            "_model_name": "HBoxModel",
            "_view_count": null,
            "_view_module": "@jupyter-widgets/controls",
            "_view_module_version": "1.5.0",
            "_view_name": "HBoxView",
            "box_style": "",
            "children": [
              "IPY_MODEL_25819e7ca89c40a1aafef42cabc414fb",
              "IPY_MODEL_7675c4178fcf465e9114b98d1381385e",
              "IPY_MODEL_2fc181a3a8c44c42b6193aa1f0a9f9d5"
            ],
            "layout": "IPY_MODEL_a4926634dd034e4d8d20579d826df55a"
          }
        },
        "25819e7ca89c40a1aafef42cabc414fb": {
          "model_module": "@jupyter-widgets/controls",
          "model_name": "HTMLModel",
          "model_module_version": "1.5.0",
          "state": {
            "_dom_classes": [],
            "_model_module": "@jupyter-widgets/controls",
            "_model_module_version": "1.5.0",
            "_model_name": "HTMLModel",
            "_view_count": null,
            "_view_module": "@jupyter-widgets/controls",
            "_view_module_version": "1.5.0",
            "_view_name": "HTMLView",
            "description": "",
            "description_tooltip": null,
            "layout": "IPY_MODEL_fd52dcd504414da5a27ac7ac2d7dc293",
            "placeholder": "​",
            "style": "IPY_MODEL_ac8a27c65dff45dc911928aa6e144a27",
            "value": "Testing 20/20: 100%"
          }
        },
        "7675c4178fcf465e9114b98d1381385e": {
          "model_module": "@jupyter-widgets/controls",
          "model_name": "FloatProgressModel",
          "model_module_version": "1.5.0",
          "state": {
            "_dom_classes": [],
            "_model_module": "@jupyter-widgets/controls",
            "_model_module_version": "1.5.0",
            "_model_name": "FloatProgressModel",
            "_view_count": null,
            "_view_module": "@jupyter-widgets/controls",
            "_view_module_version": "1.5.0",
            "_view_name": "ProgressView",
            "bar_style": "success",
            "description": "",
            "description_tooltip": null,
            "layout": "IPY_MODEL_1cefc6ac9ff344749aca56a19550bf4f",
            "max": 196,
            "min": 0,
            "orientation": "horizontal",
            "style": "IPY_MODEL_96d0f48e3a714293a6d9673168d64e62",
            "value": 196
          }
        },
        "2fc181a3a8c44c42b6193aa1f0a9f9d5": {
          "model_module": "@jupyter-widgets/controls",
          "model_name": "HTMLModel",
          "model_module_version": "1.5.0",
          "state": {
            "_dom_classes": [],
            "_model_module": "@jupyter-widgets/controls",
            "_model_module_version": "1.5.0",
            "_model_name": "HTMLModel",
            "_view_count": null,
            "_view_module": "@jupyter-widgets/controls",
            "_view_module_version": "1.5.0",
            "_view_name": "HTMLView",
            "description": "",
            "description_tooltip": null,
            "layout": "IPY_MODEL_296db8a0afe04f0d8aa6af8a1629dac1",
            "placeholder": "​",
            "style": "IPY_MODEL_4b5f892c2eef41eb9dccc4df1282a1f3",
            "value": " 196/196 [00:16&lt;00:00, 12.09it/s]"
          }
        },
        "a4926634dd034e4d8d20579d826df55a": {
          "model_module": "@jupyter-widgets/base",
          "model_name": "LayoutModel",
          "model_module_version": "1.2.0",
          "state": {
            "_model_module": "@jupyter-widgets/base",
            "_model_module_version": "1.2.0",
            "_model_name": "LayoutModel",
            "_view_count": null,
            "_view_module": "@jupyter-widgets/base",
            "_view_module_version": "1.2.0",
            "_view_name": "LayoutView",
            "align_content": null,
            "align_items": null,
            "align_self": null,
            "border": null,
            "bottom": null,
            "display": null,
            "flex": null,
            "flex_flow": null,
            "grid_area": null,
            "grid_auto_columns": null,
            "grid_auto_flow": null,
            "grid_auto_rows": null,
            "grid_column": null,
            "grid_gap": null,
            "grid_row": null,
            "grid_template_areas": null,
            "grid_template_columns": null,
            "grid_template_rows": null,
            "height": null,
            "justify_content": null,
            "justify_items": null,
            "left": null,
            "margin": null,
            "max_height": null,
            "max_width": null,
            "min_height": null,
            "min_width": null,
            "object_fit": null,
            "object_position": null,
            "order": null,
            "overflow": null,
            "overflow_x": null,
            "overflow_y": null,
            "padding": null,
            "right": null,
            "top": null,
            "visibility": null,
            "width": null
          }
        },
        "fd52dcd504414da5a27ac7ac2d7dc293": {
          "model_module": "@jupyter-widgets/base",
          "model_name": "LayoutModel",
          "model_module_version": "1.2.0",
          "state": {
            "_model_module": "@jupyter-widgets/base",
            "_model_module_version": "1.2.0",
            "_model_name": "LayoutModel",
            "_view_count": null,
            "_view_module": "@jupyter-widgets/base",
            "_view_module_version": "1.2.0",
            "_view_name": "LayoutView",
            "align_content": null,
            "align_items": null,
            "align_self": null,
            "border": null,
            "bottom": null,
            "display": null,
            "flex": null,
            "flex_flow": null,
            "grid_area": null,
            "grid_auto_columns": null,
            "grid_auto_flow": null,
            "grid_auto_rows": null,
            "grid_column": null,
            "grid_gap": null,
            "grid_row": null,
            "grid_template_areas": null,
            "grid_template_columns": null,
            "grid_template_rows": null,
            "height": null,
            "justify_content": null,
            "justify_items": null,
            "left": null,
            "margin": null,
            "max_height": null,
            "max_width": null,
            "min_height": null,
            "min_width": null,
            "object_fit": null,
            "object_position": null,
            "order": null,
            "overflow": null,
            "overflow_x": null,
            "overflow_y": null,
            "padding": null,
            "right": null,
            "top": null,
            "visibility": null,
            "width": null
          }
        },
        "ac8a27c65dff45dc911928aa6e144a27": {
          "model_module": "@jupyter-widgets/controls",
          "model_name": "DescriptionStyleModel",
          "model_module_version": "1.5.0",
          "state": {
            "_model_module": "@jupyter-widgets/controls",
            "_model_module_version": "1.5.0",
            "_model_name": "DescriptionStyleModel",
            "_view_count": null,
            "_view_module": "@jupyter-widgets/base",
            "_view_module_version": "1.2.0",
            "_view_name": "StyleView",
            "description_width": ""
          }
        },
        "1cefc6ac9ff344749aca56a19550bf4f": {
          "model_module": "@jupyter-widgets/base",
          "model_name": "LayoutModel",
          "model_module_version": "1.2.0",
          "state": {
            "_model_module": "@jupyter-widgets/base",
            "_model_module_version": "1.2.0",
            "_model_name": "LayoutModel",
            "_view_count": null,
            "_view_module": "@jupyter-widgets/base",
            "_view_module_version": "1.2.0",
            "_view_name": "LayoutView",
            "align_content": null,
            "align_items": null,
            "align_self": null,
            "border": null,
            "bottom": null,
            "display": null,
            "flex": null,
            "flex_flow": null,
            "grid_area": null,
            "grid_auto_columns": null,
            "grid_auto_flow": null,
            "grid_auto_rows": null,
            "grid_column": null,
            "grid_gap": null,
            "grid_row": null,
            "grid_template_areas": null,
            "grid_template_columns": null,
            "grid_template_rows": null,
            "height": null,
            "justify_content": null,
            "justify_items": null,
            "left": null,
            "margin": null,
            "max_height": null,
            "max_width": null,
            "min_height": null,
            "min_width": null,
            "object_fit": null,
            "object_position": null,
            "order": null,
            "overflow": null,
            "overflow_x": null,
            "overflow_y": null,
            "padding": null,
            "right": null,
            "top": null,
            "visibility": null,
            "width": null
          }
        },
        "96d0f48e3a714293a6d9673168d64e62": {
          "model_module": "@jupyter-widgets/controls",
          "model_name": "ProgressStyleModel",
          "model_module_version": "1.5.0",
          "state": {
            "_model_module": "@jupyter-widgets/controls",
            "_model_module_version": "1.5.0",
            "_model_name": "ProgressStyleModel",
            "_view_count": null,
            "_view_module": "@jupyter-widgets/base",
            "_view_module_version": "1.2.0",
            "_view_name": "StyleView",
            "bar_color": null,
            "description_width": ""
          }
        },
        "296db8a0afe04f0d8aa6af8a1629dac1": {
          "model_module": "@jupyter-widgets/base",
          "model_name": "LayoutModel",
          "model_module_version": "1.2.0",
          "state": {
            "_model_module": "@jupyter-widgets/base",
            "_model_module_version": "1.2.0",
            "_model_name": "LayoutModel",
            "_view_count": null,
            "_view_module": "@jupyter-widgets/base",
            "_view_module_version": "1.2.0",
            "_view_name": "LayoutView",
            "align_content": null,
            "align_items": null,
            "align_self": null,
            "border": null,
            "bottom": null,
            "display": null,
            "flex": null,
            "flex_flow": null,
            "grid_area": null,
            "grid_auto_columns": null,
            "grid_auto_flow": null,
            "grid_auto_rows": null,
            "grid_column": null,
            "grid_gap": null,
            "grid_row": null,
            "grid_template_areas": null,
            "grid_template_columns": null,
            "grid_template_rows": null,
            "height": null,
            "justify_content": null,
            "justify_items": null,
            "left": null,
            "margin": null,
            "max_height": null,
            "max_width": null,
            "min_height": null,
            "min_width": null,
            "object_fit": null,
            "object_position": null,
            "order": null,
            "overflow": null,
            "overflow_x": null,
            "overflow_y": null,
            "padding": null,
            "right": null,
            "top": null,
            "visibility": null,
            "width": null
          }
        },
        "4b5f892c2eef41eb9dccc4df1282a1f3": {
          "model_module": "@jupyter-widgets/controls",
          "model_name": "DescriptionStyleModel",
          "model_module_version": "1.5.0",
          "state": {
            "_model_module": "@jupyter-widgets/controls",
            "_model_module_version": "1.5.0",
            "_model_name": "DescriptionStyleModel",
            "_view_count": null,
            "_view_module": "@jupyter-widgets/base",
            "_view_module_version": "1.2.0",
            "_view_name": "StyleView",
            "description_width": ""
          }
        }
      }
    }
  },
  "nbformat": 4,
  "nbformat_minor": 0
}