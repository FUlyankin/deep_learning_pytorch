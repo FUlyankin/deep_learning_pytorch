{
  "nbformat": 4,
  "nbformat_minor": 0,
  "metadata": {
    "colab": {
      "provenance": []
    },
    "kernelspec": {
      "name": "python3",
      "display_name": "Python 3"
    },
    "language_info": {
      "name": "python"
    },
    "accelerator": "GPU",
    "gpuClass": "standard"
  },
  "cells": [
    {
      "cell_type": "code",
      "execution_count": 3,
      "metadata": {
        "id": "_8ZMtyqUziAE"
      },
      "outputs": [],
      "source": [
        "import torch\n",
        "import numpy as np"
      ]
    },
    {
      "cell_type": "code",
      "source": [
        "x = torch.tensor([1, 2, 3, 4])\n",
        "x"
      ],
      "metadata": {
        "colab": {
          "base_uri": "https://localhost:8080/"
        },
        "id": "-xfF2pidz8qX",
        "outputId": "ebe51c0a-649a-43ea-ab4e-f799d5404400"
      },
      "execution_count": 5,
      "outputs": [
        {
          "output_type": "execute_result",
          "data": {
            "text/plain": [
              "tensor([1, 2, 3, 4])"
            ]
          },
          "metadata": {},
          "execution_count": 5
        }
      ]
    },
    {
      "cell_type": "code",
      "source": [
        "y = np.array([1, 2, 3, 4])\n",
        "y"
      ],
      "metadata": {
        "colab": {
          "base_uri": "https://localhost:8080/"
        },
        "id": "-rblvEGa0HYF",
        "outputId": "f1f351c6-76f6-4f9f-8679-0baead5fba80"
      },
      "execution_count": 4,
      "outputs": [
        {
          "output_type": "execute_result",
          "data": {
            "text/plain": [
              "array([1, 2, 3, 4])"
            ]
          },
          "metadata": {},
          "execution_count": 4
        }
      ]
    },
    {
      "cell_type": "code",
      "source": [
        "y.sum()"
      ],
      "metadata": {
        "colab": {
          "base_uri": "https://localhost:8080/"
        },
        "id": "RlsZbMzA0HbL",
        "outputId": "15ecb048-74f7-4757-d2ae-dd3add36947c"
      },
      "execution_count": 6,
      "outputs": [
        {
          "output_type": "execute_result",
          "data": {
            "text/plain": [
              "10"
            ]
          },
          "metadata": {},
          "execution_count": 6
        }
      ]
    },
    {
      "cell_type": "code",
      "source": [
        "x.sum()"
      ],
      "metadata": {
        "colab": {
          "base_uri": "https://localhost:8080/"
        },
        "id": "-EIgRx3mz8te",
        "outputId": "10d2c455-79f0-4981-8119-1cc461fed6b4"
      },
      "execution_count": 7,
      "outputs": [
        {
          "output_type": "execute_result",
          "data": {
            "text/plain": [
              "tensor(10)"
            ]
          },
          "metadata": {},
          "execution_count": 7
        }
      ]
    },
    {
      "cell_type": "code",
      "source": [
        "X = torch.ones([4, 4])\n",
        "X"
      ],
      "metadata": {
        "colab": {
          "base_uri": "https://localhost:8080/"
        },
        "id": "jvxS8Nhuz8wF",
        "outputId": "f2299f44-cb99-4ce5-e22b-21b530c296b6"
      },
      "execution_count": 8,
      "outputs": [
        {
          "output_type": "execute_result",
          "data": {
            "text/plain": [
              "tensor([[1., 1., 1., 1.],\n",
              "        [1., 1., 1., 1.],\n",
              "        [1., 1., 1., 1.],\n",
              "        [1., 1., 1., 1.]])"
            ]
          },
          "metadata": {},
          "execution_count": 8
        }
      ]
    },
    {
      "cell_type": "code",
      "source": [
        "Y = torch.randn([4,4])\n",
        "Y"
      ],
      "metadata": {
        "colab": {
          "base_uri": "https://localhost:8080/"
        },
        "id": "MEm6qoX8z8yr",
        "outputId": "f17dbae7-339f-42bc-d1d2-d3d61517b41c"
      },
      "execution_count": 9,
      "outputs": [
        {
          "output_type": "execute_result",
          "data": {
            "text/plain": [
              "tensor([[ 1.1329,  1.2880,  0.0742,  0.3464],\n",
              "        [ 0.7381, -0.4729,  1.3090,  0.7397],\n",
              "        [ 0.2541, -1.3411,  0.4421,  0.7121],\n",
              "        [-0.8222, -0.0226,  1.3181, -0.6330]])"
            ]
          },
          "metadata": {},
          "execution_count": 9
        }
      ]
    },
    {
      "cell_type": "code",
      "source": [
        "Y + X"
      ],
      "metadata": {
        "colab": {
          "base_uri": "https://localhost:8080/"
        },
        "id": "hO67Xvdt0rHH",
        "outputId": "936b1f25-5b08-47be-af3a-3842b57c8c85"
      },
      "execution_count": 10,
      "outputs": [
        {
          "output_type": "execute_result",
          "data": {
            "text/plain": [
              "tensor([[ 2.1329,  2.2880,  1.0742,  1.3464],\n",
              "        [ 1.7381,  0.5271,  2.3090,  1.7397],\n",
              "        [ 1.2541, -0.3411,  1.4421,  1.7121],\n",
              "        [ 0.1778,  0.9774,  2.3181,  0.3670]])"
            ]
          },
          "metadata": {},
          "execution_count": 10
        }
      ]
    },
    {
      "cell_type": "code",
      "source": [
        "Y @ X"
      ],
      "metadata": {
        "colab": {
          "base_uri": "https://localhost:8080/"
        },
        "id": "SrXj_WDo0rJl",
        "outputId": "19b79987-a22e-44fe-9031-b018b8b8858e"
      },
      "execution_count": 11,
      "outputs": [
        {
          "output_type": "execute_result",
          "data": {
            "text/plain": [
              "tensor([[ 2.8416,  2.8416,  2.8416,  2.8416],\n",
              "        [ 2.3140,  2.3140,  2.3140,  2.3140],\n",
              "        [ 0.0672,  0.0672,  0.0672,  0.0672],\n",
              "        [-0.1596, -0.1596, -0.1596, -0.1596]])"
            ]
          },
          "metadata": {},
          "execution_count": 11
        }
      ]
    },
    {
      "cell_type": "code",
      "source": [
        "Y"
      ],
      "metadata": {
        "colab": {
          "base_uri": "https://localhost:8080/"
        },
        "id": "8el35Ysv0rMe",
        "outputId": "391d87a3-cf7d-4dd3-e9e4-f5c3a7561ce9"
      },
      "execution_count": 13,
      "outputs": [
        {
          "output_type": "execute_result",
          "data": {
            "text/plain": [
              "tensor([[ 1.1329,  1.2880,  0.0742,  0.3464],\n",
              "        [ 0.7381, -0.4729,  1.3090,  0.7397],\n",
              "        [ 0.2541, -1.3411,  0.4421,  0.7121],\n",
              "        [-0.8222, -0.0226,  1.3181, -0.6330]])"
            ]
          },
          "metadata": {},
          "execution_count": 13
        }
      ]
    },
    {
      "cell_type": "code",
      "source": [
        "X.double()"
      ],
      "metadata": {
        "colab": {
          "base_uri": "https://localhost:8080/"
        },
        "id": "fDHBJXdWz81b",
        "outputId": "fe08f9f0-54d2-47e3-dd8e-8f2643908572"
      },
      "execution_count": 14,
      "outputs": [
        {
          "output_type": "execute_result",
          "data": {
            "text/plain": [
              "tensor([[1., 1., 1., 1.],\n",
              "        [1., 1., 1., 1.],\n",
              "        [1., 1., 1., 1.],\n",
              "        [1., 1., 1., 1.]], dtype=torch.float64)"
            ]
          },
          "metadata": {},
          "execution_count": 14
        }
      ]
    },
    {
      "cell_type": "code",
      "source": [
        "X.int()"
      ],
      "metadata": {
        "colab": {
          "base_uri": "https://localhost:8080/"
        },
        "id": "C1qE_TFh05ZF",
        "outputId": "c3cb4d0e-fac0-4bb7-ed6f-87311de21cf2"
      },
      "execution_count": 15,
      "outputs": [
        {
          "output_type": "execute_result",
          "data": {
            "text/plain": [
              "tensor([[1, 1, 1, 1],\n",
              "        [1, 1, 1, 1],\n",
              "        [1, 1, 1, 1],\n",
              "        [1, 1, 1, 1]], dtype=torch.int32)"
            ]
          },
          "metadata": {},
          "execution_count": 15
        }
      ]
    },
    {
      "cell_type": "code",
      "source": [
        "X.long()"
      ],
      "metadata": {
        "colab": {
          "base_uri": "https://localhost:8080/"
        },
        "id": "2giNzQA2089c",
        "outputId": "7b2dbf21-cc04-4e59-fa96-8b3c6fa19049"
      },
      "execution_count": 17,
      "outputs": [
        {
          "output_type": "execute_result",
          "data": {
            "text/plain": [
              "tensor([[1, 1, 1, 1],\n",
              "        [1, 1, 1, 1],\n",
              "        [1, 1, 1, 1],\n",
              "        [1, 1, 1, 1]])"
            ]
          },
          "metadata": {},
          "execution_count": 17
        }
      ]
    },
    {
      "cell_type": "code",
      "source": [
        "Y[Y > 0]"
      ],
      "metadata": {
        "colab": {
          "base_uri": "https://localhost:8080/"
        },
        "id": "LMY1jpAn0-zy",
        "outputId": "5769c02f-a631-45b9-82c9-c2669ebd845d"
      },
      "execution_count": 20,
      "outputs": [
        {
          "output_type": "execute_result",
          "data": {
            "text/plain": [
              "tensor([1.1329, 1.2880, 0.0742, 0.3464, 0.7381, 1.3090, 0.7397, 0.2541, 0.4421,\n",
              "        0.7121, 1.3181])"
            ]
          },
          "metadata": {},
          "execution_count": 20
        }
      ]
    },
    {
      "cell_type": "code",
      "source": [
        "Z = torch.empty([4,4])\n",
        "Z"
      ],
      "metadata": {
        "colab": {
          "base_uri": "https://localhost:8080/"
        },
        "id": "0S_Sf73X1Fic",
        "outputId": "0a211ceb-bc15-4e0d-c688-2a0b26d50f7e"
      },
      "execution_count": 23,
      "outputs": [
        {
          "output_type": "execute_result",
          "data": {
            "text/plain": [
              "tensor([[-8.7701e+26,  4.5804e-41,  3.4402e-34,  0.0000e+00],\n",
              "        [ 2.6078e-42,  0.0000e+00,  3.4404e-34,  0.0000e+00],\n",
              "        [ 3.2304e-14,  4.5804e-41,  3.4404e-34,  0.0000e+00],\n",
              "        [ 3.2304e-14,  4.5804e-41,  3.2304e-14,  4.5804e-41]])"
            ]
          },
          "metadata": {},
          "execution_count": 23
        }
      ]
    },
    {
      "cell_type": "code",
      "source": [
        "b = torch.add(X, Y)\n",
        "b"
      ],
      "metadata": {
        "colab": {
          "base_uri": "https://localhost:8080/"
        },
        "id": "71-7mZLJ1N99",
        "outputId": "23276cb9-d65e-4c98-ae07-825028293061"
      },
      "execution_count": 28,
      "outputs": [
        {
          "output_type": "execute_result",
          "data": {
            "text/plain": [
              "tensor([[ 2.1329,  2.2880,  1.0742,  1.3464],\n",
              "        [ 1.7381,  0.5271,  2.3090,  1.7397],\n",
              "        [ 1.2541, -0.3411,  1.4421,  1.7121],\n",
              "        [ 0.1778,  0.9774,  2.3181,  0.3670]])"
            ]
          },
          "metadata": {},
          "execution_count": 28
        }
      ]
    },
    {
      "cell_type": "code",
      "source": [
        "a = X + Y\n",
        "a"
      ],
      "metadata": {
        "colab": {
          "base_uri": "https://localhost:8080/"
        },
        "id": "W4otEX471W_T",
        "outputId": "c612164d-3fde-4147-eabd-dd5470fe8a85"
      },
      "execution_count": 29,
      "outputs": [
        {
          "output_type": "execute_result",
          "data": {
            "text/plain": [
              "tensor([[ 2.1329,  2.2880,  1.0742,  1.3464],\n",
              "        [ 1.7381,  0.5271,  2.3090,  1.7397],\n",
              "        [ 1.2541, -0.3411,  1.4421,  1.7121],\n",
              "        [ 0.1778,  0.9774,  2.3181,  0.3670]])"
            ]
          },
          "metadata": {},
          "execution_count": 29
        }
      ]
    },
    {
      "cell_type": "code",
      "source": [
        "torch.add(X, Y, out=Z)\n",
        "Z"
      ],
      "metadata": {
        "colab": {
          "base_uri": "https://localhost:8080/"
        },
        "id": "eDQ2xDwC1ZOA",
        "outputId": "5ee94d2a-6cbc-41ed-fc75-61044587dcb0"
      },
      "execution_count": 27,
      "outputs": [
        {
          "output_type": "execute_result",
          "data": {
            "text/plain": [
              "tensor([[ 2.1329,  2.2880,  1.0742,  1.3464],\n",
              "        [ 1.7381,  0.5271,  2.3090,  1.7397],\n",
              "        [ 1.2541, -0.3411,  1.4421,  1.7121],\n",
              "        [ 0.1778,  0.9774,  2.3181,  0.3670]])"
            ]
          },
          "metadata": {},
          "execution_count": 27
        }
      ]
    },
    {
      "cell_type": "code",
      "source": [
        "torch.all(a == Z)"
      ],
      "metadata": {
        "colab": {
          "base_uri": "https://localhost:8080/"
        },
        "id": "VM65ywgj1dLz",
        "outputId": "bd698714-18fe-4c00-e0d9-de6556e8b6d2"
      },
      "execution_count": 33,
      "outputs": [
        {
          "output_type": "execute_result",
          "data": {
            "text/plain": [
              "tensor(True)"
            ]
          },
          "metadata": {},
          "execution_count": 33
        }
      ]
    },
    {
      "cell_type": "code",
      "source": [
        "Z.numpy()"
      ],
      "metadata": {
        "colab": {
          "base_uri": "https://localhost:8080/"
        },
        "id": "O0RoaXVn1iZn",
        "outputId": "4015c053-3886-4dd8-fa5a-1d93caa4cb87"
      },
      "execution_count": 34,
      "outputs": [
        {
          "output_type": "execute_result",
          "data": {
            "text/plain": [
              "array([[ 2.132864  ,  2.2880476 ,  1.0742484 ,  1.3464184 ],\n",
              "       [ 1.7381434 ,  0.52714074,  2.3090196 ,  1.7396767 ],\n",
              "       [ 1.2541475 , -0.34106994,  1.4420888 ,  1.7120732 ],\n",
              "       [ 0.17783648,  0.9773832 ,  2.3181362 ,  0.3670237 ]],\n",
              "      dtype=float32)"
            ]
          },
          "metadata": {},
          "execution_count": 34
        }
      ]
    },
    {
      "cell_type": "markdown",
      "source": [
        "### Задание 1: \n",
        "\n",
        "- При помощи numpy посчитайте сумму квадратов чисел от 1 до 10000\n",
        "- Сделайте то же самое с помощью pytorch"
      ],
      "metadata": {
        "id": "HWdhwKf22FJ8"
      }
    },
    {
      "cell_type": "code",
      "source": [
        "a_list = list(range(1, 10**4))\n",
        "a_list[:10]"
      ],
      "metadata": {
        "colab": {
          "base_uri": "https://localhost:8080/"
        },
        "id": "5EjO2eUM1_BZ",
        "outputId": "333b92c4-e5d0-439b-e196-f4b353c6833f"
      },
      "execution_count": 35,
      "outputs": [
        {
          "output_type": "execute_result",
          "data": {
            "text/plain": [
              "[1, 2, 3, 4, 5, 6, 7, 8, 9, 10]"
            ]
          },
          "metadata": {},
          "execution_count": 35
        }
      ]
    },
    {
      "cell_type": "code",
      "source": [
        "%time sum([i**2 for i in a_list])"
      ],
      "metadata": {
        "colab": {
          "base_uri": "https://localhost:8080/"
        },
        "id": "Va2Gx0aW2gPz",
        "outputId": "9973999d-cdb2-4d08-e4e4-60965f024cbc"
      },
      "execution_count": 39,
      "outputs": [
        {
          "output_type": "stream",
          "name": "stdout",
          "text": [
            "CPU times: user 4.45 ms, sys: 960 µs, total: 5.41 ms\n",
            "Wall time: 5.43 ms\n"
          ]
        },
        {
          "output_type": "execute_result",
          "data": {
            "text/plain": [
              "333283335000"
            ]
          },
          "metadata": {},
          "execution_count": 39
        }
      ]
    },
    {
      "cell_type": "code",
      "source": [
        "a_numpy = np.array(a_list)\n",
        "a_numpy"
      ],
      "metadata": {
        "colab": {
          "base_uri": "https://localhost:8080/"
        },
        "id": "YBalhR2-1_Eo",
        "outputId": "6eab71c1-91a8-4da5-c2d8-e2502f140997"
      },
      "execution_count": 36,
      "outputs": [
        {
          "output_type": "execute_result",
          "data": {
            "text/plain": [
              "array([   1,    2,    3, ..., 9997, 9998, 9999])"
            ]
          },
          "metadata": {},
          "execution_count": 36
        }
      ]
    },
    {
      "cell_type": "code",
      "source": [
        "%timeit (a_numpy ** 2).sum()"
      ],
      "metadata": {
        "colab": {
          "base_uri": "https://localhost:8080/"
        },
        "id": "EMiIZ5712h9U",
        "outputId": "972f4c12-d78e-471b-c694-f021a006aba8"
      },
      "execution_count": 45,
      "outputs": [
        {
          "output_type": "stream",
          "name": "stdout",
          "text": [
            "17.1 µs ± 1.55 µs per loop (mean ± std. dev. of 7 runs, 100000 loops each)\n"
          ]
        }
      ]
    },
    {
      "cell_type": "code",
      "source": [
        "a_torch = torch.tensor(a_list)\n",
        "a_torch"
      ],
      "metadata": {
        "colab": {
          "base_uri": "https://localhost:8080/"
        },
        "id": "EWLn0oha1_He",
        "outputId": "d6379d24-bbc7-4fab-c9d0-1df107e65e11"
      },
      "execution_count": 37,
      "outputs": [
        {
          "output_type": "execute_result",
          "data": {
            "text/plain": [
              "tensor([   1,    2,    3,  ..., 9997, 9998, 9999])"
            ]
          },
          "metadata": {},
          "execution_count": 37
        }
      ]
    },
    {
      "cell_type": "code",
      "source": [
        "%timeit (a_torch ** 2).sum()"
      ],
      "metadata": {
        "colab": {
          "base_uri": "https://localhost:8080/"
        },
        "id": "64iohB0i2jFC",
        "outputId": "8011a8c5-ee46-4a42-b167-1872308f1eff"
      },
      "execution_count": 46,
      "outputs": [
        {
          "output_type": "stream",
          "name": "stdout",
          "text": [
            "35.5 µs ± 5.02 µs per loop (mean ± std. dev. of 7 runs, 10000 loops each)\n"
          ]
        }
      ]
    },
    {
      "cell_type": "markdown",
      "source": [
        "Градиенты"
      ],
      "metadata": {
        "id": "VZYWzfHv3RTG"
      }
    },
    {
      "cell_type": "code",
      "source": [
        "x = torch.randn([4,4], requires_grad=True)\n",
        "y = torch.randn([4,4], requires_grad=True)"
      ],
      "metadata": {
        "id": "8zvTs81_3FpC"
      },
      "execution_count": 48,
      "outputs": []
    },
    {
      "cell_type": "code",
      "source": [
        "2*(x[0,0] + y[0, 0])"
      ],
      "metadata": {
        "colab": {
          "base_uri": "https://localhost:8080/"
        },
        "id": "PyfpLBPN33SX",
        "outputId": "8ca90ce3-12d8-463a-c1af-be090f475848"
      },
      "execution_count": 58,
      "outputs": [
        {
          "output_type": "execute_result",
          "data": {
            "text/plain": [
              "tensor(0.3117, grad_fn=<MulBackward0>)"
            ]
          },
          "metadata": {},
          "execution_count": 58
        }
      ]
    },
    {
      "cell_type": "code",
      "source": [
        "l = torch.sum((x + y)**2)"
      ],
      "metadata": {
        "id": "ccyqIAYq3Fvp"
      },
      "execution_count": 52,
      "outputs": []
    },
    {
      "cell_type": "code",
      "source": [
        "print(x.grad)"
      ],
      "metadata": {
        "colab": {
          "base_uri": "https://localhost:8080/"
        },
        "id": "BuXZeR-h3FzK",
        "outputId": "9eb2033e-324a-4041-bbc3-ded9543c108e"
      },
      "execution_count": 53,
      "outputs": [
        {
          "output_type": "stream",
          "name": "stdout",
          "text": [
            "None\n"
          ]
        }
      ]
    },
    {
      "cell_type": "code",
      "source": [
        "l.backward()"
      ],
      "metadata": {
        "id": "4uEdAVh01igh"
      },
      "execution_count": 54,
      "outputs": []
    },
    {
      "cell_type": "code",
      "source": [
        "x.grad"
      ],
      "metadata": {
        "colab": {
          "base_uri": "https://localhost:8080/"
        },
        "id": "5Brnirl83qTn",
        "outputId": "19f733bb-2b4f-403c-b90a-ee06465b4acb"
      },
      "execution_count": 55,
      "outputs": [
        {
          "output_type": "execute_result",
          "data": {
            "text/plain": [
              "tensor([[ 0.3117, -4.4449,  3.1818,  1.8697],\n",
              "        [-1.3449,  3.6281, -3.5299,  2.6911],\n",
              "        [-2.8118, -3.8161, -1.6966,  4.5034],\n",
              "        [-2.8644,  1.4682, -1.7957,  1.7880]])"
            ]
          },
          "metadata": {},
          "execution_count": 55
        }
      ]
    },
    {
      "cell_type": "code",
      "source": [
        "x = torch.randn(1, requires_grad=True)\n",
        "y = torch.randn(1, requires_grad=True)\n",
        "x, y"
      ],
      "metadata": {
        "colab": {
          "base_uri": "https://localhost:8080/"
        },
        "id": "eT1dss2u4JoF",
        "outputId": "38e6eee7-bd9f-4dd9-dad9-b04902aa63e1"
      },
      "execution_count": 63,
      "outputs": [
        {
          "output_type": "execute_result",
          "data": {
            "text/plain": [
              "(tensor([-0.8842], requires_grad=True), tensor([2.2856], requires_grad=True))"
            ]
          },
          "metadata": {},
          "execution_count": 63
        }
      ]
    },
    {
      "cell_type": "code",
      "source": [
        "z = (x + y)**2\n",
        "z.backward() # dz/dx = 2( x + y)"
      ],
      "metadata": {
        "id": "KVLU6xQn4Jqh"
      },
      "execution_count": 64,
      "outputs": []
    },
    {
      "cell_type": "code",
      "source": [
        "x.grad"
      ],
      "metadata": {
        "colab": {
          "base_uri": "https://localhost:8080/"
        },
        "id": "O6AhCHRb30yN",
        "outputId": "9930d87e-5576-4bd5-ee1b-cd5c38e6edb7"
      },
      "execution_count": 65,
      "outputs": [
        {
          "output_type": "execute_result",
          "data": {
            "text/plain": [
              "tensor([2.8028])"
            ]
          },
          "metadata": {},
          "execution_count": 65
        }
      ]
    },
    {
      "cell_type": "code",
      "source": [
        "2*(x + y)"
      ],
      "metadata": {
        "colab": {
          "base_uri": "https://localhost:8080/"
        },
        "id": "-PplcQ3K4a5F",
        "outputId": "527d3f0d-c052-41ec-9186-a91271790681"
      },
      "execution_count": 66,
      "outputs": [
        {
          "output_type": "execute_result",
          "data": {
            "text/plain": [
              "tensor([2.8028], grad_fn=<MulBackward0>)"
            ]
          },
          "metadata": {},
          "execution_count": 66
        }
      ]
    },
    {
      "cell_type": "code",
      "source": [
        "z = (x + y)**2\n",
        "z.backward()"
      ],
      "metadata": {
        "id": "gQ8GbEY14huj"
      },
      "execution_count": 68,
      "outputs": []
    },
    {
      "cell_type": "code",
      "source": [
        "x.grad # = 2.8028 + 2.8028"
      ],
      "metadata": {
        "colab": {
          "base_uri": "https://localhost:8080/"
        },
        "id": "G33pPKx84v84",
        "outputId": "358eb2c6-e7ae-4195-8dab-b5fdd828f832"
      },
      "execution_count": 69,
      "outputs": [
        {
          "output_type": "execute_result",
          "data": {
            "text/plain": [
              "tensor([5.6056])"
            ]
          },
          "metadata": {},
          "execution_count": 69
        }
      ]
    },
    {
      "cell_type": "code",
      "source": [
        "x.grad.zero_() # надо обнулять после каждой итерации"
      ],
      "metadata": {
        "colab": {
          "base_uri": "https://localhost:8080/"
        },
        "id": "uxU2TrsW5Xc6",
        "outputId": "9ca14ff3-67b8-4cdd-95bf-105d26682c27"
      },
      "execution_count": 75,
      "outputs": [
        {
          "output_type": "execute_result",
          "data": {
            "text/plain": [
              "tensor([0.])"
            ]
          },
          "metadata": {},
          "execution_count": 75
        }
      ]
    },
    {
      "cell_type": "markdown",
      "source": [
        "Видеоккарту"
      ],
      "metadata": {
        "id": "qk5pAq6259ln"
      }
    },
    {
      "cell_type": "code",
      "source": [
        "# CUDA - библиотека для работы с видеокартами"
      ],
      "metadata": {
        "id": "WhXifJ6j5Xka"
      },
      "execution_count": 76,
      "outputs": []
    },
    {
      "cell_type": "code",
      "source": [
        "!nvidia-smi"
      ],
      "metadata": {
        "colab": {
          "base_uri": "https://localhost:8080/"
        },
        "id": "tsCQRufu52Bp",
        "outputId": "2196c7cb-6b88-47d4-e907-a159afbfc371"
      },
      "execution_count": 2,
      "outputs": [
        {
          "output_type": "stream",
          "name": "stdout",
          "text": [
            "Mon Feb  6 18:08:42 2023       \n",
            "+-----------------------------------------------------------------------------+\n",
            "| NVIDIA-SMI 510.47.03    Driver Version: 510.47.03    CUDA Version: 11.6     |\n",
            "|-------------------------------+----------------------+----------------------+\n",
            "| GPU  Name        Persistence-M| Bus-Id        Disp.A | Volatile Uncorr. ECC |\n",
            "| Fan  Temp  Perf  Pwr:Usage/Cap|         Memory-Usage | GPU-Util  Compute M. |\n",
            "|                               |                      |               MIG M. |\n",
            "|===============================+======================+======================|\n",
            "|   0  Tesla T4            Off  | 00000000:00:04.0 Off |                    0 |\n",
            "| N/A   66C    P0    28W /  70W |      0MiB / 15360MiB |      0%      Default |\n",
            "|                               |                      |                  N/A |\n",
            "+-------------------------------+----------------------+----------------------+\n",
            "                                                                               \n",
            "+-----------------------------------------------------------------------------+\n",
            "| Processes:                                                                  |\n",
            "|  GPU   GI   CI        PID   Type   Process name                  GPU Memory |\n",
            "|        ID   ID                                                   Usage      |\n",
            "|=============================================================================|\n",
            "|  No running processes found                                                 |\n",
            "+-----------------------------------------------------------------------------+\n"
          ]
        }
      ]
    },
    {
      "cell_type": "code",
      "source": [
        "import torch\n",
        "torch.cuda.is_available()"
      ],
      "metadata": {
        "colab": {
          "base_uri": "https://localhost:8080/"
        },
        "id": "QjM20q8G52Fh",
        "outputId": "ed1d3736-16ac-45bd-cd4b-b7ddbcf6f41e"
      },
      "execution_count": 4,
      "outputs": [
        {
          "output_type": "execute_result",
          "data": {
            "text/plain": [
              "True"
            ]
          },
          "metadata": {},
          "execution_count": 4
        }
      ]
    },
    {
      "cell_type": "code",
      "source": [
        "torch.cuda.device_count()"
      ],
      "metadata": {
        "colab": {
          "base_uri": "https://localhost:8080/"
        },
        "id": "9uru6TU360j5",
        "outputId": "57231438-6d94-4981-ed18-6359ac44a13c"
      },
      "execution_count": 5,
      "outputs": [
        {
          "output_type": "execute_result",
          "data": {
            "text/plain": [
              "1"
            ]
          },
          "metadata": {},
          "execution_count": 5
        }
      ]
    },
    {
      "cell_type": "code",
      "source": [
        "torch.device('cuda:0')"
      ],
      "metadata": {
        "colab": {
          "base_uri": "https://localhost:8080/"
        },
        "id": "HvPr3vck60uz",
        "outputId": "00f722d9-8e6e-464a-dbb6-3e8c76e5ceee"
      },
      "execution_count": 6,
      "outputs": [
        {
          "output_type": "execute_result",
          "data": {
            "text/plain": [
              "device(type='cuda', index=0)"
            ]
          },
          "metadata": {},
          "execution_count": 6
        }
      ]
    },
    {
      "cell_type": "code",
      "source": [
        "torch.device('cpu')"
      ],
      "metadata": {
        "colab": {
          "base_uri": "https://localhost:8080/"
        },
        "id": "TKA3pODt5JGp",
        "outputId": "685b1efe-7b69-4fc6-987b-2a2acd4cd117"
      },
      "execution_count": 7,
      "outputs": [
        {
          "output_type": "execute_result",
          "data": {
            "text/plain": [
              "device(type='cpu')"
            ]
          },
          "metadata": {},
          "execution_count": 7
        }
      ]
    },
    {
      "cell_type": "code",
      "source": [
        "device = torch.device('cuda:0' if torch.cuda.is_available() else 'cpu')\n",
        "device"
      ],
      "metadata": {
        "colab": {
          "base_uri": "https://localhost:8080/"
        },
        "id": "ZIQFZyvm7DOf",
        "outputId": "2ce63e65-a6e4-40fa-9466-cd45e6921c82"
      },
      "execution_count": 8,
      "outputs": [
        {
          "output_type": "execute_result",
          "data": {
            "text/plain": [
              "device(type='cuda', index=0)"
            ]
          },
          "metadata": {},
          "execution_count": 8
        }
      ]
    },
    {
      "cell_type": "code",
      "source": [
        "x = torch.randn([4, 4])"
      ],
      "metadata": {
        "id": "BIzvDb4_7MVd"
      },
      "execution_count": 9,
      "outputs": []
    },
    {
      "cell_type": "code",
      "source": [
        "x.to(device)"
      ],
      "metadata": {
        "colab": {
          "base_uri": "https://localhost:8080/"
        },
        "id": "-Djmc__T7Y0f",
        "outputId": "5bb2045b-5467-427d-9fb6-b721d86cff58"
      },
      "execution_count": 10,
      "outputs": [
        {
          "output_type": "execute_result",
          "data": {
            "text/plain": [
              "tensor([[ 1.2373,  0.4178,  0.5503,  0.2309],\n",
              "        [ 0.8638,  1.7922, -0.8114, -1.2415],\n",
              "        [-1.5253,  0.2216,  0.9437, -1.8076],\n",
              "        [ 0.3244,  0.2263, -2.0242,  0.4610]], device='cuda:0')"
            ]
          },
          "metadata": {},
          "execution_count": 10
        }
      ]
    },
    {
      "cell_type": "code",
      "source": [
        "x.cpu()"
      ],
      "metadata": {
        "colab": {
          "base_uri": "https://localhost:8080/"
        },
        "id": "gwQI85uN7duR",
        "outputId": "65608458-e22d-47ed-acad-7734c3f579c9"
      },
      "execution_count": 11,
      "outputs": [
        {
          "output_type": "execute_result",
          "data": {
            "text/plain": [
              "tensor([[ 1.2373,  0.4178,  0.5503,  0.2309],\n",
              "        [ 0.8638,  1.7922, -0.8114, -1.2415],\n",
              "        [-1.5253,  0.2216,  0.9437, -1.8076],\n",
              "        [ 0.3244,  0.2263, -2.0242,  0.4610]])"
            ]
          },
          "metadata": {},
          "execution_count": 11
        }
      ]
    },
    {
      "cell_type": "code",
      "source": [
        "a = torch.randn([10**4, 10**4])\n",
        "b = torch.randn([10**4, 10**4])"
      ],
      "metadata": {
        "id": "NtRxc2Cb7phu"
      },
      "execution_count": 16,
      "outputs": []
    },
    {
      "cell_type": "code",
      "source": [
        "a_gpu = torch.randn([10**4, 10**4], device=device)\n",
        "b_gpu = torch.randn([10**4, 10**4], device=device)"
      ],
      "metadata": {
        "id": "FiGobyv87pm7"
      },
      "execution_count": 17,
      "outputs": []
    },
    {
      "cell_type": "code",
      "source": [
        "%time a @ b"
      ],
      "metadata": {
        "colab": {
          "base_uri": "https://localhost:8080/"
        },
        "id": "co6NIyIT7dwt",
        "outputId": "a2691779-433f-43ae-f641-ced2ad7816df"
      },
      "execution_count": 18,
      "outputs": [
        {
          "output_type": "stream",
          "name": "stdout",
          "text": [
            "CPU times: user 15.3 s, sys: 231 ms, total: 15.5 s\n",
            "Wall time: 15.8 s\n"
          ]
        },
        {
          "output_type": "execute_result",
          "data": {
            "text/plain": [
              "tensor([[  -2.3686,  110.2282,  100.5473,  ..., -198.3453,   32.0382,\n",
              "           82.0891],\n",
              "        [ -31.2025, -109.6571,  -81.8620,  ...,   40.3212,  -66.5889,\n",
              "           63.2910],\n",
              "        [ -97.2310,  -45.2022,  -63.2762,  ...,   70.9402,  234.6315,\n",
              "           42.7506],\n",
              "        ...,\n",
              "        [-147.7971, -142.1883,   -0.7873,  ...,  162.6020,  -29.5452,\n",
              "           28.3518],\n",
              "        [-190.5967,   -7.1610,  -20.4488,  ...,  109.2233,    8.7952,\n",
              "          -78.4880],\n",
              "        [ 131.6610,  -75.3033,    8.3475,  ...,  146.7670, -132.2320,\n",
              "          136.2658]])"
            ]
          },
          "metadata": {},
          "execution_count": 18
        }
      ]
    },
    {
      "cell_type": "code",
      "source": [
        "%time a_gpu @ b_gpu"
      ],
      "metadata": {
        "colab": {
          "base_uri": "https://localhost:8080/"
        },
        "id": "uPc286xP7dzt",
        "outputId": "6586cb26-8d67-47eb-d0e0-838634d041cb"
      },
      "execution_count": 19,
      "outputs": [
        {
          "output_type": "stream",
          "name": "stdout",
          "text": [
            "CPU times: user 1.93 ms, sys: 0 ns, total: 1.93 ms\n",
            "Wall time: 1.29 ms\n"
          ]
        },
        {
          "output_type": "execute_result",
          "data": {
            "text/plain": [
              "tensor([[-156.3741,  217.0767,   11.0942,  ...,   76.8329,   24.2592,\n",
              "         -221.4573],\n",
              "        [ -99.7288,   54.2805,  -26.6725,  ..., -216.3590, -107.8679,\n",
              "         -232.6554],\n",
              "        [ -11.2709,   69.2187,   -0.2716,  ...,  -93.1171,  -76.0619,\n",
              "           -0.7071],\n",
              "        ...,\n",
              "        [ -52.7737,    4.7435, -105.3228,  ..., -168.2017,   74.6151,\n",
              "           -6.3196],\n",
              "        [  37.3631,  223.1654,   96.7217,  ...,    3.2983,   56.9396,\n",
              "          176.1027],\n",
              "        [  90.3743,  180.3072,   67.5939,  ...,  -26.9176,   61.4673,\n",
              "          149.0665]], device='cuda:0')"
            ]
          },
          "metadata": {},
          "execution_count": 19
        }
      ]
    },
    {
      "cell_type": "code",
      "source": [
        "!echo $CUDA_VISIBLE_DEVICES"
      ],
      "metadata": {
        "colab": {
          "base_uri": "https://localhost:8080/"
        },
        "id": "-YAlfSpu76zU",
        "outputId": "29e7a4dd-321a-46d0-a2d0-af9f0fdeafc0"
      },
      "execution_count": 1,
      "outputs": [
        {
          "output_type": "stream",
          "name": "stdout",
          "text": [
            "\n"
          ]
        }
      ]
    },
    {
      "cell_type": "code",
      "source": [
        "import torch\n",
        "x = torch.tensor([[1, 2, 3], [4, 5, 6], [7, 8, 9]])\n",
        "y = x.clone()\n",
        "y[2] = torch.ones(3)"
      ],
      "metadata": {
        "id": "4YNrbqfu8zSa"
      },
      "execution_count": 7,
      "outputs": []
    },
    {
      "cell_type": "code",
      "source": [
        "y"
      ],
      "metadata": {
        "colab": {
          "base_uri": "https://localhost:8080/"
        },
        "id": "vjwmj0sf9NiA",
        "outputId": "54445010-1543-4fc2-ac34-37b52a23f9b9"
      },
      "execution_count": 8,
      "outputs": [
        {
          "output_type": "execute_result",
          "data": {
            "text/plain": [
              "tensor([[1, 2, 3],\n",
              "        [4, 5, 6],\n",
              "        [1, 1, 1]])"
            ]
          },
          "metadata": {},
          "execution_count": 8
        }
      ]
    },
    {
      "cell_type": "code",
      "source": [
        "x "
      ],
      "metadata": {
        "colab": {
          "base_uri": "https://localhost:8080/"
        },
        "id": "VsoZud9h9QXQ",
        "outputId": "f01f8fdb-811d-4208-da78-193f79c4e7a8"
      },
      "execution_count": 9,
      "outputs": [
        {
          "output_type": "execute_result",
          "data": {
            "text/plain": [
              "tensor([[1, 2, 3],\n",
              "        [4, 5, 6],\n",
              "        [7, 8, 9]])"
            ]
          },
          "metadata": {},
          "execution_count": 9
        }
      ]
    },
    {
      "cell_type": "code",
      "source": [],
      "metadata": {
        "id": "E-1Aebw19Tm3"
      },
      "execution_count": null,
      "outputs": []
    }
  ]
}