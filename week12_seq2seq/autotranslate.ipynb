{
 "cells": [
  {
   "cell_type": "markdown",
   "metadata": {
    "id": "djgNhEMCwUQ4"
   },
   "source": [
    "# seq2seq модели \n",
    "\n",
    "В этой тетрадке мы посмотрим на то, как в `tensorflow` собрать сетку для автоперевода с английского языка на русский. Скрипт целиком и полностью основан на великой и могучей [документации.](https://github.com/tensorflow/nmt)"
   ]
  },
  {
   "cell_type": "code",
   "execution_count": null,
   "metadata": {
    "id": "FjyzU0nhwUQ6",
    "outputId": "23dc2a5c-96f3-4ac8-a87a-2a3fa644eff1"
   },
   "outputs": [
    {
     "name": "stdout",
     "output_type": "stream",
     "text": [
      "2.5.0\n"
     ]
    }
   ],
   "source": [
    "import matplotlib.pyplot as plt\n",
    "\n",
    "import re\n",
    "import numpy as np\n",
    "import os\n",
    "import time\n",
    "\n",
    "import tensorflow as tf\n",
    "print(tf.__version__)"
   ]
  },
  {
   "cell_type": "markdown",
   "metadata": {
    "id": "RJv7mgN0wUQ7"
   },
   "source": [
    "# 1. Подготовка даных \n",
    "\n",
    "Мы будем использовать датасет переводов из базы данных http://www.manythings.org/anki/. Кроме всего прочего, можно найти подобные датасеты среди [стенограмм ООН](https://catalog.ldc.upenn.edu/LDC2013T06) и [Европейского союза.](http://www.statmt.org/europarl/) \n",
    "\n",
    "Скачаем датасет `rus-eng.zip` и положим его рядом с питоновской тетрадкой."
   ]
  },
  {
   "cell_type": "code",
   "execution_count": null,
   "metadata": {
    "id": "wTBMWLVqwUQ8",
    "outputId": "b19fcbfb-8e46-46f4-823f-76eddb63e0fa"
   },
   "outputs": [
    {
     "name": "stdout",
     "output_type": "stream",
     "text": [
      "--2021-09-08 16:58:28--  http://www.manythings.org/anki/rus-eng.zip\n",
      "Распознаётся www.manythings.org (www.manythings.org)… 2606:4700:3033::ac43:ba36, 2606:4700:3030::6815:5c2c, 172.67.186.54, ...\n",
      "Подключение к www.manythings.org (www.manythings.org)|2606:4700:3033::ac43:ba36|:80... соединение установлено.\n",
      "HTTP-запрос отправлен. Ожидание ответа… 200 OK\n",
      "Длина: 14385451 (14M) [application/zip]\n",
      "Сохранение в: «rus-eng.zip»\n",
      "\n",
      "rus-eng.zip         100%[===================>]  13,72M  3,59MB/s    за 4,0s    \n",
      "\n",
      "2021-09-08 16:58:33 (3,41 MB/s) - «rus-eng.zip» сохранён [14385451/14385451]\n",
      "\n"
     ]
    }
   ],
   "source": [
    "!wget http://www.manythings.org/anki/rus-eng.zip"
   ]
  },
  {
   "cell_type": "code",
   "execution_count": null,
   "metadata": {
    "id": "f351g_KlwUQ8",
    "outputId": "39f1db81-064e-4511-b104-4e687eae2d2b"
   },
   "outputs": [
    {
     "name": "stdout",
     "output_type": "stream",
     "text": [
      "Archive:  rus-eng.zip\n",
      "replace rus.txt? [y]es, [n]o, [A]ll, [N]one, [r]ename: ^C\n"
     ]
    }
   ],
   "source": [
    "!unzip rus-eng.zip"
   ]
  },
  {
   "cell_type": "code",
   "execution_count": null,
   "metadata": {
    "id": "08JXyatYwUQ8"
   },
   "outputs": [],
   "source": [
    "!rm rus-eng.zip"
   ]
  },
  {
   "cell_type": "code",
   "execution_count": null,
   "metadata": {
    "id": "pl93hZWlwUQ8",
    "outputId": "18bd534c-4367-4472-f141-2c9e3574ce9a"
   },
   "outputs": [
    {
     "name": "stdout",
     "output_type": "stream",
     "text": [
      "Attention_bert.pdf     \u001b[1m\u001b[32mautotranslate.ipynb\u001b[m\u001b[m    news\r\n",
      "Attention_bert.tex     \u001b[1m\u001b[34melmo_tf1\u001b[m\u001b[m               nn_slides_seq2seq.pdf\r\n",
      "_about.txt             image_captioning.ipynb nn_slides_w2v.pdf\r\n",
      "\u001b[1m\u001b[34mannotations\u001b[m\u001b[m            \u001b[1m\u001b[34mimages\u001b[m\u001b[m                 rus.txt\r\n"
     ]
    }
   ],
   "source": [
    "!ls"
   ]
  },
  {
   "cell_type": "code",
   "execution_count": null,
   "metadata": {
    "id": "v9_WlsiywUQ9",
    "outputId": "40e6e973-2250-4d59-f2a9-5ea61b1fcfad"
   },
   "outputs": [
    {
     "name": "stdout",
     "output_type": "stream",
     "text": [
      "Go.\tМарш!\tCC-BY 2.0 (France) Attribution: tatoeba.org #2877272 (CM) & #1159202 (shanghainese)\r\n",
      "Go.\tИди.\tCC-BY 2.0 (France) Attribution: tatoeba.org #2877272 (CM) & #5898247 (marafon)\r\n",
      "Go.\tИдите.\tCC-BY 2.0 (France) Attribution: tatoeba.org #2877272 (CM) & #5898250 (marafon)\r\n",
      "Hi.\tЗдравствуйте.\tCC-BY 2.0 (France) Attribution: tatoeba.org #538123 (CM) & #402127 (odexed)\r\n",
      "Hi.\tПривет!\tCC-BY 2.0 (France) Attribution: tatoeba.org #538123 (CM) & #466968 (katjka)\r\n",
      "Hi.\tХай.\tCC-BY 2.0 (France) Attribution: tatoeba.org #538123 (CM) & #467233 (timsa)\r\n",
      "Hi.\tЗдрасте.\tCC-BY 2.0 (France) Attribution: tatoeba.org #538123 (CM) & #3803577 (marafon)\r\n",
      "Hi.\tЗдоро́во!\tCC-BY 2.0 (France) Attribution: tatoeba.org #538123 (CM) & #3854188 (marafon)\r\n",
      "Hi.\tПриветик!\tCC-BY 2.0 (France) Attribution: tatoeba.org #538123 (CM) & #7234283 (marafon)\r\n",
      "Run!\tБеги!\tCC-BY 2.0 (France) Attribution: tatoeba.org #906328 (papabear) & #1569978 (Biga)\r\n"
     ]
    }
   ],
   "source": [
    "!head rus.txt "
   ]
  },
  {
   "cell_type": "markdown",
   "metadata": {
    "id": "3SzDKtTVwUQ-"
   },
   "source": [
    "Внутри файла `rus.txt` лежат пары для перевода в формате: \n",
    "\n",
    "```\n",
    "Get down!\tЛяг на пол!\n",
    "```\n",
    "\n",
    "Нам нужно предобработать датасет. Поступим с ним следующим образом:\n",
    "\n",
    "- Добавим токены `<start>` и `<end>`, сигнализирующие о начале и конце предложения. \n",
    "- Отделим знаки препинания от основного текста.\n",
    "\n",
    "Например, строка `'Run!\tБеги!'` должна превратиться в `'<start> run ! <end>', '<start> беги ! <end>'`."
   ]
  },
  {
   "cell_type": "code",
   "execution_count": null,
   "metadata": {
    "id": "iD7qE3YMwUQ_"
   },
   "outputs": [],
   "source": [
    "def preprocess_sentence(w):\n",
    "    \"\"\"\n",
    "        Функция для предобработки \n",
    "    \"\"\"\n",
    "    \n",
    "    # уменьшаем регистр и убираем лишние пробелы\n",
    "    w = w.lower().strip()\n",
    "\n",
    "    # делаем между словом и знаком пунктуации отступ 'привет! -> привет !'\n",
    "    w = re.sub(r\"([?.!,])\", r\" \\1 \", w)\n",
    "    w = re.sub(r'[\" \"]+', \" \", w)\n",
    "    \n",
    "    # выкидываем все остальные символы из рассмотрения \n",
    "    w = re.sub(r\"[^a-яА-Яa-zA-Z?.!,]+\", \" \", w)\n",
    "    w = w.rstrip().strip()\n",
    "    \n",
    "    # добавляем токены для начала и конца предложения\n",
    "    w = '<start> ' + w + ' <end>'\n",
    "    return w\n",
    "\n",
    "\n",
    "def create_dataset(path, num_examples):\n",
    "    \"\"\"\n",
    "        Функция, которая создаёт датасет\n",
    "    \"\"\"\n",
    "    lines = open(path).read().strip().split('\\n')\n",
    "    \n",
    "    word_pairs = [[preprocess_sentence(w)\n",
    "                   for w in l.split('CC-BY 2.0')[0].strip().split('\\t')]  for l in lines[:num_examples]]\n",
    "    \n",
    "    return word_pairs"
   ]
  },
  {
   "cell_type": "code",
   "execution_count": null,
   "metadata": {
    "id": "FHP1zXnHwUQ_",
    "outputId": "f2465998-ade1-4bec-e42a-2fbf24ef6503"
   },
   "outputs": [
    {
     "data": {
      "text/plain": [
       "[['<start> go . <end>', '<start> марш ! <end>'],\n",
       " ['<start> go . <end>', '<start> иди . <end>'],\n",
       " ['<start> go . <end>', '<start> идите . <end>'],\n",
       " ['<start> hi . <end>', '<start> здравствуйте . <end>'],\n",
       " ['<start> hi . <end>', '<start> привет ! <end>'],\n",
       " ['<start> hi . <end>', '<start> хай . <end>'],\n",
       " ['<start> hi . <end>', '<start> здрасте . <end>'],\n",
       " ['<start> hi . <end>', '<start> здоро́во ! <end>'],\n",
       " ['<start> hi . <end>', '<start> приветик ! <end>'],\n",
       " ['<start> run ! <end>', '<start> беги ! <end>']]"
      ]
     },
     "execution_count": 31,
     "metadata": {},
     "output_type": "execute_result"
    }
   ],
   "source": [
    "# Пример работы предобработчика :3 \n",
    "create_dataset('rus.txt', 10)"
   ]
  },
  {
   "cell_type": "markdown",
   "metadata": {
    "id": "DMw9airbwURA"
   },
   "source": [
    "- Создадим два словарика вида `id -> word` и `word -> id`. Напишем для этой затеи удобный класс. Мы же уже взрослые и в состояниии себе это позволить! "
   ]
  },
  {
   "cell_type": "code",
   "execution_count": null,
   "metadata": {
    "id": "qvESUe9pwURA"
   },
   "outputs": [],
   "source": [
    "class LanguageIndex():\n",
    "    \"\"\"\n",
    "        Класс для строительства мапинга \n",
    "            индекс -> слово и слово -> индекс\n",
    "        для каждого из языков \n",
    "    \"\"\"\n",
    "    def __init__(self, lang):\n",
    "        self.lang = lang\n",
    "        self.word2idx = {}\n",
    "        self.idx2word = {}\n",
    "        self.vocab = set()\n",
    "        self.create_index()\n",
    "        \n",
    "    def create_index(self):\n",
    "        for phrase in self.lang:\n",
    "            self.vocab.update(phrase.split(' '))\n",
    "\n",
    "        self.vocab = sorted(self.vocab)\n",
    "\n",
    "        self.word2idx['<pad>'] = 0\n",
    "        for index, word in enumerate(self.vocab):\n",
    "            self.word2idx[word] = index + 1\n",
    "\n",
    "        for word, index in self.word2idx.items():\n",
    "            self.idx2word[index] = word\n"
   ]
  },
  {
   "cell_type": "markdown",
   "metadata": {
    "id": "Ox4kmc-3wURA"
   },
   "source": [
    "- Осталось выравнять все тексты в батче, пришедшем к нам на вход до одной длины. Сделаем Padding всех предложений к одной длине с помощью фиктивного символа. "
   ]
  },
  {
   "cell_type": "code",
   "execution_count": null,
   "metadata": {
    "id": "2QtodrT4wURA"
   },
   "outputs": [],
   "source": [
    "def get_max_length(tensor):\n",
    "    \"\"\"\n",
    "        Максимальная длина предложения в тензоре \n",
    "    \"\"\"\n",
    "    return max(len(t) for t in tensor)\n",
    "\n",
    "\n",
    "def create_dataset(path, num_examples):\n",
    "    \"\"\"\n",
    "        Функция, которая полностью готовит данные для сетки \n",
    "    \"\"\"\n",
    "    \n",
    "    # подгрузка данных и их предобработка \n",
    "    pairs = create_dataset(path, num_examples)\n",
    "\n",
    "    # создаём два экземпляра со словарями и индексами \n",
    "    inp_lang = LanguageIndex(ru for en, ru in pairs)\n",
    "    targ_lang = LanguageIndex(en for en, ru in pairs)\n",
    "    \n",
    "    # Векторизуем данные в соотвествии с нашими классами \n",
    "    # Русские предложения\n",
    "    input_tensor = [[inp_lang.word2idx[s] for s in ru.split(' ')] for en, ru in pairs]\n",
    "    \n",
    "    # Английские предложения\n",
    "    target_tensor = [[targ_lang.word2idx[s] for s in en.split(' ')] for en, ru in pairs]\n",
    "    \n",
    "    # Находим максимальные длинны для каждого языка\n",
    "    max_length_inp, max_length_tar = get_max_length(input_tensor), get_max_length(target_tensor)\n",
    "    \n",
    "    # Заполняем у всех других предложений пропуски падингами до максимальной длины \n",
    "    input_tensor = tf.keras.preprocessing.sequence.pad_sequences(input_tensor, \n",
    "                                                                 maxlen=max_length_inp,\n",
    "                                                                 padding='post')\n",
    "    \n",
    "    target_tensor = tf.keras.preprocessing.sequence.pad_sequences(target_tensor, \n",
    "                                                                  maxlen=max_length_tar, \n",
    "                                                                  padding='post')\n",
    "    \n",
    "    return input_tensor, target_tensor, inp_lang, targ_lang, max_length_inp, max_length_tar"
   ]
  },
  {
   "cell_type": "markdown",
   "metadata": {
    "id": "CPwgPl03wURB"
   },
   "source": [
    "Для того, чтобы эксперимент с обучением нейронной сетки прошёл побыстрее, ограничимся корпусом из $30000$ предложений. В домашних условиях вы можете попробовать обучить модель на всём корпусе."
   ]
  },
  {
   "cell_type": "code",
   "execution_count": null,
   "metadata": {
    "id": "3GIU6X39wURB"
   },
   "outputs": [],
   "source": [
    "path_to_file = 'rus-eng/rus.txt'\n",
    "num_examples = 30000\n",
    "\n",
    "input_tensor, target_tensor, inp_lang, targ_lang, \\\n",
    "    max_length_inp, max_length_targ = load_dataset(path_to_file, num_examples)"
   ]
  },
  {
   "cell_type": "code",
   "execution_count": null,
   "metadata": {
    "id": "Ym3T6zs0wURB"
   },
   "outputs": [],
   "source": [
    "input_tensor # вход! "
   ]
  },
  {
   "cell_type": "code",
   "execution_count": null,
   "metadata": {
    "id": "JKPEZSExwURC"
   },
   "outputs": [],
   "source": [
    "target_tensor # выход!"
   ]
  },
  {
   "cell_type": "code",
   "execution_count": null,
   "metadata": {
    "id": "sC3JWczCwURC"
   },
   "outputs": [],
   "source": [
    "max_length_inp, max_length_targ"
   ]
  },
  {
   "cell_type": "code",
   "execution_count": null,
   "metadata": {
    "id": "wKwg-QMrwURC"
   },
   "outputs": [],
   "source": [
    "# Дробим выборку на тренировочную и тестовую \n",
    "input_tensor_train, input_tensor_val, \\\n",
    "target_tensor_train, target_tensor_val = train_test_split(input_tensor, target_tensor, test_size=0.2)\n",
    "\n",
    "# Show length\n",
    "len(input_tensor_train), len(target_tensor_train), len(input_tensor_val), len(target_tensor_val)"
   ]
  },
  {
   "cell_type": "markdown",
   "metadata": {
    "id": "kHFbGrswwURC"
   },
   "source": [
    "Отлично! Осталя последний штрих."
   ]
  },
  {
   "cell_type": "code",
   "execution_count": null,
   "metadata": {
    "id": "xQjSSQPuwURC"
   },
   "outputs": [],
   "source": [
    "BUFFER_SIZE = len(input_tensor_train)\n",
    "BATCH_SIZE = 64\n",
    "N_BATCH = BUFFER_SIZE // BATCH_SIZE\n",
    "\n",
    "embedding_dim = 256\n",
    "units = 1024\n",
    "\n",
    "vocab_inp_size = len(inp_lang.word2idx)\n",
    "vocab_tar_size = len(targ_lang.word2idx)\n",
    "\n",
    "dataset = tf.data.Dataset.from_tensor_slices((input_tensor_train, target_tensor_train)).shuffle(BUFFER_SIZE)\n",
    "dataset = dataset.batch(BATCH_SIZE, drop_remainder=True)\n"
   ]
  },
  {
   "cell_type": "code",
   "execution_count": null,
   "metadata": {
    "id": "oeUBo6h5wURC"
   },
   "outputs": [],
   "source": [
    "dataset"
   ]
  },
  {
   "cell_type": "markdown",
   "metadata": {
    "id": "D5EW6WijwURC"
   },
   "source": [
    "# 2. Архитектура сетки\n",
    "\n",
    "Давайте реализуем автокодировщик с вниманием. \n",
    "\n",
    "<img src=\"https://raw.githubusercontent.com/tensorflow/nmt/master/nmt/g3doc/img/encdec.jpg\" width=\"500\" alt=\"attention mechanism\">\n",
    "\n",
    "Более подробно, каждая часть - рекурентная сетка: \n",
    "\n",
    "<img src=\"https://raw.githubusercontent.com/tensorflow/nmt/master/nmt/g3doc/img/seq2seq.jpg\" width=\"500\" alt=\"attention mechanism\">\n",
    "\n",
    "Применение: \n",
    "\n",
    "<img src=\"https://raw.githubusercontent.com/tensorflow/nmt/master/nmt/g3doc/img/greedy_dec.jpg\" width=\"350\" alt=\"attention mechanism\">"
   ]
  },
  {
   "cell_type": "markdown",
   "metadata": {
    "id": "rY4mjZxuwURD"
   },
   "source": [
    "Вариант архитектуры с вниманием: \n",
    "\n",
    "<img src=\"https://www.tensorflow.org/images/seq2seq/attention_mechanism.jpg\" width=\"500\" alt=\"attention mechanism\">"
   ]
  },
  {
   "cell_type": "markdown",
   "metadata": {
    "id": "fXTKhUaOwURD"
   },
   "source": [
    "Каждое предложение на входе трансформируется в скрытое представление, по которому сетка пытается построить такое же предложение на другом языке."
   ]
  },
  {
   "cell_type": "code",
   "execution_count": null,
   "metadata": {
    "id": "h6iuJ8AlwURD"
   },
   "outputs": [],
   "source": [
    "# как отдельная функция, чтобы ваше внимание обратить\n",
    "def gru(units):\n",
    "    \"\"\"\n",
    "        GRU-ячейка \n",
    "    \"\"\"\n",
    "    return tf.keras.layers.GRU(units, \n",
    "                               return_sequences=True, \n",
    "                               return_state=True, \n",
    "                               recurrent_activation='sigmoid', \n",
    "                               recurrent_initializer='glorot_uniform')"
   ]
  },
  {
   "cell_type": "code",
   "execution_count": null,
   "metadata": {
    "id": "pFZgwULAwURD"
   },
   "outputs": [],
   "source": [
    "class Encoder(tf1.keras.Model):\n",
    "    \"\"\"\n",
    "        Наш энкодер \n",
    "    \"\"\"\n",
    "    \n",
    "    def __init__(self, vocab_size, embedding_dim, enc_units, batch_sz):\n",
    "        super(Encoder, self).__init__()\n",
    "        self.batch_sz = batch_sz\n",
    "        self.enc_units = enc_units\n",
    "        \n",
    "        # фактически мы будем учит на входе эмбединг\n",
    "        self.embedding = tf.keras.layers.Embedding(vocab_size, embedding_dim)\n",
    "        self.gru = gru(self.enc_units)\n",
    "        \n",
    "    def call(self, x, hidden):\n",
    "        x = self.embedding(x)\n",
    "        \n",
    "        # а после к этому эмбедингу применять рекурентность\n",
    "        output, state = self.gru(x, initial_state = hidden)        \n",
    "        return output, state\n",
    "    \n",
    "    def initialize_hidden_state(self):\n",
    "        return tf.zeros((self.batch_sz, self.enc_units))"
   ]
  },
  {
   "cell_type": "code",
   "execution_count": null,
   "metadata": {
    "id": "Cns_Ajt-wURD"
   },
   "outputs": [],
   "source": [
    "class Decoder(tf.keras.Model):\n",
    "    \"\"\"\n",
    "        Наш декодер\n",
    "    \"\"\"\n",
    "    \n",
    "    def __init__(self, vocab_size, embedding_dim, dec_units, batch_sz):\n",
    "        super(Decoder, self).__init__()\n",
    "        self.batch_sz = batch_sz\n",
    "        self.dec_units = dec_units\n",
    "        self.embedding = tf.keras.layers.Embedding(vocab_size, embedding_dim)\n",
    "        self.gru = gru(self.dec_units)\n",
    "        self.fc = tf.keras.layers.Dense(vocab_size)\n",
    "        \n",
    "        # Веса для внимания\n",
    "        self.W1 = tf.keras.layers.Dense(self.dec_units)\n",
    "        self.W2 = tf.keras.layers.Dense(self.dec_units)\n",
    "        self.V = tf.keras.layers.Dense(1)\n",
    "        \n",
    "    def call(self, x, hidden, enc_output):\n",
    "        # enc_output shape == (batch_size, max_length, hidden_size)\n",
    "        \n",
    "        # hidden shape == (batch_size, hidden size)\n",
    "        # hidden_with_time_axis shape == (batch_size, 1, hidden size)\n",
    "        # we are doing this to perform addition to calculate the score\n",
    "        hidden_with_time_axis = tf.expand_dims(hidden, 1)\n",
    "        \n",
    "        # score shape == (batch_size, max_length, 1)\n",
    "        # we get 1 at the last axis because we are applying tanh(FC(EO) + FC(H)) to self.V\n",
    "        score = self.V(tf.nn.tanh(self.W1(enc_output) + self.W2(hidden_with_time_axis)))\n",
    "        \n",
    "        # attention_weights shape == (batch_size, max_length, 1)\n",
    "        attention_weights = tf.nn.softmax(score, axis=1)\n",
    "        \n",
    "        # context_vector shape after sum == (batch_size, hidden_size)\n",
    "        context_vector = attention_weights * enc_output\n",
    "        context_vector = tf.reduce_sum(context_vector, axis=1)\n",
    "        \n",
    "        # x shape after passing through embedding == (batch_size, 1, embedding_dim)\n",
    "        x = self.embedding(x)\n",
    "        \n",
    "        # x shape after concatenation == (batch_size, 1, embedding_dim + hidden_size)\n",
    "        x = tf.concat([tf.expand_dims(context_vector, 1), x], axis=-1)\n",
    "        \n",
    "        # passing the concatenated vector to the GRU\n",
    "        output, state = self.gru(x)\n",
    "        \n",
    "        # output shape == (batch_size * 1, hidden_size)\n",
    "        output = tf.reshape(output, (-1, output.shape[2]))\n",
    "        \n",
    "        # output shape == (batch_size * 1, vocab)\n",
    "        x = self.fc(output)\n",
    "        \n",
    "        return x, state, attention_weights\n",
    "        \n",
    "    def initialize_hidden_state(self):\n",
    "        return tf.zeros((self.batch_sz, self.dec_units))"
   ]
  },
  {
   "cell_type": "code",
   "execution_count": null,
   "metadata": {
    "id": "7AOcnRGmwURD"
   },
   "outputs": [],
   "source": [
    "# Объединяем две сетки в одну цельную архитектуру \n",
    "encoder = Encoder(vocab_inp_size, embedding_dim, units, BATCH_SIZE)\n",
    "decoder = Decoder(vocab_tar_size, embedding_dim, units, BATCH_SIZE)"
   ]
  },
  {
   "cell_type": "markdown",
   "metadata": {
    "id": "fsFAa69ewURD"
   },
   "source": [
    "Теперь оптимизатор и функция потерь."
   ]
  },
  {
   "cell_type": "code",
   "execution_count": null,
   "metadata": {
    "id": "Y3SgQrc_wURD"
   },
   "outputs": [],
   "source": [
    "optimizer = tf.train.AdamOptimizer()  # АДАМ для градиентного спуска \n",
    "\n",
    "# В качестве функции потерь будет обычная кросс-энтропия на все наши классы (слова)\n",
    "def loss_function(real, pred):\n",
    "    mask = 1 - np.equal(real, 0)\n",
    "    loss_ = tf.nn.sparse_softmax_cross_entropy_with_logits(labels=real, logits=pred) * mask\n",
    "    return tf.reduce_mean(loss_)"
   ]
  },
  {
   "cell_type": "markdown",
   "metadata": {
    "id": "RbeUlNEIwURD"
   },
   "source": [
    "Заведём специальную директорию для автосохранений по мере обучения. Комп может зависать и вырубаться, а прогресс терять на очень хочется. "
   ]
  },
  {
   "cell_type": "code",
   "execution_count": null,
   "metadata": {
    "id": "uIEtDkdqwURE"
   },
   "outputs": [],
   "source": [
    "checkpoint_dir = './training_checkpoints'\n",
    "\n",
    "checkpoint_prefix = os.path.join(checkpoint_dir, \"ckpt\")\n",
    "\n",
    "checkpoint = tf.train.Checkpoint(optimizer=optimizer,\n",
    "                                 encoder=encoder,\n",
    "                                 decoder=decoder)"
   ]
  },
  {
   "cell_type": "markdown",
   "metadata": {
    "id": "z119WGiNwURE"
   },
   "source": [
    "# 3. Обучение \n",
    "\n",
    "1. Прокручиваем *input* через  энкодер, получаем *encoder output* и *encoder hidden state*.\n",
    "2. Прогоняем через декодер *encoder output*, *encoder hidden state* и *decoder input* \n",
    "3. Декодер нам выдаёт *predictions*\n",
    "4. Расчитываем logloss, градиенты и делаем backprop"
   ]
  },
  {
   "cell_type": "code",
   "execution_count": null,
   "metadata": {
    "id": "z3gapvzTwURE"
   },
   "outputs": [],
   "source": [
    "EPOCHS = 5\n",
    "\n",
    "for epoch in range(EPOCHS):\n",
    "    start = time.time()\n",
    "    \n",
    "    hidden = encoder.initialize_hidden_state()\n",
    "    total_loss = 0\n",
    "    \n",
    "    for (batch, (inp, targ)) in enumerate(dataset):\n",
    "        loss = 0\n",
    "        \n",
    "        with tf.GradientTape() as tape:\n",
    "            enc_output, enc_hidden = encoder(inp, hidden)\n",
    "            \n",
    "            dec_hidden = enc_hidden\n",
    "            \n",
    "            dec_input = tf.expand_dims([targ_lang.word2idx['<start>']] * BATCH_SIZE, 1)       \n",
    "            \n",
    "            for t in range(1, targ.shape[1]):\n",
    "                predictions, dec_hidden, _ = decoder(dec_input, dec_hidden, enc_output)\n",
    "                \n",
    "                loss += loss_function(targ[:, t], predictions)\n",
    "                \n",
    "                dec_input = tf.expand_dims(targ[:, t], 1)\n",
    "        \n",
    "        batch_loss = (loss / int(targ.shape[1]))\n",
    "        \n",
    "        total_loss += batch_loss\n",
    "        \n",
    "        variables = encoder.variables + decoder.variables\n",
    "        \n",
    "        gradients = tape.gradient(loss, variables)\n",
    "        \n",
    "        optimizer.apply_gradients(zip(gradients, variables))\n",
    "        \n",
    "        if batch % 100 == 0:\n",
    "            print('Epoch {} Batch {} Loss {:.4f}'.format(epoch + 1,\n",
    "                                                         batch,\n",
    "                                                         batch_loss.numpy()))\n",
    "    # saving (checkpoint) the model every 2 epochs\n",
    "    if (epoch + 1) % 2 == 0:\n",
    "        checkpoint.save(file_prefix = checkpoint_prefix)\n",
    "    \n",
    "    print('Epoch {} Loss {:.4f}'.format(epoch + 1,\n",
    "                                        total_loss / N_BATCH))\n",
    "    print('Time taken for 1 epoch {} sec\\n'.format(time.time() - start))"
   ]
  },
  {
   "cell_type": "markdown",
   "metadata": {
    "id": "zWBBzdEWwURE"
   },
   "source": [
    "# 4. Переводим "
   ]
  },
  {
   "cell_type": "code",
   "execution_count": null,
   "metadata": {
    "id": "w7GvcDlTwURE"
   },
   "outputs": [],
   "source": [
    "def evaluate(sentence, encoder, decoder, inp_lang, targ_lang, max_length_inp, max_length_targ):\n",
    "    attention_plot = np.zeros((max_length_targ, max_length_inp))\n",
    "    \n",
    "    sentence = preprocess_sentence(sentence)\n",
    "\n",
    "    inputs = [inp_lang.word2idx[i] for i in sentence.split(' ')]\n",
    "    inputs = tf.keras.preprocessing.sequence.pad_sequences([inputs], maxlen=max_length_inp, padding='post')\n",
    "    inputs = tf.convert_to_tensor(inputs)\n",
    "    \n",
    "    result = ''\n",
    "\n",
    "    hidden = [tf.zeros((1, units))]\n",
    "    enc_out, enc_hidden = encoder(inputs, hidden)\n",
    "\n",
    "    dec_hidden = enc_hidden\n",
    "    dec_input = tf.expand_dims([targ_lang.word2idx['<start>']], 0)\n",
    "\n",
    "    for t in range(max_length_targ):\n",
    "        predictions, dec_hidden, attention_weights = decoder(dec_input, dec_hidden, enc_out)\n",
    "        \n",
    "        # storing the attention weights to plot later on\n",
    "        attention_weights = tf.reshape(attention_weights, (-1, ))\n",
    "        attention_plot[t] = attention_weights.numpy()\n",
    "\n",
    "        predicted_id = tf.argmax(predictions[0]).numpy()\n",
    "\n",
    "        result += targ_lang.idx2word[predicted_id] + ' '\n",
    "\n",
    "        if targ_lang.idx2word[predicted_id] == '<end>':\n",
    "            return result, sentence, attention_plot\n",
    "        \n",
    "        # the predicted ID is fed back into the model\n",
    "        dec_input = tf.expand_dims([predicted_id], 0)\n",
    "\n",
    "    return result, sentence, attention_plot"
   ]
  },
  {
   "cell_type": "code",
   "execution_count": null,
   "metadata": {
    "id": "ypCe00gJwURE"
   },
   "outputs": [],
   "source": [
    "# function for plotting the attention weights\n",
    "def plot_attention(attention, sentence, predicted_sentence):\n",
    "    fig = plt.figure(figsize=(10,10))\n",
    "    ax = fig.add_subplot(1, 1, 1)\n",
    "    ax.matshow(attention, cmap='viridis')\n",
    "    \n",
    "    fontdict = {'fontsize': 14}\n",
    "    \n",
    "    ax.set_xticklabels([''] + sentence, fontdict=fontdict, rotation=90)\n",
    "    ax.set_yticklabels([''] + predicted_sentence, fontdict=fontdict)\n",
    "\n",
    "    plt.show()"
   ]
  },
  {
   "cell_type": "code",
   "execution_count": null,
   "metadata": {
    "id": "34hi7-qawURE"
   },
   "outputs": [],
   "source": [
    "def translate(sentence, encoder, decoder, inp_lang, targ_lang, max_length_inp, max_length_targ):\n",
    "    result, sentence, attention_plot = evaluate(sentence, encoder, decoder, inp_lang, targ_lang, max_length_inp, max_length_targ)\n",
    "        \n",
    "    print('Input: {}'.format(sentence))\n",
    "    print('Predicted translation: {}'.format(result))\n",
    "    \n",
    "    attention_plot = attention_plot[:len(result.split(' ')), :len(sentence.split(' '))]\n",
    "    plot_attention(attention_plot, sentence.split(' '), result.split(' '))"
   ]
  },
  {
   "cell_type": "markdown",
   "metadata": {
    "id": "N2qMnwYOwURE"
   },
   "source": [
    "Восстанавливаем последний чекпойнт и тестируем модель. "
   ]
  },
  {
   "cell_type": "code",
   "execution_count": null,
   "metadata": {
    "id": "wL110VvEwURE"
   },
   "outputs": [],
   "source": [
    "# restoring the latest checkpoint in checkpoint_dir\n",
    "checkpoint.restore(tf.train.latest_checkpoint(checkpoint_dir))"
   ]
  },
  {
   "cell_type": "code",
   "execution_count": null,
   "metadata": {
    "id": "ZapwnOLZwURE"
   },
   "outputs": [],
   "source": [
    "translate('Я люблю тебя', encoder, decoder, inp_lang, targ_lang, max_length_inp, max_length_targ)"
   ]
  },
  {
   "cell_type": "code",
   "execution_count": null,
   "metadata": {
    "id": "nG4ccautwURF"
   },
   "outputs": [],
   "source": [
    "translate('Я правда люблю тебя.', encoder, decoder, inp_lang, targ_lang, max_length_inp, max_length_targ)"
   ]
  },
  {
   "cell_type": "code",
   "execution_count": null,
   "metadata": {
    "id": "9z7zlCG4wURF"
   },
   "outputs": [],
   "source": [
    "translate('Я люблю тебя, правда.', encoder, decoder, inp_lang, targ_lang, max_length_inp, max_length_targ)"
   ]
  },
  {
   "cell_type": "code",
   "execution_count": null,
   "metadata": {
    "id": "R8QxXD-mwURF"
   },
   "outputs": [],
   "source": [
    "# wrong translation\n",
    "translate('Ты правда меня любишь?', encoder, decoder, inp_lang, targ_lang, max_length_inp, max_length_targ)"
   ]
  }
 ],
 "metadata": {
  "colab": {
   "name": "autotranslate.ipynb",
   "provenance": []
  },
  "kernelspec": {
   "display_name": "Python 3 (ipykernel)",
   "language": "python",
   "name": "python3"
  },
  "language_info": {
   "codemirror_mode": {
    "name": "ipython",
    "version": 3
   },
   "file_extension": ".py",
   "mimetype": "text/x-python",
   "name": "python",
   "nbconvert_exporter": "python",
   "pygments_lexer": "ipython3",
   "version": "3.10.9"
  },
  "varInspector": {
   "cols": {
    "lenName": 16,
    "lenType": 16,
    "lenVar": 40
   },
   "kernels_config": {
    "python": {
     "delete_cmd_postfix": "",
     "delete_cmd_prefix": "del ",
     "library": "var_list.py",
     "varRefreshCmd": "print(var_dic_list())"
    },
    "r": {
     "delete_cmd_postfix": ") ",
     "delete_cmd_prefix": "rm(",
     "library": "var_list.r",
     "varRefreshCmd": "cat(var_dic_list()) "
    }
   },
   "types_to_exclude": [
    "module",
    "function",
    "builtin_function_or_method",
    "instance",
    "_Feature"
   ],
   "window_display": false
  }
 },
 "nbformat": 4,
 "nbformat_minor": 1
}
